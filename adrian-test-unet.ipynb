{
 "cells": [
  {
   "cell_type": "markdown",
   "metadata": {},
   "source": [
    "# 🌎 Welcome to the CSE151B Spring 2025 Climate Emulation Competition!\n",
    "\n",
    "Thank you for participating in this exciting challenge focused on building machine learning models to emulate complex climate systems.  \n",
    "This notebook is provided as a **starter template** to help you:\n",
    "\n",
    "- Understand how to load and preprocess the dataset  \n",
    "- Construct a baseline model  \n",
    "- Train and evaluate predictions using a PyTorch Lightning pipeline  \n",
    "- Format your predictions for submission to the leaderboard  \n",
    "\n",
    "You're encouraged to:\n",
    "- Build on this structure or replace it entirely\n",
    "- Try more advanced models and training strategies\n",
    "- Incorporate your own ideas to push the boundaries of what's possible\n",
    "\n",
    "If you're interested in developing within a repository structure and/or use helpful tools like configuration management (based on Hydra) and logging (with Weights & Biases), we recommend checking out the following Github repo. Such a structure can be useful when running multiple experiments and trying various research ideas.\n",
    "\n",
    "👉 [https://github.com/salvaRC/cse151b-spring2025-competition](https://github.com/salvaRC/cse151b-spring2025-competition)\n",
    "\n",
    "Good luck, have fun, and we hope you learn a lot through this process!\n"
   ]
  },
  {
   "cell_type": "markdown",
   "metadata": {},
   "source": [
    "### 📦 Install Required Libraries\n",
    "We install the necessary Python packages for data loading, deep learning, and visualization.\n"
   ]
  },
  {
   "cell_type": "code",
   "execution_count": 35,
   "metadata": {},
   "outputs": [],
   "source": [
    "!pip install xarray zarr dask lightning matplotlib wandb cftime einops --quiet\n",
    "\n",
    "import os\n",
    "from datetime import datetime\n",
    "import numpy as np\n",
    "import xarray as xr\n",
    "import dask.array as da\n",
    "import torch\n",
    "import torch.nn as nn\n",
    "import torch.optim as optim\n",
    "import matplotlib.pyplot as plt\n",
    "from torch.utils.data import Dataset, DataLoader\n",
    "import lightning.pytorch as pl\n"
   ]
  },
  {
   "cell_type": "markdown",
   "metadata": {},
   "source": [
    "### ⚙️ Configuration Setup  \n",
    "Define all model, data, and training hyperparameters in one place for easy control and reproducibility.\n",
    "\n",
    "### 📊 Data Configuration\n",
    "\n",
    "We define the dataset settings used for training and evaluation. This includes:\n",
    "\n",
    "- **`path`**: Path to the `.zarr` dataset containing monthly climate variables from CMIP6 simulations.\n",
    "- **`input_vars`**: Climate forcing variables (e.g., CO₂, CH₄) used as model inputs.\n",
    "- **`output_vars`**: Target variables to predict — surface air temperature (`tas`) and precipitation (`pr`).\n",
    "- **`target_member_id`**: Ensemble member to use from the simulations (each SSP has 3) for target variables.\n",
    "- **`train_ssps`**: SSP scenarios used for training (low to high emissions).\n",
    "- **`test_ssp`**: Scenario held out for evaluation (Must be set to SSP245).\n",
    "- **`test_months`**: Number of months to include in the test split (Must be set to 120).\n",
    "- **`batch_size`** and **`num_workers`**: Data loading parameters for PyTorch training.\n",
    "\n",
    "These settings reflect how the challenge is structured: models must learn from some emission scenarios and generalize to unseen ones.\n",
    "\n",
    "> ⚠️ **Important:** Do **not modify** the following test settings:\n",
    ">\n",
    "> - `test_ssp` must remain **`ssp245`**, which is the held-out evaluation scenario.\n",
    "> - `test_months` must be **`120`**, corresponding to the last 10 years (monthly resolution) of the scenario.\n",
    "\n"
   ]
  },
  {
   "cell_type": "code",
   "execution_count": 36,
   "metadata": {},
   "outputs": [
    {
     "data": {
      "text/plain": [
       "'/home/adapsay/teams/kaggle-group-30/CSE151B_Milestone'"
      ]
     },
     "execution_count": 36,
     "metadata": {},
     "output_type": "execute_result"
    }
   ],
   "source": [
    "%pwd"
   ]
  },
  {
   "cell_type": "code",
   "execution_count": 37,
   "metadata": {},
   "outputs": [
    {
     "name": "stderr",
     "output_type": "stream",
     "text": [
      "Seed set to 42\n"
     ]
    },
    {
     "data": {
      "text/plain": [
       "42"
      ]
     },
     "execution_count": 37,
     "metadata": {},
     "output_type": "execute_result"
    }
   ],
   "source": [
    "#NOTE Change the data directory according to where you have your zarr files stored\n",
    "config = {\n",
    "    \"data\": {\n",
    "        \"path\": \"../processed_data_cse151b_v2_corrupted_ssp245/processed_data_cse151b_v2_corrupted_ssp245.zarr\",\n",
    "        # \"path\": \"/kaggle/input/cse151b-spring2025-competition/processed_data_cse151b_v2_corrupted_ssp245/processed_data_cse151b_v2_corrupted_ssp245.zarr\",\n",
    "        \"input_vars\": [\"CO2\", \"SO2\", \"CH4\", \"BC\", \"rsdt\"],\n",
    "        \"output_vars\": [\"tas\", \"pr\"],\n",
    "        \"target_member_id\": 0,\n",
    "        \"train_ssps\": [\"ssp126\", \"ssp370\", \"ssp585\"],\n",
    "        \"test_ssp\": \"ssp245\",\n",
    "        \"test_months\": 360,\n",
    "        \"batch_size\": 64,\n",
    "        \"num_workers\": 4,\n",
    "    },\n",
    "    \"model\": {\n",
    "        \"type\": \"unet_cnn\",\n",
    "        # \"kernel_size\": 3,\n",
    "        \"init_dim\": 64,\n",
    "        # \"depth\": 4,\n",
    "        \"dropout_rate\": 0.1,\n",
    "    },\n",
    "    \"training\": {\n",
    "        \"lr\": 1e-3,\n",
    "        \"weight_decay\": 1e-4,    # ← add this line\n",
    "    },\n",
    "    \"trainer\": {\n",
    "        \"max_epochs\": 100,\n",
    "        \"accelerator\": \"auto\",\n",
    "        \"devices\": \"auto\",\n",
    "        \"precision\": 32,\n",
    "        \"deterministic\": True,\n",
    "        \"num_sanity_val_steps\": 0,\n",
    "    },\n",
    "    \"seed\": 42,\n",
    "}\n",
    "pl.seed_everything(config[\"seed\"])  # Set seed for reproducibility"
   ]
  },
  {
   "cell_type": "markdown",
   "metadata": {},
   "source": [
    "### 📊 Data Configuration"
   ]
  },
  {
   "cell_type": "code",
   "execution_count": 38,
   "metadata": {},
   "outputs": [
    {
     "data": {
      "text/html": [
       "<div><svg style=\"position: absolute; width: 0; height: 0; overflow: hidden\">\n",
       "<defs>\n",
       "<symbol id=\"icon-database\" viewBox=\"0 0 32 32\">\n",
       "<path d=\"M16 0c-8.837 0-16 2.239-16 5v4c0 2.761 7.163 5 16 5s16-2.239 16-5v-4c0-2.761-7.163-5-16-5z\"></path>\n",
       "<path d=\"M16 17c-8.837 0-16-2.239-16-5v6c0 2.761 7.163 5 16 5s16-2.239 16-5v-6c0 2.761-7.163 5-16 5z\"></path>\n",
       "<path d=\"M16 26c-8.837 0-16-2.239-16-5v6c0 2.761 7.163 5 16 5s16-2.239 16-5v-6c0 2.761-7.163 5-16 5z\"></path>\n",
       "</symbol>\n",
       "<symbol id=\"icon-file-text2\" viewBox=\"0 0 32 32\">\n",
       "<path d=\"M28.681 7.159c-0.694-0.947-1.662-2.053-2.724-3.116s-2.169-2.030-3.116-2.724c-1.612-1.182-2.393-1.319-2.841-1.319h-15.5c-1.378 0-2.5 1.121-2.5 2.5v27c0 1.378 1.122 2.5 2.5 2.5h23c1.378 0 2.5-1.122 2.5-2.5v-19.5c0-0.448-0.137-1.23-1.319-2.841zM24.543 5.457c0.959 0.959 1.712 1.825 2.268 2.543h-4.811v-4.811c0.718 0.556 1.584 1.309 2.543 2.268zM28 29.5c0 0.271-0.229 0.5-0.5 0.5h-23c-0.271 0-0.5-0.229-0.5-0.5v-27c0-0.271 0.229-0.5 0.5-0.5 0 0 15.499-0 15.5 0v7c0 0.552 0.448 1 1 1h7v19.5z\"></path>\n",
       "<path d=\"M23 26h-14c-0.552 0-1-0.448-1-1s0.448-1 1-1h14c0.552 0 1 0.448 1 1s-0.448 1-1 1z\"></path>\n",
       "<path d=\"M23 22h-14c-0.552 0-1-0.448-1-1s0.448-1 1-1h14c0.552 0 1 0.448 1 1s-0.448 1-1 1z\"></path>\n",
       "<path d=\"M23 18h-14c-0.552 0-1-0.448-1-1s0.448-1 1-1h14c0.552 0 1 0.448 1 1s-0.448 1-1 1z\"></path>\n",
       "</symbol>\n",
       "</defs>\n",
       "</svg>\n",
       "<style>/* CSS stylesheet for displaying xarray objects in jupyterlab.\n",
       " *\n",
       " */\n",
       "\n",
       ":root {\n",
       "  --xr-font-color0: var(--jp-content-font-color0, rgba(0, 0, 0, 1));\n",
       "  --xr-font-color2: var(--jp-content-font-color2, rgba(0, 0, 0, 0.54));\n",
       "  --xr-font-color3: var(--jp-content-font-color3, rgba(0, 0, 0, 0.38));\n",
       "  --xr-border-color: var(--jp-border-color2, #e0e0e0);\n",
       "  --xr-disabled-color: var(--jp-layout-color3, #bdbdbd);\n",
       "  --xr-background-color: var(--jp-layout-color0, white);\n",
       "  --xr-background-color-row-even: var(--jp-layout-color1, white);\n",
       "  --xr-background-color-row-odd: var(--jp-layout-color2, #eeeeee);\n",
       "}\n",
       "\n",
       "html[theme=\"dark\"],\n",
       "html[data-theme=\"dark\"],\n",
       "body[data-theme=\"dark\"],\n",
       "body.vscode-dark {\n",
       "  --xr-font-color0: rgba(255, 255, 255, 1);\n",
       "  --xr-font-color2: rgba(255, 255, 255, 0.54);\n",
       "  --xr-font-color3: rgba(255, 255, 255, 0.38);\n",
       "  --xr-border-color: #1f1f1f;\n",
       "  --xr-disabled-color: #515151;\n",
       "  --xr-background-color: #111111;\n",
       "  --xr-background-color-row-even: #111111;\n",
       "  --xr-background-color-row-odd: #313131;\n",
       "}\n",
       "\n",
       ".xr-wrap {\n",
       "  display: block !important;\n",
       "  min-width: 300px;\n",
       "  max-width: 700px;\n",
       "}\n",
       "\n",
       ".xr-text-repr-fallback {\n",
       "  /* fallback to plain text repr when CSS is not injected (untrusted notebook) */\n",
       "  display: none;\n",
       "}\n",
       "\n",
       ".xr-header {\n",
       "  padding-top: 6px;\n",
       "  padding-bottom: 6px;\n",
       "  margin-bottom: 4px;\n",
       "  border-bottom: solid 1px var(--xr-border-color);\n",
       "}\n",
       "\n",
       ".xr-header > div,\n",
       ".xr-header > ul {\n",
       "  display: inline;\n",
       "  margin-top: 0;\n",
       "  margin-bottom: 0;\n",
       "}\n",
       "\n",
       ".xr-obj-type,\n",
       ".xr-array-name {\n",
       "  margin-left: 2px;\n",
       "  margin-right: 10px;\n",
       "}\n",
       "\n",
       ".xr-obj-type {\n",
       "  color: var(--xr-font-color2);\n",
       "}\n",
       "\n",
       ".xr-sections {\n",
       "  padding-left: 0 !important;\n",
       "  display: grid;\n",
       "  grid-template-columns: 150px auto auto 1fr 0 20px 0 20px;\n",
       "}\n",
       "\n",
       ".xr-section-item {\n",
       "  display: contents;\n",
       "}\n",
       "\n",
       ".xr-section-item input {\n",
       "  display: inline-block;\n",
       "  opacity: 0;\n",
       "  height: 0;\n",
       "}\n",
       "\n",
       ".xr-section-item input + label {\n",
       "  color: var(--xr-disabled-color);\n",
       "}\n",
       "\n",
       ".xr-section-item input:enabled + label {\n",
       "  cursor: pointer;\n",
       "  color: var(--xr-font-color2);\n",
       "}\n",
       "\n",
       ".xr-section-item input:focus + label {\n",
       "  border: 2px solid var(--xr-font-color0);\n",
       "}\n",
       "\n",
       ".xr-section-item input:enabled + label:hover {\n",
       "  color: var(--xr-font-color0);\n",
       "}\n",
       "\n",
       ".xr-section-summary {\n",
       "  grid-column: 1;\n",
       "  color: var(--xr-font-color2);\n",
       "  font-weight: 500;\n",
       "}\n",
       "\n",
       ".xr-section-summary > span {\n",
       "  display: inline-block;\n",
       "  padding-left: 0.5em;\n",
       "}\n",
       "\n",
       ".xr-section-summary-in:disabled + label {\n",
       "  color: var(--xr-font-color2);\n",
       "}\n",
       "\n",
       ".xr-section-summary-in + label:before {\n",
       "  display: inline-block;\n",
       "  content: \"►\";\n",
       "  font-size: 11px;\n",
       "  width: 15px;\n",
       "  text-align: center;\n",
       "}\n",
       "\n",
       ".xr-section-summary-in:disabled + label:before {\n",
       "  color: var(--xr-disabled-color);\n",
       "}\n",
       "\n",
       ".xr-section-summary-in:checked + label:before {\n",
       "  content: \"▼\";\n",
       "}\n",
       "\n",
       ".xr-section-summary-in:checked + label > span {\n",
       "  display: none;\n",
       "}\n",
       "\n",
       ".xr-section-summary,\n",
       ".xr-section-inline-details {\n",
       "  padding-top: 4px;\n",
       "  padding-bottom: 4px;\n",
       "}\n",
       "\n",
       ".xr-section-inline-details {\n",
       "  grid-column: 2 / -1;\n",
       "}\n",
       "\n",
       ".xr-section-details {\n",
       "  display: none;\n",
       "  grid-column: 1 / -1;\n",
       "  margin-bottom: 5px;\n",
       "}\n",
       "\n",
       ".xr-section-summary-in:checked ~ .xr-section-details {\n",
       "  display: contents;\n",
       "}\n",
       "\n",
       ".xr-array-wrap {\n",
       "  grid-column: 1 / -1;\n",
       "  display: grid;\n",
       "  grid-template-columns: 20px auto;\n",
       "}\n",
       "\n",
       ".xr-array-wrap > label {\n",
       "  grid-column: 1;\n",
       "  vertical-align: top;\n",
       "}\n",
       "\n",
       ".xr-preview {\n",
       "  color: var(--xr-font-color3);\n",
       "}\n",
       "\n",
       ".xr-array-preview,\n",
       ".xr-array-data {\n",
       "  padding: 0 5px !important;\n",
       "  grid-column: 2;\n",
       "}\n",
       "\n",
       ".xr-array-data,\n",
       ".xr-array-in:checked ~ .xr-array-preview {\n",
       "  display: none;\n",
       "}\n",
       "\n",
       ".xr-array-in:checked ~ .xr-array-data,\n",
       ".xr-array-preview {\n",
       "  display: inline-block;\n",
       "}\n",
       "\n",
       ".xr-dim-list {\n",
       "  display: inline-block !important;\n",
       "  list-style: none;\n",
       "  padding: 0 !important;\n",
       "  margin: 0;\n",
       "}\n",
       "\n",
       ".xr-dim-list li {\n",
       "  display: inline-block;\n",
       "  padding: 0;\n",
       "  margin: 0;\n",
       "}\n",
       "\n",
       ".xr-dim-list:before {\n",
       "  content: \"(\";\n",
       "}\n",
       "\n",
       ".xr-dim-list:after {\n",
       "  content: \")\";\n",
       "}\n",
       "\n",
       ".xr-dim-list li:not(:last-child):after {\n",
       "  content: \",\";\n",
       "  padding-right: 5px;\n",
       "}\n",
       "\n",
       ".xr-has-index {\n",
       "  font-weight: bold;\n",
       "}\n",
       "\n",
       ".xr-var-list,\n",
       ".xr-var-item {\n",
       "  display: contents;\n",
       "}\n",
       "\n",
       ".xr-var-item > div,\n",
       ".xr-var-item label,\n",
       ".xr-var-item > .xr-var-name span {\n",
       "  background-color: var(--xr-background-color-row-even);\n",
       "  margin-bottom: 0;\n",
       "}\n",
       "\n",
       ".xr-var-item > .xr-var-name:hover span {\n",
       "  padding-right: 5px;\n",
       "}\n",
       "\n",
       ".xr-var-list > li:nth-child(odd) > div,\n",
       ".xr-var-list > li:nth-child(odd) > label,\n",
       ".xr-var-list > li:nth-child(odd) > .xr-var-name span {\n",
       "  background-color: var(--xr-background-color-row-odd);\n",
       "}\n",
       "\n",
       ".xr-var-name {\n",
       "  grid-column: 1;\n",
       "}\n",
       "\n",
       ".xr-var-dims {\n",
       "  grid-column: 2;\n",
       "}\n",
       "\n",
       ".xr-var-dtype {\n",
       "  grid-column: 3;\n",
       "  text-align: right;\n",
       "  color: var(--xr-font-color2);\n",
       "}\n",
       "\n",
       ".xr-var-preview {\n",
       "  grid-column: 4;\n",
       "}\n",
       "\n",
       ".xr-index-preview {\n",
       "  grid-column: 2 / 5;\n",
       "  color: var(--xr-font-color2);\n",
       "}\n",
       "\n",
       ".xr-var-name,\n",
       ".xr-var-dims,\n",
       ".xr-var-dtype,\n",
       ".xr-preview,\n",
       ".xr-attrs dt {\n",
       "  white-space: nowrap;\n",
       "  overflow: hidden;\n",
       "  text-overflow: ellipsis;\n",
       "  padding-right: 10px;\n",
       "}\n",
       "\n",
       ".xr-var-name:hover,\n",
       ".xr-var-dims:hover,\n",
       ".xr-var-dtype:hover,\n",
       ".xr-attrs dt:hover {\n",
       "  overflow: visible;\n",
       "  width: auto;\n",
       "  z-index: 1;\n",
       "}\n",
       "\n",
       ".xr-var-attrs,\n",
       ".xr-var-data,\n",
       ".xr-index-data {\n",
       "  display: none;\n",
       "  background-color: var(--xr-background-color) !important;\n",
       "  padding-bottom: 5px !important;\n",
       "}\n",
       "\n",
       ".xr-var-attrs-in:checked ~ .xr-var-attrs,\n",
       ".xr-var-data-in:checked ~ .xr-var-data,\n",
       ".xr-index-data-in:checked ~ .xr-index-data {\n",
       "  display: block;\n",
       "}\n",
       "\n",
       ".xr-var-data > table {\n",
       "  float: right;\n",
       "}\n",
       "\n",
       ".xr-var-name span,\n",
       ".xr-var-data,\n",
       ".xr-index-name div,\n",
       ".xr-index-data,\n",
       ".xr-attrs {\n",
       "  padding-left: 25px !important;\n",
       "}\n",
       "\n",
       ".xr-attrs,\n",
       ".xr-var-attrs,\n",
       ".xr-var-data,\n",
       ".xr-index-data {\n",
       "  grid-column: 1 / -1;\n",
       "}\n",
       "\n",
       "dl.xr-attrs {\n",
       "  padding: 0;\n",
       "  margin: 0;\n",
       "  display: grid;\n",
       "  grid-template-columns: 125px auto;\n",
       "}\n",
       "\n",
       ".xr-attrs dt,\n",
       ".xr-attrs dd {\n",
       "  padding: 0;\n",
       "  margin: 0;\n",
       "  float: left;\n",
       "  padding-right: 10px;\n",
       "  width: auto;\n",
       "}\n",
       "\n",
       ".xr-attrs dt {\n",
       "  font-weight: normal;\n",
       "  grid-column: 1;\n",
       "}\n",
       "\n",
       ".xr-attrs dt:hover span {\n",
       "  display: inline-block;\n",
       "  background: var(--xr-background-color);\n",
       "  padding-right: 10px;\n",
       "}\n",
       "\n",
       ".xr-attrs dd {\n",
       "  grid-column: 2;\n",
       "  white-space: pre-wrap;\n",
       "  word-break: break-all;\n",
       "}\n",
       "\n",
       ".xr-icon-database,\n",
       ".xr-icon-file-text2,\n",
       ".xr-no-icon {\n",
       "  display: inline-block;\n",
       "  vertical-align: middle;\n",
       "  width: 1em;\n",
       "  height: 1.5em !important;\n",
       "  stroke-width: 0;\n",
       "  stroke: currentColor;\n",
       "  fill: currentColor;\n",
       "}\n",
       "</style><pre class='xr-text-repr-fallback'>&lt;xarray.Dataset&gt; Size: 621MB\n",
       "Dimensions:    (ssp: 4, time: 1021, latitude: 48, longitude: 72, x: 72, y: 48,\n",
       "                member_id: 3)\n",
       "Coordinates:\n",
       "    lat        (x, y) float64 28kB dask.array&lt;chunksize=(72, 48), meta=np.ndarray&gt;\n",
       "  * latitude   (latitude) float64 384B -89.05 -85.26 -81.47 ... 85.26 89.05\n",
       "    lon        (x, y) float64 28kB dask.array&lt;chunksize=(72, 48), meta=np.ndarray&gt;\n",
       "  * longitude  (longitude) float64 576B 1.25 6.25 11.25 ... 346.2 351.2 356.2\n",
       "  * member_id  (member_id) int64 24B 0 1 2\n",
       "  * ssp        (ssp) &lt;U6 96B &#x27;ssp126&#x27; &#x27;ssp245&#x27; &#x27;ssp370&#x27; &#x27;ssp585&#x27;\n",
       "  * time       (time) object 8kB 2015-01-15 00:00:00 ... 2100-01-15 00:00:00\n",
       "  * x          (x) float64 576B 1.875 6.875 11.88 16.88 ... 346.9 351.9 356.9\n",
       "  * y          (y) float64 384B -88.59 -84.82 -81.05 ... 81.05 84.82 88.59\n",
       "Data variables:\n",
       "    BC         (ssp, time, latitude, longitude) float64 113MB dask.array&lt;chunksize=(1, 24, 48, 72), meta=np.ndarray&gt;\n",
       "    CH4        (ssp, time) float64 33kB dask.array&lt;chunksize=(1, 24), meta=np.ndarray&gt;\n",
       "    CO2        (ssp, time) float64 33kB dask.array&lt;chunksize=(1, 24), meta=np.ndarray&gt;\n",
       "    SO2        (ssp, time, latitude, longitude) float64 113MB dask.array&lt;chunksize=(1, 24, 48, 72), meta=np.ndarray&gt;\n",
       "    pr         (ssp, time, member_id, y, x) float32 169MB dask.array&lt;chunksize=(1, 24, 1, 48, 72), meta=np.ndarray&gt;\n",
       "    rsdt       (ssp, time, y, x) float32 56MB dask.array&lt;chunksize=(1, 24, 48, 72), meta=np.ndarray&gt;\n",
       "    tas        (ssp, time, member_id, y, x) float32 169MB dask.array&lt;chunksize=(1, 24, 1, 48, 72), meta=np.ndarray&gt;\n",
       "Attributes:\n",
       "    original_member_ids:  [&#x27;r10i1p1f1&#x27;, &#x27;r11i1p1f1&#x27;, &#x27;r4i1p1f1&#x27;]\n",
       "    precipitation_units:  mm/day (converted from kg m-2 s-1)\n",
       "    source:               CMIP6 data processed for CSE151B\n",
       "    ssp:                  ssp126</pre><div class='xr-wrap' style='display:none'><div class='xr-header'><div class='xr-obj-type'>xarray.Dataset</div></div><ul class='xr-sections'><li class='xr-section-item'><input id='section-be0afc57-8e21-4935-b4ec-84bc6bdc42f8' class='xr-section-summary-in' type='checkbox' disabled ><label for='section-be0afc57-8e21-4935-b4ec-84bc6bdc42f8' class='xr-section-summary'  title='Expand/collapse section'>Dimensions:</label><div class='xr-section-inline-details'><ul class='xr-dim-list'><li><span class='xr-has-index'>ssp</span>: 4</li><li><span class='xr-has-index'>time</span>: 1021</li><li><span class='xr-has-index'>latitude</span>: 48</li><li><span class='xr-has-index'>longitude</span>: 72</li><li><span class='xr-has-index'>x</span>: 72</li><li><span class='xr-has-index'>y</span>: 48</li><li><span class='xr-has-index'>member_id</span>: 3</li></ul></div><div class='xr-section-details'></div></li><li class='xr-section-item'><input id='section-565f367f-8adf-4e70-b3b1-7e058c9284a7' class='xr-section-summary-in' type='checkbox'  checked><label for='section-565f367f-8adf-4e70-b3b1-7e058c9284a7' class='xr-section-summary' >Coordinates: <span>(9)</span></label><div class='xr-section-inline-details'></div><div class='xr-section-details'><ul class='xr-var-list'><li class='xr-var-item'><div class='xr-var-name'><span>lat</span></div><div class='xr-var-dims'>(x, y)</div><div class='xr-var-dtype'>float64</div><div class='xr-var-preview xr-preview'>dask.array&lt;chunksize=(72, 48), meta=np.ndarray&gt;</div><input id='attrs-c37ca3fd-96bc-40d0-8f42-5362798dd760' class='xr-var-attrs-in' type='checkbox' disabled><label for='attrs-c37ca3fd-96bc-40d0-8f42-5362798dd760' title='Show/Hide attributes'><svg class='icon xr-icon-file-text2'><use xlink:href='#icon-file-text2'></use></svg></label><input id='data-04d1c7c0-02ef-458b-b15a-c99e557bb7a8' class='xr-var-data-in' type='checkbox'><label for='data-04d1c7c0-02ef-458b-b15a-c99e557bb7a8' title='Show/Hide data repr'><svg class='icon xr-icon-database'><use xlink:href='#icon-database'></use></svg></label><div class='xr-var-attrs'><dl class='xr-attrs'></dl></div><div class='xr-var-data'><table>\n",
       "    <tr>\n",
       "        <td>\n",
       "            <table style=\"border-collapse: collapse;\">\n",
       "                <thead>\n",
       "                    <tr>\n",
       "                        <td> </td>\n",
       "                        <th> Array </th>\n",
       "                        <th> Chunk </th>\n",
       "                    </tr>\n",
       "                </thead>\n",
       "                <tbody>\n",
       "                    \n",
       "                    <tr>\n",
       "                        <th> Bytes </th>\n",
       "                        <td> 27.00 kiB </td>\n",
       "                        <td> 27.00 kiB </td>\n",
       "                    </tr>\n",
       "                    \n",
       "                    <tr>\n",
       "                        <th> Shape </th>\n",
       "                        <td> (72, 48) </td>\n",
       "                        <td> (72, 48) </td>\n",
       "                    </tr>\n",
       "                    <tr>\n",
       "                        <th> Dask graph </th>\n",
       "                        <td colspan=\"2\"> 1 chunks in 2 graph layers </td>\n",
       "                    </tr>\n",
       "                    <tr>\n",
       "                        <th> Data type </th>\n",
       "                        <td colspan=\"2\"> float64 numpy.ndarray </td>\n",
       "                    </tr>\n",
       "                </tbody>\n",
       "            </table>\n",
       "        </td>\n",
       "        <td>\n",
       "        <svg width=\"130\" height=\"170\" style=\"stroke:rgb(0,0,0);stroke-width:1\" >\n",
       "\n",
       "  <!-- Horizontal lines -->\n",
       "  <line x1=\"0\" y1=\"0\" x2=\"80\" y2=\"0\" style=\"stroke-width:2\" />\n",
       "  <line x1=\"0\" y1=\"120\" x2=\"80\" y2=\"120\" style=\"stroke-width:2\" />\n",
       "\n",
       "  <!-- Vertical lines -->\n",
       "  <line x1=\"0\" y1=\"0\" x2=\"0\" y2=\"120\" style=\"stroke-width:2\" />\n",
       "  <line x1=\"80\" y1=\"0\" x2=\"80\" y2=\"120\" style=\"stroke-width:2\" />\n",
       "\n",
       "  <!-- Colored Rectangle -->\n",
       "  <polygon points=\"0.0,0.0 80.0,0.0 80.0,120.0 0.0,120.0\" style=\"fill:#ECB172A0;stroke-width:0\"/>\n",
       "\n",
       "  <!-- Text -->\n",
       "  <text x=\"40.000000\" y=\"140.000000\" font-size=\"1.0rem\" font-weight=\"100\" text-anchor=\"middle\" >48</text>\n",
       "  <text x=\"100.000000\" y=\"60.000000\" font-size=\"1.0rem\" font-weight=\"100\" text-anchor=\"middle\" transform=\"rotate(0,100.000000,60.000000)\">72</text>\n",
       "</svg>\n",
       "        </td>\n",
       "    </tr>\n",
       "</table></div></li><li class='xr-var-item'><div class='xr-var-name'><span class='xr-has-index'>latitude</span></div><div class='xr-var-dims'>(latitude)</div><div class='xr-var-dtype'>float64</div><div class='xr-var-preview xr-preview'>-89.05 -85.26 ... 85.26 89.05</div><input id='attrs-d1072405-dcf8-4e58-a783-8dc644e22977' class='xr-var-attrs-in' type='checkbox' ><label for='attrs-d1072405-dcf8-4e58-a783-8dc644e22977' title='Show/Hide attributes'><svg class='icon xr-icon-file-text2'><use xlink:href='#icon-file-text2'></use></svg></label><input id='data-4188275e-fcec-476f-88f2-42293aa9b340' class='xr-var-data-in' type='checkbox'><label for='data-4188275e-fcec-476f-88f2-42293aa9b340' title='Show/Hide data repr'><svg class='icon xr-icon-database'><use xlink:href='#icon-database'></use></svg></label><div class='xr-var-attrs'><dl class='xr-attrs'><dt><span>units :</span></dt><dd>degrees</dd></dl></div><div class='xr-var-data'><pre>array([-89.052632, -85.263158, -81.473684, -77.684211, -73.894737, -70.105263,\n",
       "       -66.315789, -62.526316, -58.736842, -54.947368, -51.157895, -47.368421,\n",
       "       -43.578947, -39.789474, -36.      , -32.210526, -28.421053, -24.631579,\n",
       "       -20.842105, -17.052632, -13.263158,  -9.473684,  -5.684211,  -1.894737,\n",
       "         1.894737,   5.684211,   9.473684,  13.263158,  17.052632,  20.842105,\n",
       "        24.631579,  28.421053,  32.210526,  36.      ,  39.789474,  43.578947,\n",
       "        47.368421,  51.157895,  54.947368,  58.736842,  62.526316,  66.315789,\n",
       "        70.105263,  73.894737,  77.684211,  81.473684,  85.263158,  89.052632])</pre></div></li><li class='xr-var-item'><div class='xr-var-name'><span>lon</span></div><div class='xr-var-dims'>(x, y)</div><div class='xr-var-dtype'>float64</div><div class='xr-var-preview xr-preview'>dask.array&lt;chunksize=(72, 48), meta=np.ndarray&gt;</div><input id='attrs-e7284bfc-ee7e-42f3-86df-db0e703d420c' class='xr-var-attrs-in' type='checkbox' disabled><label for='attrs-e7284bfc-ee7e-42f3-86df-db0e703d420c' title='Show/Hide attributes'><svg class='icon xr-icon-file-text2'><use xlink:href='#icon-file-text2'></use></svg></label><input id='data-d5a25a38-c243-49fc-bd7b-dbb006e63a71' class='xr-var-data-in' type='checkbox'><label for='data-d5a25a38-c243-49fc-bd7b-dbb006e63a71' title='Show/Hide data repr'><svg class='icon xr-icon-database'><use xlink:href='#icon-database'></use></svg></label><div class='xr-var-attrs'><dl class='xr-attrs'></dl></div><div class='xr-var-data'><table>\n",
       "    <tr>\n",
       "        <td>\n",
       "            <table style=\"border-collapse: collapse;\">\n",
       "                <thead>\n",
       "                    <tr>\n",
       "                        <td> </td>\n",
       "                        <th> Array </th>\n",
       "                        <th> Chunk </th>\n",
       "                    </tr>\n",
       "                </thead>\n",
       "                <tbody>\n",
       "                    \n",
       "                    <tr>\n",
       "                        <th> Bytes </th>\n",
       "                        <td> 27.00 kiB </td>\n",
       "                        <td> 27.00 kiB </td>\n",
       "                    </tr>\n",
       "                    \n",
       "                    <tr>\n",
       "                        <th> Shape </th>\n",
       "                        <td> (72, 48) </td>\n",
       "                        <td> (72, 48) </td>\n",
       "                    </tr>\n",
       "                    <tr>\n",
       "                        <th> Dask graph </th>\n",
       "                        <td colspan=\"2\"> 1 chunks in 2 graph layers </td>\n",
       "                    </tr>\n",
       "                    <tr>\n",
       "                        <th> Data type </th>\n",
       "                        <td colspan=\"2\"> float64 numpy.ndarray </td>\n",
       "                    </tr>\n",
       "                </tbody>\n",
       "            </table>\n",
       "        </td>\n",
       "        <td>\n",
       "        <svg width=\"130\" height=\"170\" style=\"stroke:rgb(0,0,0);stroke-width:1\" >\n",
       "\n",
       "  <!-- Horizontal lines -->\n",
       "  <line x1=\"0\" y1=\"0\" x2=\"80\" y2=\"0\" style=\"stroke-width:2\" />\n",
       "  <line x1=\"0\" y1=\"120\" x2=\"80\" y2=\"120\" style=\"stroke-width:2\" />\n",
       "\n",
       "  <!-- Vertical lines -->\n",
       "  <line x1=\"0\" y1=\"0\" x2=\"0\" y2=\"120\" style=\"stroke-width:2\" />\n",
       "  <line x1=\"80\" y1=\"0\" x2=\"80\" y2=\"120\" style=\"stroke-width:2\" />\n",
       "\n",
       "  <!-- Colored Rectangle -->\n",
       "  <polygon points=\"0.0,0.0 80.0,0.0 80.0,120.0 0.0,120.0\" style=\"fill:#ECB172A0;stroke-width:0\"/>\n",
       "\n",
       "  <!-- Text -->\n",
       "  <text x=\"40.000000\" y=\"140.000000\" font-size=\"1.0rem\" font-weight=\"100\" text-anchor=\"middle\" >48</text>\n",
       "  <text x=\"100.000000\" y=\"60.000000\" font-size=\"1.0rem\" font-weight=\"100\" text-anchor=\"middle\" transform=\"rotate(0,100.000000,60.000000)\">72</text>\n",
       "</svg>\n",
       "        </td>\n",
       "    </tr>\n",
       "</table></div></li><li class='xr-var-item'><div class='xr-var-name'><span class='xr-has-index'>longitude</span></div><div class='xr-var-dims'>(longitude)</div><div class='xr-var-dtype'>float64</div><div class='xr-var-preview xr-preview'>1.25 6.25 11.25 ... 351.2 356.2</div><input id='attrs-2e4b70d6-eb57-4fb2-b129-f3ee8146d719' class='xr-var-attrs-in' type='checkbox' disabled><label for='attrs-2e4b70d6-eb57-4fb2-b129-f3ee8146d719' title='Show/Hide attributes'><svg class='icon xr-icon-file-text2'><use xlink:href='#icon-file-text2'></use></svg></label><input id='data-6dc9afe2-4178-4be7-9090-b0cc3838e530' class='xr-var-data-in' type='checkbox'><label for='data-6dc9afe2-4178-4be7-9090-b0cc3838e530' title='Show/Hide data repr'><svg class='icon xr-icon-database'><use xlink:href='#icon-database'></use></svg></label><div class='xr-var-attrs'><dl class='xr-attrs'></dl></div><div class='xr-var-data'><pre>array([  1.25,   6.25,  11.25,  16.25,  21.25,  26.25,  31.25,  36.25,  41.25,\n",
       "        46.25,  51.25,  56.25,  61.25,  66.25,  71.25,  76.25,  81.25,  86.25,\n",
       "        91.25,  96.25, 101.25, 106.25, 111.25, 116.25, 121.25, 126.25, 131.25,\n",
       "       136.25, 141.25, 146.25, 151.25, 156.25, 161.25, 166.25, 171.25, 176.25,\n",
       "       181.25, 186.25, 191.25, 196.25, 201.25, 206.25, 211.25, 216.25, 221.25,\n",
       "       226.25, 231.25, 236.25, 241.25, 246.25, 251.25, 256.25, 261.25, 266.25,\n",
       "       271.25, 276.25, 281.25, 286.25, 291.25, 296.25, 301.25, 306.25, 311.25,\n",
       "       316.25, 321.25, 326.25, 331.25, 336.25, 341.25, 346.25, 351.25, 356.25])</pre></div></li><li class='xr-var-item'><div class='xr-var-name'><span class='xr-has-index'>member_id</span></div><div class='xr-var-dims'>(member_id)</div><div class='xr-var-dtype'>int64</div><div class='xr-var-preview xr-preview'>0 1 2</div><input id='attrs-05550a85-c04f-45c4-b195-4df1473004cd' class='xr-var-attrs-in' type='checkbox' disabled><label for='attrs-05550a85-c04f-45c4-b195-4df1473004cd' title='Show/Hide attributes'><svg class='icon xr-icon-file-text2'><use xlink:href='#icon-file-text2'></use></svg></label><input id='data-076d818b-6811-4d13-8c14-a707a1f426ff' class='xr-var-data-in' type='checkbox'><label for='data-076d818b-6811-4d13-8c14-a707a1f426ff' title='Show/Hide data repr'><svg class='icon xr-icon-database'><use xlink:href='#icon-database'></use></svg></label><div class='xr-var-attrs'><dl class='xr-attrs'></dl></div><div class='xr-var-data'><pre>array([0, 1, 2])</pre></div></li><li class='xr-var-item'><div class='xr-var-name'><span class='xr-has-index'>ssp</span></div><div class='xr-var-dims'>(ssp)</div><div class='xr-var-dtype'>&lt;U6</div><div class='xr-var-preview xr-preview'>&#x27;ssp126&#x27; &#x27;ssp245&#x27; &#x27;ssp370&#x27; &#x27;ssp585&#x27;</div><input id='attrs-79ee473f-77be-4b4a-9106-199b40698419' class='xr-var-attrs-in' type='checkbox' disabled><label for='attrs-79ee473f-77be-4b4a-9106-199b40698419' title='Show/Hide attributes'><svg class='icon xr-icon-file-text2'><use xlink:href='#icon-file-text2'></use></svg></label><input id='data-1544e439-fbca-4538-b318-d45ce5453b04' class='xr-var-data-in' type='checkbox'><label for='data-1544e439-fbca-4538-b318-d45ce5453b04' title='Show/Hide data repr'><svg class='icon xr-icon-database'><use xlink:href='#icon-database'></use></svg></label><div class='xr-var-attrs'><dl class='xr-attrs'></dl></div><div class='xr-var-data'><pre>array([&#x27;ssp126&#x27;, &#x27;ssp245&#x27;, &#x27;ssp370&#x27;, &#x27;ssp585&#x27;], dtype=&#x27;&lt;U6&#x27;)</pre></div></li><li class='xr-var-item'><div class='xr-var-name'><span class='xr-has-index'>time</span></div><div class='xr-var-dims'>(time)</div><div class='xr-var-dtype'>object</div><div class='xr-var-preview xr-preview'>2015-01-15 00:00:00 ... 2100-01-...</div><input id='attrs-eaac246e-81d4-4793-8fc5-c34ce770fa65' class='xr-var-attrs-in' type='checkbox' disabled><label for='attrs-eaac246e-81d4-4793-8fc5-c34ce770fa65' title='Show/Hide attributes'><svg class='icon xr-icon-file-text2'><use xlink:href='#icon-file-text2'></use></svg></label><input id='data-ce2e311d-559d-47a2-9c38-c6258e1d3dbe' class='xr-var-data-in' type='checkbox'><label for='data-ce2e311d-559d-47a2-9c38-c6258e1d3dbe' title='Show/Hide data repr'><svg class='icon xr-icon-database'><use xlink:href='#icon-database'></use></svg></label><div class='xr-var-attrs'><dl class='xr-attrs'></dl></div><div class='xr-var-data'><pre>array([cftime.DatetimeNoLeap(2015, 1, 15, 0, 0, 0, 0, has_year_zero=True),\n",
       "       cftime.DatetimeNoLeap(2015, 2, 15, 0, 0, 0, 0, has_year_zero=True),\n",
       "       cftime.DatetimeNoLeap(2015, 3, 15, 0, 0, 0, 0, has_year_zero=True), ...,\n",
       "       cftime.DatetimeNoLeap(2099, 11, 15, 0, 0, 0, 0, has_year_zero=True),\n",
       "       cftime.DatetimeNoLeap(2099, 12, 15, 0, 0, 0, 0, has_year_zero=True),\n",
       "       cftime.DatetimeNoLeap(2100, 1, 15, 0, 0, 0, 0, has_year_zero=True)],\n",
       "      dtype=object)</pre></div></li><li class='xr-var-item'><div class='xr-var-name'><span class='xr-has-index'>x</span></div><div class='xr-var-dims'>(x)</div><div class='xr-var-dtype'>float64</div><div class='xr-var-preview xr-preview'>1.875 6.875 11.88 ... 351.9 356.9</div><input id='attrs-667263ef-0aa5-4292-8c20-94f6022c3a7b' class='xr-var-attrs-in' type='checkbox' ><label for='attrs-667263ef-0aa5-4292-8c20-94f6022c3a7b' title='Show/Hide attributes'><svg class='icon xr-icon-file-text2'><use xlink:href='#icon-file-text2'></use></svg></label><input id='data-4359076f-5f62-4d1d-8026-8450277beebb' class='xr-var-data-in' type='checkbox'><label for='data-4359076f-5f62-4d1d-8026-8450277beebb' title='Show/Hide data repr'><svg class='icon xr-icon-database'><use xlink:href='#icon-database'></use></svg></label><div class='xr-var-attrs'><dl class='xr-attrs'><dt><span>axis :</span></dt><dd>X</dd><dt><span>bounds :</span></dt><dd>lon_bnds</dd><dt><span>standard_name :</span></dt><dd>longitude</dd><dt><span>title :</span></dt><dd>Longitude</dd><dt><span>type :</span></dt><dd>double</dd><dt><span>units :</span></dt><dd>degrees_east</dd><dt><span>valid_max :</span></dt><dd>360.0</dd><dt><span>valid_min :</span></dt><dd>0.0</dd></dl></div><div class='xr-var-data'><pre>array([  1.875,   6.875,  11.875,  16.875,  21.875,  26.875,  31.875,  36.875,\n",
       "        41.875,  46.875,  51.875,  56.875,  61.875,  66.875,  71.875,  76.875,\n",
       "        81.875,  86.875,  91.875,  96.875, 101.875, 106.875, 111.875, 116.875,\n",
       "       121.875, 126.875, 131.875, 136.875, 141.875, 146.875, 151.875, 156.875,\n",
       "       161.875, 166.875, 171.875, 176.875, 181.875, 186.875, 191.875, 196.875,\n",
       "       201.875, 206.875, 211.875, 216.875, 221.875, 226.875, 231.875, 236.875,\n",
       "       241.875, 246.875, 251.875, 256.875, 261.875, 266.875, 271.875, 276.875,\n",
       "       281.875, 286.875, 291.875, 296.875, 301.875, 306.875, 311.875, 316.875,\n",
       "       321.875, 326.875, 331.875, 336.875, 341.875, 346.875, 351.875, 356.875])</pre></div></li><li class='xr-var-item'><div class='xr-var-name'><span class='xr-has-index'>y</span></div><div class='xr-var-dims'>(y)</div><div class='xr-var-dtype'>float64</div><div class='xr-var-preview xr-preview'>-88.59 -84.82 ... 84.82 88.59</div><input id='attrs-02f0216e-ca6a-45f8-871e-bcaa38aa728c' class='xr-var-attrs-in' type='checkbox' ><label for='attrs-02f0216e-ca6a-45f8-871e-bcaa38aa728c' title='Show/Hide attributes'><svg class='icon xr-icon-file-text2'><use xlink:href='#icon-file-text2'></use></svg></label><input id='data-8b9b0dcb-8c37-49ee-acd7-36969caa7a19' class='xr-var-data-in' type='checkbox'><label for='data-8b9b0dcb-8c37-49ee-acd7-36969caa7a19' title='Show/Hide data repr'><svg class='icon xr-icon-database'><use xlink:href='#icon-database'></use></svg></label><div class='xr-var-attrs'><dl class='xr-attrs'><dt><span>axis :</span></dt><dd>Y</dd><dt><span>bounds :</span></dt><dd>lat_bnds</dd><dt><span>standard_name :</span></dt><dd>latitude</dd><dt><span>title :</span></dt><dd>Latitude</dd><dt><span>type :</span></dt><dd>double</dd><dt><span>units :</span></dt><dd>degrees_north</dd><dt><span>valid_max :</span></dt><dd>90.0</dd><dt><span>valid_min :</span></dt><dd>-90.0</dd></dl></div><div class='xr-var-data'><pre>array([-88.586387, -84.816754, -81.04712 , -77.277487, -73.507853, -69.73822 ,\n",
       "       -65.968586, -62.198953, -58.429319, -54.659686, -50.890052, -47.120419,\n",
       "       -43.350785, -39.581152, -35.811518, -32.041885, -28.272251, -24.502618,\n",
       "       -20.732984, -16.963351, -13.193717,  -9.424084,  -5.65445 ,  -1.884817,\n",
       "         1.884817,   5.65445 ,   9.424084,  13.193717,  16.963351,  20.732984,\n",
       "        24.502618,  28.272251,  32.041885,  35.811518,  39.581152,  43.350785,\n",
       "        47.120419,  50.890052,  54.659686,  58.429319,  62.198953,  65.968586,\n",
       "        69.73822 ,  73.507853,  77.277487,  81.04712 ,  84.816754,  88.586387])</pre></div></li></ul></div></li><li class='xr-section-item'><input id='section-74e02dcb-a5f3-4017-858e-d374a553ff7e' class='xr-section-summary-in' type='checkbox'  checked><label for='section-74e02dcb-a5f3-4017-858e-d374a553ff7e' class='xr-section-summary' >Data variables: <span>(7)</span></label><div class='xr-section-inline-details'></div><div class='xr-section-details'><ul class='xr-var-list'><li class='xr-var-item'><div class='xr-var-name'><span>BC</span></div><div class='xr-var-dims'>(ssp, time, latitude, longitude)</div><div class='xr-var-dtype'>float64</div><div class='xr-var-preview xr-preview'>dask.array&lt;chunksize=(1, 24, 48, 72), meta=np.ndarray&gt;</div><input id='attrs-503ddcff-9938-4696-a907-cf2124b04457' class='xr-var-attrs-in' type='checkbox' ><label for='attrs-503ddcff-9938-4696-a907-cf2124b04457' title='Show/Hide attributes'><svg class='icon xr-icon-file-text2'><use xlink:href='#icon-file-text2'></use></svg></label><input id='data-9c844bea-b101-43a7-8338-099817427d3c' class='xr-var-data-in' type='checkbox'><label for='data-9c844bea-b101-43a7-8338-099817427d3c' title='Show/Hide data repr'><svg class='icon xr-icon-database'><use xlink:href='#icon-database'></use></svg></label><div class='xr-var-attrs'><dl class='xr-attrs'><dt><span>regrid_method :</span></dt><dd>conservative</dd></dl></div><div class='xr-var-data'><table>\n",
       "    <tr>\n",
       "        <td>\n",
       "            <table style=\"border-collapse: collapse;\">\n",
       "                <thead>\n",
       "                    <tr>\n",
       "                        <td> </td>\n",
       "                        <th> Array </th>\n",
       "                        <th> Chunk </th>\n",
       "                    </tr>\n",
       "                </thead>\n",
       "                <tbody>\n",
       "                    \n",
       "                    <tr>\n",
       "                        <th> Bytes </th>\n",
       "                        <td> 107.68 MiB </td>\n",
       "                        <td> 648.00 kiB </td>\n",
       "                    </tr>\n",
       "                    \n",
       "                    <tr>\n",
       "                        <th> Shape </th>\n",
       "                        <td> (4, 1021, 48, 72) </td>\n",
       "                        <td> (1, 24, 48, 72) </td>\n",
       "                    </tr>\n",
       "                    <tr>\n",
       "                        <th> Dask graph </th>\n",
       "                        <td colspan=\"2\"> 172 chunks in 2 graph layers </td>\n",
       "                    </tr>\n",
       "                    <tr>\n",
       "                        <th> Data type </th>\n",
       "                        <td colspan=\"2\"> float64 numpy.ndarray </td>\n",
       "                    </tr>\n",
       "                </tbody>\n",
       "            </table>\n",
       "        </td>\n",
       "        <td>\n",
       "        <svg width=\"347\" height=\"154\" style=\"stroke:rgb(0,0,0);stroke-width:1\" >\n",
       "\n",
       "  <!-- Horizontal lines -->\n",
       "  <line x1=\"0\" y1=\"0\" x2=\"25\" y2=\"0\" style=\"stroke-width:2\" />\n",
       "  <line x1=\"0\" y1=\"25\" x2=\"25\" y2=\"25\" style=\"stroke-width:2\" />\n",
       "\n",
       "  <!-- Vertical lines -->\n",
       "  <line x1=\"0\" y1=\"0\" x2=\"0\" y2=\"25\" style=\"stroke-width:2\" />\n",
       "  <line x1=\"6\" y1=\"0\" x2=\"6\" y2=\"25\" />\n",
       "  <line x1=\"12\" y1=\"0\" x2=\"12\" y2=\"25\" />\n",
       "  <line x1=\"19\" y1=\"0\" x2=\"19\" y2=\"25\" />\n",
       "  <line x1=\"25\" y1=\"0\" x2=\"25\" y2=\"25\" style=\"stroke-width:2\" />\n",
       "\n",
       "  <!-- Colored Rectangle -->\n",
       "  <polygon points=\"0.0,0.0 25.412616514582485,0.0 25.412616514582485,25.412616514582485 0.0,25.412616514582485\" style=\"fill:#ECB172A0;stroke-width:0\"/>\n",
       "\n",
       "  <!-- Text -->\n",
       "  <text x=\"12.706308\" y=\"45.412617\" font-size=\"1.0rem\" font-weight=\"100\" text-anchor=\"middle\" >4</text>\n",
       "  <text x=\"45.412617\" y=\"12.706308\" font-size=\"1.0rem\" font-weight=\"100\" text-anchor=\"middle\" transform=\"rotate(0,45.412617,12.706308)\">1</text>\n",
       "\n",
       "\n",
       "  <!-- Horizontal lines -->\n",
       "  <line x1=\"95\" y1=\"0\" x2=\"165\" y2=\"70\" style=\"stroke-width:2\" />\n",
       "  <line x1=\"95\" y1=\"34\" x2=\"165\" y2=\"104\" style=\"stroke-width:2\" />\n",
       "\n",
       "  <!-- Vertical lines -->\n",
       "  <line x1=\"95\" y1=\"0\" x2=\"95\" y2=\"34\" style=\"stroke-width:2\" />\n",
       "  <line x1=\"96\" y1=\"1\" x2=\"96\" y2=\"35\" />\n",
       "  <line x1=\"98\" y1=\"3\" x2=\"98\" y2=\"37\" />\n",
       "  <line x1=\"101\" y1=\"6\" x2=\"101\" y2=\"40\" />\n",
       "  <line x1=\"103\" y1=\"8\" x2=\"103\" y2=\"42\" />\n",
       "  <line x1=\"104\" y1=\"9\" x2=\"104\" y2=\"44\" />\n",
       "  <line x1=\"108\" y1=\"13\" x2=\"108\" y2=\"47\" />\n",
       "  <line x1=\"109\" y1=\"14\" x2=\"109\" y2=\"49\" />\n",
       "  <line x1=\"111\" y1=\"16\" x2=\"111\" y2=\"50\" />\n",
       "  <line x1=\"114\" y1=\"19\" x2=\"114\" y2=\"54\" />\n",
       "  <line x1=\"116\" y1=\"21\" x2=\"116\" y2=\"55\" />\n",
       "  <line x1=\"118\" y1=\"23\" x2=\"118\" y2=\"57\" />\n",
       "  <line x1=\"121\" y1=\"26\" x2=\"121\" y2=\"60\" />\n",
       "  <line x1=\"123\" y1=\"28\" x2=\"123\" y2=\"62\" />\n",
       "  <line x1=\"124\" y1=\"29\" x2=\"124\" y2=\"63\" />\n",
       "  <line x1=\"128\" y1=\"33\" x2=\"128\" y2=\"67\" />\n",
       "  <line x1=\"129\" y1=\"34\" x2=\"129\" y2=\"68\" />\n",
       "  <line x1=\"131\" y1=\"36\" x2=\"131\" y2=\"70\" />\n",
       "  <line x1=\"134\" y1=\"39\" x2=\"134\" y2=\"73\" />\n",
       "  <line x1=\"136\" y1=\"41\" x2=\"136\" y2=\"75\" />\n",
       "  <line x1=\"138\" y1=\"43\" x2=\"138\" y2=\"77\" />\n",
       "  <line x1=\"141\" y1=\"46\" x2=\"141\" y2=\"80\" />\n",
       "  <line x1=\"143\" y1=\"48\" x2=\"143\" y2=\"82\" />\n",
       "  <line x1=\"144\" y1=\"49\" x2=\"144\" y2=\"83\" />\n",
       "  <line x1=\"148\" y1=\"53\" x2=\"148\" y2=\"87\" />\n",
       "  <line x1=\"149\" y1=\"54\" x2=\"149\" y2=\"88\" />\n",
       "  <line x1=\"151\" y1=\"56\" x2=\"151\" y2=\"90\" />\n",
       "  <line x1=\"154\" y1=\"59\" x2=\"154\" y2=\"93\" />\n",
       "  <line x1=\"156\" y1=\"61\" x2=\"156\" y2=\"95\" />\n",
       "  <line x1=\"158\" y1=\"63\" x2=\"158\" y2=\"97\" />\n",
       "  <line x1=\"161\" y1=\"66\" x2=\"161\" y2=\"100\" />\n",
       "  <line x1=\"163\" y1=\"68\" x2=\"163\" y2=\"102\" />\n",
       "  <line x1=\"165\" y1=\"70\" x2=\"165\" y2=\"104\" style=\"stroke-width:2\" />\n",
       "\n",
       "  <!-- Colored Rectangle -->\n",
       "  <polygon points=\"95.0,0.0 165.58823529411765,70.58823529411765 165.58823529411765,104.71179459284565 95.0,34.12355929872799\" style=\"fill:#8B4903A0;stroke-width:0\"/>\n",
       "\n",
       "  <!-- Horizontal lines -->\n",
       "  <line x1=\"95\" y1=\"0\" x2=\"131\" y2=\"0\" style=\"stroke-width:2\" />\n",
       "  <line x1=\"96\" y1=\"1\" x2=\"133\" y2=\"1\" />\n",
       "  <line x1=\"98\" y1=\"3\" x2=\"134\" y2=\"3\" />\n",
       "  <line x1=\"101\" y1=\"6\" x2=\"138\" y2=\"6\" />\n",
       "  <line x1=\"103\" y1=\"8\" x2=\"139\" y2=\"8\" />\n",
       "  <line x1=\"104\" y1=\"9\" x2=\"141\" y2=\"9\" />\n",
       "  <line x1=\"108\" y1=\"13\" x2=\"144\" y2=\"13\" />\n",
       "  <line x1=\"109\" y1=\"14\" x2=\"146\" y2=\"14\" />\n",
       "  <line x1=\"111\" y1=\"16\" x2=\"148\" y2=\"16\" />\n",
       "  <line x1=\"114\" y1=\"19\" x2=\"151\" y2=\"19\" />\n",
       "  <line x1=\"116\" y1=\"21\" x2=\"153\" y2=\"21\" />\n",
       "  <line x1=\"118\" y1=\"23\" x2=\"154\" y2=\"23\" />\n",
       "  <line x1=\"121\" y1=\"26\" x2=\"158\" y2=\"26\" />\n",
       "  <line x1=\"123\" y1=\"28\" x2=\"159\" y2=\"28\" />\n",
       "  <line x1=\"124\" y1=\"29\" x2=\"161\" y2=\"29\" />\n",
       "  <line x1=\"128\" y1=\"33\" x2=\"164\" y2=\"33\" />\n",
       "  <line x1=\"129\" y1=\"34\" x2=\"166\" y2=\"34\" />\n",
       "  <line x1=\"131\" y1=\"36\" x2=\"168\" y2=\"36\" />\n",
       "  <line x1=\"134\" y1=\"39\" x2=\"171\" y2=\"39\" />\n",
       "  <line x1=\"136\" y1=\"41\" x2=\"173\" y2=\"41\" />\n",
       "  <line x1=\"138\" y1=\"43\" x2=\"174\" y2=\"43\" />\n",
       "  <line x1=\"141\" y1=\"46\" x2=\"178\" y2=\"46\" />\n",
       "  <line x1=\"143\" y1=\"48\" x2=\"179\" y2=\"48\" />\n",
       "  <line x1=\"144\" y1=\"49\" x2=\"181\" y2=\"49\" />\n",
       "  <line x1=\"148\" y1=\"53\" x2=\"184\" y2=\"53\" />\n",
       "  <line x1=\"149\" y1=\"54\" x2=\"186\" y2=\"54\" />\n",
       "  <line x1=\"151\" y1=\"56\" x2=\"187\" y2=\"56\" />\n",
       "  <line x1=\"154\" y1=\"59\" x2=\"191\" y2=\"59\" />\n",
       "  <line x1=\"156\" y1=\"61\" x2=\"192\" y2=\"61\" />\n",
       "  <line x1=\"158\" y1=\"63\" x2=\"194\" y2=\"63\" />\n",
       "  <line x1=\"161\" y1=\"66\" x2=\"197\" y2=\"66\" />\n",
       "  <line x1=\"163\" y1=\"68\" x2=\"199\" y2=\"68\" />\n",
       "  <line x1=\"165\" y1=\"70\" x2=\"202\" y2=\"70\" style=\"stroke-width:2\" />\n",
       "\n",
       "  <!-- Vertical lines -->\n",
       "  <line x1=\"95\" y1=\"0\" x2=\"165\" y2=\"70\" style=\"stroke-width:2\" />\n",
       "  <line x1=\"131\" y1=\"0\" x2=\"202\" y2=\"70\" style=\"stroke-width:2\" />\n",
       "\n",
       "  <!-- Colored Rectangle -->\n",
       "  <polygon points=\"95.0,0.0 131.58335873970168,0.0 202.17159403381933,70.58823529411765 165.58823529411765,70.58823529411765\" style=\"fill:#8B4903A0;stroke-width:0\"/>\n",
       "\n",
       "  <!-- Horizontal lines -->\n",
       "  <line x1=\"165\" y1=\"70\" x2=\"202\" y2=\"70\" style=\"stroke-width:2\" />\n",
       "  <line x1=\"165\" y1=\"104\" x2=\"202\" y2=\"104\" style=\"stroke-width:2\" />\n",
       "\n",
       "  <!-- Vertical lines -->\n",
       "  <line x1=\"165\" y1=\"70\" x2=\"165\" y2=\"104\" style=\"stroke-width:2\" />\n",
       "  <line x1=\"202\" y1=\"70\" x2=\"202\" y2=\"104\" style=\"stroke-width:2\" />\n",
       "\n",
       "  <!-- Colored Rectangle -->\n",
       "  <polygon points=\"165.58823529411765,70.58823529411765 202.17159403381933,70.58823529411765 202.17159403381933,104.71179459284565 165.58823529411765,104.71179459284565\" style=\"fill:#ECB172A0;stroke-width:0\"/>\n",
       "\n",
       "  <!-- Text -->\n",
       "  <text x=\"183.879915\" y=\"124.711795\" font-size=\"1.0rem\" font-weight=\"100\" text-anchor=\"middle\" >72</text>\n",
       "  <text x=\"222.171594\" y=\"87.650015\" font-size=\"1.0rem\" font-weight=\"100\" text-anchor=\"middle\" transform=\"rotate(0,222.171594,87.650015)\">48</text>\n",
       "  <text x=\"120.294118\" y=\"89.417677\" font-size=\"1.0rem\" font-weight=\"100\" text-anchor=\"middle\" transform=\"rotate(45,120.294118,89.417677)\">1021</text>\n",
       "</svg>\n",
       "        </td>\n",
       "    </tr>\n",
       "</table></div></li><li class='xr-var-item'><div class='xr-var-name'><span>CH4</span></div><div class='xr-var-dims'>(ssp, time)</div><div class='xr-var-dtype'>float64</div><div class='xr-var-preview xr-preview'>dask.array&lt;chunksize=(1, 24), meta=np.ndarray&gt;</div><input id='attrs-0fe30bd0-cdce-42a3-bfe3-75b83ee4944e' class='xr-var-attrs-in' type='checkbox' disabled><label for='attrs-0fe30bd0-cdce-42a3-bfe3-75b83ee4944e' title='Show/Hide attributes'><svg class='icon xr-icon-file-text2'><use xlink:href='#icon-file-text2'></use></svg></label><input id='data-dafe193f-4e4b-43de-9b4e-57c9e170d3f3' class='xr-var-data-in' type='checkbox'><label for='data-dafe193f-4e4b-43de-9b4e-57c9e170d3f3' title='Show/Hide data repr'><svg class='icon xr-icon-database'><use xlink:href='#icon-database'></use></svg></label><div class='xr-var-attrs'><dl class='xr-attrs'></dl></div><div class='xr-var-data'><table>\n",
       "    <tr>\n",
       "        <td>\n",
       "            <table style=\"border-collapse: collapse;\">\n",
       "                <thead>\n",
       "                    <tr>\n",
       "                        <td> </td>\n",
       "                        <th> Array </th>\n",
       "                        <th> Chunk </th>\n",
       "                    </tr>\n",
       "                </thead>\n",
       "                <tbody>\n",
       "                    \n",
       "                    <tr>\n",
       "                        <th> Bytes </th>\n",
       "                        <td> 31.91 kiB </td>\n",
       "                        <td> 192 B </td>\n",
       "                    </tr>\n",
       "                    \n",
       "                    <tr>\n",
       "                        <th> Shape </th>\n",
       "                        <td> (4, 1021) </td>\n",
       "                        <td> (1, 24) </td>\n",
       "                    </tr>\n",
       "                    <tr>\n",
       "                        <th> Dask graph </th>\n",
       "                        <td colspan=\"2\"> 172 chunks in 2 graph layers </td>\n",
       "                    </tr>\n",
       "                    <tr>\n",
       "                        <th> Data type </th>\n",
       "                        <td colspan=\"2\"> float64 numpy.ndarray </td>\n",
       "                    </tr>\n",
       "                </tbody>\n",
       "            </table>\n",
       "        </td>\n",
       "        <td>\n",
       "        <svg width=\"170\" height=\"75\" style=\"stroke:rgb(0,0,0);stroke-width:1\" >\n",
       "\n",
       "  <!-- Horizontal lines -->\n",
       "  <line x1=\"0\" y1=\"0\" x2=\"120\" y2=\"0\" style=\"stroke-width:2\" />\n",
       "  <line x1=\"0\" y1=\"6\" x2=\"120\" y2=\"6\" />\n",
       "  <line x1=\"0\" y1=\"12\" x2=\"120\" y2=\"12\" />\n",
       "  <line x1=\"0\" y1=\"19\" x2=\"120\" y2=\"19\" />\n",
       "  <line x1=\"0\" y1=\"25\" x2=\"120\" y2=\"25\" style=\"stroke-width:2\" />\n",
       "\n",
       "  <!-- Vertical lines -->\n",
       "  <line x1=\"0\" y1=\"0\" x2=\"0\" y2=\"25\" style=\"stroke-width:2\" />\n",
       "  <line x1=\"5\" y1=\"0\" x2=\"5\" y2=\"25\" />\n",
       "  <line x1=\"11\" y1=\"0\" x2=\"11\" y2=\"25\" />\n",
       "  <line x1=\"16\" y1=\"0\" x2=\"16\" y2=\"25\" />\n",
       "  <line x1=\"25\" y1=\"0\" x2=\"25\" y2=\"25\" />\n",
       "  <line x1=\"31\" y1=\"0\" x2=\"31\" y2=\"25\" />\n",
       "  <line x1=\"36\" y1=\"0\" x2=\"36\" y2=\"25\" />\n",
       "  <line x1=\"42\" y1=\"0\" x2=\"42\" y2=\"25\" />\n",
       "  <line x1=\"50\" y1=\"0\" x2=\"50\" y2=\"25\" />\n",
       "  <line x1=\"56\" y1=\"0\" x2=\"56\" y2=\"25\" />\n",
       "  <line x1=\"62\" y1=\"0\" x2=\"62\" y2=\"25\" />\n",
       "  <line x1=\"67\" y1=\"0\" x2=\"67\" y2=\"25\" />\n",
       "  <line x1=\"76\" y1=\"0\" x2=\"76\" y2=\"25\" />\n",
       "  <line x1=\"81\" y1=\"0\" x2=\"81\" y2=\"25\" />\n",
       "  <line x1=\"87\" y1=\"0\" x2=\"87\" y2=\"25\" />\n",
       "  <line x1=\"93\" y1=\"0\" x2=\"93\" y2=\"25\" />\n",
       "  <line x1=\"101\" y1=\"0\" x2=\"101\" y2=\"25\" />\n",
       "  <line x1=\"107\" y1=\"0\" x2=\"107\" y2=\"25\" />\n",
       "  <line x1=\"112\" y1=\"0\" x2=\"112\" y2=\"25\" />\n",
       "  <line x1=\"120\" y1=\"0\" x2=\"120\" y2=\"25\" style=\"stroke-width:2\" />\n",
       "\n",
       "  <!-- Colored Rectangle -->\n",
       "  <polygon points=\"0.0,0.0 120.0,0.0 120.0,25.412616514582485 0.0,25.412616514582485\" style=\"fill:#8B4903A0;stroke-width:0\"/>\n",
       "\n",
       "  <!-- Text -->\n",
       "  <text x=\"60.000000\" y=\"45.412617\" font-size=\"1.0rem\" font-weight=\"100\" text-anchor=\"middle\" >1021</text>\n",
       "  <text x=\"140.000000\" y=\"12.706308\" font-size=\"1.0rem\" font-weight=\"100\" text-anchor=\"middle\" transform=\"rotate(0,140.000000,12.706308)\">4</text>\n",
       "</svg>\n",
       "        </td>\n",
       "    </tr>\n",
       "</table></div></li><li class='xr-var-item'><div class='xr-var-name'><span>CO2</span></div><div class='xr-var-dims'>(ssp, time)</div><div class='xr-var-dtype'>float64</div><div class='xr-var-preview xr-preview'>dask.array&lt;chunksize=(1, 24), meta=np.ndarray&gt;</div><input id='attrs-847187b3-fefe-4224-9aab-fe2b2f277492' class='xr-var-attrs-in' type='checkbox' disabled><label for='attrs-847187b3-fefe-4224-9aab-fe2b2f277492' title='Show/Hide attributes'><svg class='icon xr-icon-file-text2'><use xlink:href='#icon-file-text2'></use></svg></label><input id='data-169f3370-664c-4044-9fa7-ec28d43e6a7e' class='xr-var-data-in' type='checkbox'><label for='data-169f3370-664c-4044-9fa7-ec28d43e6a7e' title='Show/Hide data repr'><svg class='icon xr-icon-database'><use xlink:href='#icon-database'></use></svg></label><div class='xr-var-attrs'><dl class='xr-attrs'></dl></div><div class='xr-var-data'><table>\n",
       "    <tr>\n",
       "        <td>\n",
       "            <table style=\"border-collapse: collapse;\">\n",
       "                <thead>\n",
       "                    <tr>\n",
       "                        <td> </td>\n",
       "                        <th> Array </th>\n",
       "                        <th> Chunk </th>\n",
       "                    </tr>\n",
       "                </thead>\n",
       "                <tbody>\n",
       "                    \n",
       "                    <tr>\n",
       "                        <th> Bytes </th>\n",
       "                        <td> 31.91 kiB </td>\n",
       "                        <td> 192 B </td>\n",
       "                    </tr>\n",
       "                    \n",
       "                    <tr>\n",
       "                        <th> Shape </th>\n",
       "                        <td> (4, 1021) </td>\n",
       "                        <td> (1, 24) </td>\n",
       "                    </tr>\n",
       "                    <tr>\n",
       "                        <th> Dask graph </th>\n",
       "                        <td colspan=\"2\"> 172 chunks in 2 graph layers </td>\n",
       "                    </tr>\n",
       "                    <tr>\n",
       "                        <th> Data type </th>\n",
       "                        <td colspan=\"2\"> float64 numpy.ndarray </td>\n",
       "                    </tr>\n",
       "                </tbody>\n",
       "            </table>\n",
       "        </td>\n",
       "        <td>\n",
       "        <svg width=\"170\" height=\"75\" style=\"stroke:rgb(0,0,0);stroke-width:1\" >\n",
       "\n",
       "  <!-- Horizontal lines -->\n",
       "  <line x1=\"0\" y1=\"0\" x2=\"120\" y2=\"0\" style=\"stroke-width:2\" />\n",
       "  <line x1=\"0\" y1=\"6\" x2=\"120\" y2=\"6\" />\n",
       "  <line x1=\"0\" y1=\"12\" x2=\"120\" y2=\"12\" />\n",
       "  <line x1=\"0\" y1=\"19\" x2=\"120\" y2=\"19\" />\n",
       "  <line x1=\"0\" y1=\"25\" x2=\"120\" y2=\"25\" style=\"stroke-width:2\" />\n",
       "\n",
       "  <!-- Vertical lines -->\n",
       "  <line x1=\"0\" y1=\"0\" x2=\"0\" y2=\"25\" style=\"stroke-width:2\" />\n",
       "  <line x1=\"5\" y1=\"0\" x2=\"5\" y2=\"25\" />\n",
       "  <line x1=\"11\" y1=\"0\" x2=\"11\" y2=\"25\" />\n",
       "  <line x1=\"16\" y1=\"0\" x2=\"16\" y2=\"25\" />\n",
       "  <line x1=\"25\" y1=\"0\" x2=\"25\" y2=\"25\" />\n",
       "  <line x1=\"31\" y1=\"0\" x2=\"31\" y2=\"25\" />\n",
       "  <line x1=\"36\" y1=\"0\" x2=\"36\" y2=\"25\" />\n",
       "  <line x1=\"42\" y1=\"0\" x2=\"42\" y2=\"25\" />\n",
       "  <line x1=\"50\" y1=\"0\" x2=\"50\" y2=\"25\" />\n",
       "  <line x1=\"56\" y1=\"0\" x2=\"56\" y2=\"25\" />\n",
       "  <line x1=\"62\" y1=\"0\" x2=\"62\" y2=\"25\" />\n",
       "  <line x1=\"67\" y1=\"0\" x2=\"67\" y2=\"25\" />\n",
       "  <line x1=\"76\" y1=\"0\" x2=\"76\" y2=\"25\" />\n",
       "  <line x1=\"81\" y1=\"0\" x2=\"81\" y2=\"25\" />\n",
       "  <line x1=\"87\" y1=\"0\" x2=\"87\" y2=\"25\" />\n",
       "  <line x1=\"93\" y1=\"0\" x2=\"93\" y2=\"25\" />\n",
       "  <line x1=\"101\" y1=\"0\" x2=\"101\" y2=\"25\" />\n",
       "  <line x1=\"107\" y1=\"0\" x2=\"107\" y2=\"25\" />\n",
       "  <line x1=\"112\" y1=\"0\" x2=\"112\" y2=\"25\" />\n",
       "  <line x1=\"120\" y1=\"0\" x2=\"120\" y2=\"25\" style=\"stroke-width:2\" />\n",
       "\n",
       "  <!-- Colored Rectangle -->\n",
       "  <polygon points=\"0.0,0.0 120.0,0.0 120.0,25.412616514582485 0.0,25.412616514582485\" style=\"fill:#8B4903A0;stroke-width:0\"/>\n",
       "\n",
       "  <!-- Text -->\n",
       "  <text x=\"60.000000\" y=\"45.412617\" font-size=\"1.0rem\" font-weight=\"100\" text-anchor=\"middle\" >1021</text>\n",
       "  <text x=\"140.000000\" y=\"12.706308\" font-size=\"1.0rem\" font-weight=\"100\" text-anchor=\"middle\" transform=\"rotate(0,140.000000,12.706308)\">4</text>\n",
       "</svg>\n",
       "        </td>\n",
       "    </tr>\n",
       "</table></div></li><li class='xr-var-item'><div class='xr-var-name'><span>SO2</span></div><div class='xr-var-dims'>(ssp, time, latitude, longitude)</div><div class='xr-var-dtype'>float64</div><div class='xr-var-preview xr-preview'>dask.array&lt;chunksize=(1, 24, 48, 72), meta=np.ndarray&gt;</div><input id='attrs-2b82b2c4-8f0b-4067-a658-a01b173e3a82' class='xr-var-attrs-in' type='checkbox' ><label for='attrs-2b82b2c4-8f0b-4067-a658-a01b173e3a82' title='Show/Hide attributes'><svg class='icon xr-icon-file-text2'><use xlink:href='#icon-file-text2'></use></svg></label><input id='data-8d64831f-9643-4c6f-a4e2-60d699763406' class='xr-var-data-in' type='checkbox'><label for='data-8d64831f-9643-4c6f-a4e2-60d699763406' title='Show/Hide data repr'><svg class='icon xr-icon-database'><use xlink:href='#icon-database'></use></svg></label><div class='xr-var-attrs'><dl class='xr-attrs'><dt><span>regrid_method :</span></dt><dd>conservative</dd></dl></div><div class='xr-var-data'><table>\n",
       "    <tr>\n",
       "        <td>\n",
       "            <table style=\"border-collapse: collapse;\">\n",
       "                <thead>\n",
       "                    <tr>\n",
       "                        <td> </td>\n",
       "                        <th> Array </th>\n",
       "                        <th> Chunk </th>\n",
       "                    </tr>\n",
       "                </thead>\n",
       "                <tbody>\n",
       "                    \n",
       "                    <tr>\n",
       "                        <th> Bytes </th>\n",
       "                        <td> 107.68 MiB </td>\n",
       "                        <td> 648.00 kiB </td>\n",
       "                    </tr>\n",
       "                    \n",
       "                    <tr>\n",
       "                        <th> Shape </th>\n",
       "                        <td> (4, 1021, 48, 72) </td>\n",
       "                        <td> (1, 24, 48, 72) </td>\n",
       "                    </tr>\n",
       "                    <tr>\n",
       "                        <th> Dask graph </th>\n",
       "                        <td colspan=\"2\"> 172 chunks in 2 graph layers </td>\n",
       "                    </tr>\n",
       "                    <tr>\n",
       "                        <th> Data type </th>\n",
       "                        <td colspan=\"2\"> float64 numpy.ndarray </td>\n",
       "                    </tr>\n",
       "                </tbody>\n",
       "            </table>\n",
       "        </td>\n",
       "        <td>\n",
       "        <svg width=\"347\" height=\"154\" style=\"stroke:rgb(0,0,0);stroke-width:1\" >\n",
       "\n",
       "  <!-- Horizontal lines -->\n",
       "  <line x1=\"0\" y1=\"0\" x2=\"25\" y2=\"0\" style=\"stroke-width:2\" />\n",
       "  <line x1=\"0\" y1=\"25\" x2=\"25\" y2=\"25\" style=\"stroke-width:2\" />\n",
       "\n",
       "  <!-- Vertical lines -->\n",
       "  <line x1=\"0\" y1=\"0\" x2=\"0\" y2=\"25\" style=\"stroke-width:2\" />\n",
       "  <line x1=\"6\" y1=\"0\" x2=\"6\" y2=\"25\" />\n",
       "  <line x1=\"12\" y1=\"0\" x2=\"12\" y2=\"25\" />\n",
       "  <line x1=\"19\" y1=\"0\" x2=\"19\" y2=\"25\" />\n",
       "  <line x1=\"25\" y1=\"0\" x2=\"25\" y2=\"25\" style=\"stroke-width:2\" />\n",
       "\n",
       "  <!-- Colored Rectangle -->\n",
       "  <polygon points=\"0.0,0.0 25.412616514582485,0.0 25.412616514582485,25.412616514582485 0.0,25.412616514582485\" style=\"fill:#ECB172A0;stroke-width:0\"/>\n",
       "\n",
       "  <!-- Text -->\n",
       "  <text x=\"12.706308\" y=\"45.412617\" font-size=\"1.0rem\" font-weight=\"100\" text-anchor=\"middle\" >4</text>\n",
       "  <text x=\"45.412617\" y=\"12.706308\" font-size=\"1.0rem\" font-weight=\"100\" text-anchor=\"middle\" transform=\"rotate(0,45.412617,12.706308)\">1</text>\n",
       "\n",
       "\n",
       "  <!-- Horizontal lines -->\n",
       "  <line x1=\"95\" y1=\"0\" x2=\"165\" y2=\"70\" style=\"stroke-width:2\" />\n",
       "  <line x1=\"95\" y1=\"34\" x2=\"165\" y2=\"104\" style=\"stroke-width:2\" />\n",
       "\n",
       "  <!-- Vertical lines -->\n",
       "  <line x1=\"95\" y1=\"0\" x2=\"95\" y2=\"34\" style=\"stroke-width:2\" />\n",
       "  <line x1=\"96\" y1=\"1\" x2=\"96\" y2=\"35\" />\n",
       "  <line x1=\"98\" y1=\"3\" x2=\"98\" y2=\"37\" />\n",
       "  <line x1=\"101\" y1=\"6\" x2=\"101\" y2=\"40\" />\n",
       "  <line x1=\"103\" y1=\"8\" x2=\"103\" y2=\"42\" />\n",
       "  <line x1=\"104\" y1=\"9\" x2=\"104\" y2=\"44\" />\n",
       "  <line x1=\"108\" y1=\"13\" x2=\"108\" y2=\"47\" />\n",
       "  <line x1=\"109\" y1=\"14\" x2=\"109\" y2=\"49\" />\n",
       "  <line x1=\"111\" y1=\"16\" x2=\"111\" y2=\"50\" />\n",
       "  <line x1=\"114\" y1=\"19\" x2=\"114\" y2=\"54\" />\n",
       "  <line x1=\"116\" y1=\"21\" x2=\"116\" y2=\"55\" />\n",
       "  <line x1=\"118\" y1=\"23\" x2=\"118\" y2=\"57\" />\n",
       "  <line x1=\"121\" y1=\"26\" x2=\"121\" y2=\"60\" />\n",
       "  <line x1=\"123\" y1=\"28\" x2=\"123\" y2=\"62\" />\n",
       "  <line x1=\"124\" y1=\"29\" x2=\"124\" y2=\"63\" />\n",
       "  <line x1=\"128\" y1=\"33\" x2=\"128\" y2=\"67\" />\n",
       "  <line x1=\"129\" y1=\"34\" x2=\"129\" y2=\"68\" />\n",
       "  <line x1=\"131\" y1=\"36\" x2=\"131\" y2=\"70\" />\n",
       "  <line x1=\"134\" y1=\"39\" x2=\"134\" y2=\"73\" />\n",
       "  <line x1=\"136\" y1=\"41\" x2=\"136\" y2=\"75\" />\n",
       "  <line x1=\"138\" y1=\"43\" x2=\"138\" y2=\"77\" />\n",
       "  <line x1=\"141\" y1=\"46\" x2=\"141\" y2=\"80\" />\n",
       "  <line x1=\"143\" y1=\"48\" x2=\"143\" y2=\"82\" />\n",
       "  <line x1=\"144\" y1=\"49\" x2=\"144\" y2=\"83\" />\n",
       "  <line x1=\"148\" y1=\"53\" x2=\"148\" y2=\"87\" />\n",
       "  <line x1=\"149\" y1=\"54\" x2=\"149\" y2=\"88\" />\n",
       "  <line x1=\"151\" y1=\"56\" x2=\"151\" y2=\"90\" />\n",
       "  <line x1=\"154\" y1=\"59\" x2=\"154\" y2=\"93\" />\n",
       "  <line x1=\"156\" y1=\"61\" x2=\"156\" y2=\"95\" />\n",
       "  <line x1=\"158\" y1=\"63\" x2=\"158\" y2=\"97\" />\n",
       "  <line x1=\"161\" y1=\"66\" x2=\"161\" y2=\"100\" />\n",
       "  <line x1=\"163\" y1=\"68\" x2=\"163\" y2=\"102\" />\n",
       "  <line x1=\"165\" y1=\"70\" x2=\"165\" y2=\"104\" style=\"stroke-width:2\" />\n",
       "\n",
       "  <!-- Colored Rectangle -->\n",
       "  <polygon points=\"95.0,0.0 165.58823529411765,70.58823529411765 165.58823529411765,104.71179459284565 95.0,34.12355929872799\" style=\"fill:#8B4903A0;stroke-width:0\"/>\n",
       "\n",
       "  <!-- Horizontal lines -->\n",
       "  <line x1=\"95\" y1=\"0\" x2=\"131\" y2=\"0\" style=\"stroke-width:2\" />\n",
       "  <line x1=\"96\" y1=\"1\" x2=\"133\" y2=\"1\" />\n",
       "  <line x1=\"98\" y1=\"3\" x2=\"134\" y2=\"3\" />\n",
       "  <line x1=\"101\" y1=\"6\" x2=\"138\" y2=\"6\" />\n",
       "  <line x1=\"103\" y1=\"8\" x2=\"139\" y2=\"8\" />\n",
       "  <line x1=\"104\" y1=\"9\" x2=\"141\" y2=\"9\" />\n",
       "  <line x1=\"108\" y1=\"13\" x2=\"144\" y2=\"13\" />\n",
       "  <line x1=\"109\" y1=\"14\" x2=\"146\" y2=\"14\" />\n",
       "  <line x1=\"111\" y1=\"16\" x2=\"148\" y2=\"16\" />\n",
       "  <line x1=\"114\" y1=\"19\" x2=\"151\" y2=\"19\" />\n",
       "  <line x1=\"116\" y1=\"21\" x2=\"153\" y2=\"21\" />\n",
       "  <line x1=\"118\" y1=\"23\" x2=\"154\" y2=\"23\" />\n",
       "  <line x1=\"121\" y1=\"26\" x2=\"158\" y2=\"26\" />\n",
       "  <line x1=\"123\" y1=\"28\" x2=\"159\" y2=\"28\" />\n",
       "  <line x1=\"124\" y1=\"29\" x2=\"161\" y2=\"29\" />\n",
       "  <line x1=\"128\" y1=\"33\" x2=\"164\" y2=\"33\" />\n",
       "  <line x1=\"129\" y1=\"34\" x2=\"166\" y2=\"34\" />\n",
       "  <line x1=\"131\" y1=\"36\" x2=\"168\" y2=\"36\" />\n",
       "  <line x1=\"134\" y1=\"39\" x2=\"171\" y2=\"39\" />\n",
       "  <line x1=\"136\" y1=\"41\" x2=\"173\" y2=\"41\" />\n",
       "  <line x1=\"138\" y1=\"43\" x2=\"174\" y2=\"43\" />\n",
       "  <line x1=\"141\" y1=\"46\" x2=\"178\" y2=\"46\" />\n",
       "  <line x1=\"143\" y1=\"48\" x2=\"179\" y2=\"48\" />\n",
       "  <line x1=\"144\" y1=\"49\" x2=\"181\" y2=\"49\" />\n",
       "  <line x1=\"148\" y1=\"53\" x2=\"184\" y2=\"53\" />\n",
       "  <line x1=\"149\" y1=\"54\" x2=\"186\" y2=\"54\" />\n",
       "  <line x1=\"151\" y1=\"56\" x2=\"187\" y2=\"56\" />\n",
       "  <line x1=\"154\" y1=\"59\" x2=\"191\" y2=\"59\" />\n",
       "  <line x1=\"156\" y1=\"61\" x2=\"192\" y2=\"61\" />\n",
       "  <line x1=\"158\" y1=\"63\" x2=\"194\" y2=\"63\" />\n",
       "  <line x1=\"161\" y1=\"66\" x2=\"197\" y2=\"66\" />\n",
       "  <line x1=\"163\" y1=\"68\" x2=\"199\" y2=\"68\" />\n",
       "  <line x1=\"165\" y1=\"70\" x2=\"202\" y2=\"70\" style=\"stroke-width:2\" />\n",
       "\n",
       "  <!-- Vertical lines -->\n",
       "  <line x1=\"95\" y1=\"0\" x2=\"165\" y2=\"70\" style=\"stroke-width:2\" />\n",
       "  <line x1=\"131\" y1=\"0\" x2=\"202\" y2=\"70\" style=\"stroke-width:2\" />\n",
       "\n",
       "  <!-- Colored Rectangle -->\n",
       "  <polygon points=\"95.0,0.0 131.58335873970168,0.0 202.17159403381933,70.58823529411765 165.58823529411765,70.58823529411765\" style=\"fill:#8B4903A0;stroke-width:0\"/>\n",
       "\n",
       "  <!-- Horizontal lines -->\n",
       "  <line x1=\"165\" y1=\"70\" x2=\"202\" y2=\"70\" style=\"stroke-width:2\" />\n",
       "  <line x1=\"165\" y1=\"104\" x2=\"202\" y2=\"104\" style=\"stroke-width:2\" />\n",
       "\n",
       "  <!-- Vertical lines -->\n",
       "  <line x1=\"165\" y1=\"70\" x2=\"165\" y2=\"104\" style=\"stroke-width:2\" />\n",
       "  <line x1=\"202\" y1=\"70\" x2=\"202\" y2=\"104\" style=\"stroke-width:2\" />\n",
       "\n",
       "  <!-- Colored Rectangle -->\n",
       "  <polygon points=\"165.58823529411765,70.58823529411765 202.17159403381933,70.58823529411765 202.17159403381933,104.71179459284565 165.58823529411765,104.71179459284565\" style=\"fill:#ECB172A0;stroke-width:0\"/>\n",
       "\n",
       "  <!-- Text -->\n",
       "  <text x=\"183.879915\" y=\"124.711795\" font-size=\"1.0rem\" font-weight=\"100\" text-anchor=\"middle\" >72</text>\n",
       "  <text x=\"222.171594\" y=\"87.650015\" font-size=\"1.0rem\" font-weight=\"100\" text-anchor=\"middle\" transform=\"rotate(0,222.171594,87.650015)\">48</text>\n",
       "  <text x=\"120.294118\" y=\"89.417677\" font-size=\"1.0rem\" font-weight=\"100\" text-anchor=\"middle\" transform=\"rotate(45,120.294118,89.417677)\">1021</text>\n",
       "</svg>\n",
       "        </td>\n",
       "    </tr>\n",
       "</table></div></li><li class='xr-var-item'><div class='xr-var-name'><span>pr</span></div><div class='xr-var-dims'>(ssp, time, member_id, y, x)</div><div class='xr-var-dtype'>float32</div><div class='xr-var-preview xr-preview'>dask.array&lt;chunksize=(1, 24, 1, 48, 72), meta=np.ndarray&gt;</div><input id='attrs-7d98c6b0-b694-4c0d-acab-7184a44c8faa' class='xr-var-attrs-in' type='checkbox' ><label for='attrs-7d98c6b0-b694-4c0d-acab-7184a44c8faa' title='Show/Hide attributes'><svg class='icon xr-icon-file-text2'><use xlink:href='#icon-file-text2'></use></svg></label><input id='data-8486d3ff-5e44-4beb-834f-254292db36a2' class='xr-var-data-in' type='checkbox'><label for='data-8486d3ff-5e44-4beb-834f-254292db36a2' title='Show/Hide data repr'><svg class='icon xr-icon-database'><use xlink:href='#icon-database'></use></svg></label><div class='xr-var-attrs'><dl class='xr-attrs'><dt><span>conversion_applied :</span></dt><dd>multiplied by 86400 to convert from kg m-2 s-1 to mm/day</dd><dt><span>original_units :</span></dt><dd>kg/m²/s</dd><dt><span>units :</span></dt><dd>mm/day</dd></dl></div><div class='xr-var-data'><table>\n",
       "    <tr>\n",
       "        <td>\n",
       "            <table style=\"border-collapse: collapse;\">\n",
       "                <thead>\n",
       "                    <tr>\n",
       "                        <td> </td>\n",
       "                        <th> Array </th>\n",
       "                        <th> Chunk </th>\n",
       "                    </tr>\n",
       "                </thead>\n",
       "                <tbody>\n",
       "                    \n",
       "                    <tr>\n",
       "                        <th> Bytes </th>\n",
       "                        <td> 161.53 MiB </td>\n",
       "                        <td> 324.00 kiB </td>\n",
       "                    </tr>\n",
       "                    \n",
       "                    <tr>\n",
       "                        <th> Shape </th>\n",
       "                        <td> (4, 1021, 3, 48, 72) </td>\n",
       "                        <td> (1, 24, 1, 48, 72) </td>\n",
       "                    </tr>\n",
       "                    <tr>\n",
       "                        <th> Dask graph </th>\n",
       "                        <td colspan=\"2\"> 516 chunks in 2 graph layers </td>\n",
       "                    </tr>\n",
       "                    <tr>\n",
       "                        <th> Data type </th>\n",
       "                        <td colspan=\"2\"> float32 numpy.ndarray </td>\n",
       "                    </tr>\n",
       "                </tbody>\n",
       "            </table>\n",
       "        </td>\n",
       "        <td>\n",
       "        <svg width=\"481\" height=\"99\" style=\"stroke:rgb(0,0,0);stroke-width:1\" >\n",
       "\n",
       "  <!-- Horizontal lines -->\n",
       "  <line x1=\"0\" y1=\"0\" x2=\"120\" y2=\"0\" style=\"stroke-width:2\" />\n",
       "  <line x1=\"0\" y1=\"6\" x2=\"120\" y2=\"6\" />\n",
       "  <line x1=\"0\" y1=\"12\" x2=\"120\" y2=\"12\" />\n",
       "  <line x1=\"0\" y1=\"19\" x2=\"120\" y2=\"19\" />\n",
       "  <line x1=\"0\" y1=\"25\" x2=\"120\" y2=\"25\" style=\"stroke-width:2\" />\n",
       "\n",
       "  <!-- Vertical lines -->\n",
       "  <line x1=\"0\" y1=\"0\" x2=\"0\" y2=\"25\" style=\"stroke-width:2\" />\n",
       "  <line x1=\"2\" y1=\"0\" x2=\"2\" y2=\"25\" />\n",
       "  <line x1=\"5\" y1=\"0\" x2=\"5\" y2=\"25\" />\n",
       "  <line x1=\"11\" y1=\"0\" x2=\"11\" y2=\"25\" />\n",
       "  <line x1=\"14\" y1=\"0\" x2=\"14\" y2=\"25\" />\n",
       "  <line x1=\"16\" y1=\"0\" x2=\"16\" y2=\"25\" />\n",
       "  <line x1=\"22\" y1=\"0\" x2=\"22\" y2=\"25\" />\n",
       "  <line x1=\"25\" y1=\"0\" x2=\"25\" y2=\"25\" />\n",
       "  <line x1=\"28\" y1=\"0\" x2=\"28\" y2=\"25\" />\n",
       "  <line x1=\"33\" y1=\"0\" x2=\"33\" y2=\"25\" />\n",
       "  <line x1=\"36\" y1=\"0\" x2=\"36\" y2=\"25\" />\n",
       "  <line x1=\"39\" y1=\"0\" x2=\"39\" y2=\"25\" />\n",
       "  <line x1=\"45\" y1=\"0\" x2=\"45\" y2=\"25\" />\n",
       "  <line x1=\"47\" y1=\"0\" x2=\"47\" y2=\"25\" />\n",
       "  <line x1=\"50\" y1=\"0\" x2=\"50\" y2=\"25\" />\n",
       "  <line x1=\"56\" y1=\"0\" x2=\"56\" y2=\"25\" />\n",
       "  <line x1=\"59\" y1=\"0\" x2=\"59\" y2=\"25\" />\n",
       "  <line x1=\"62\" y1=\"0\" x2=\"62\" y2=\"25\" />\n",
       "  <line x1=\"67\" y1=\"0\" x2=\"67\" y2=\"25\" />\n",
       "  <line x1=\"70\" y1=\"0\" x2=\"70\" y2=\"25\" />\n",
       "  <line x1=\"73\" y1=\"0\" x2=\"73\" y2=\"25\" />\n",
       "  <line x1=\"78\" y1=\"0\" x2=\"78\" y2=\"25\" />\n",
       "  <line x1=\"81\" y1=\"0\" x2=\"81\" y2=\"25\" />\n",
       "  <line x1=\"84\" y1=\"0\" x2=\"84\" y2=\"25\" />\n",
       "  <line x1=\"90\" y1=\"0\" x2=\"90\" y2=\"25\" />\n",
       "  <line x1=\"93\" y1=\"0\" x2=\"93\" y2=\"25\" />\n",
       "  <line x1=\"95\" y1=\"0\" x2=\"95\" y2=\"25\" />\n",
       "  <line x1=\"101\" y1=\"0\" x2=\"101\" y2=\"25\" />\n",
       "  <line x1=\"104\" y1=\"0\" x2=\"104\" y2=\"25\" />\n",
       "  <line x1=\"107\" y1=\"0\" x2=\"107\" y2=\"25\" />\n",
       "  <line x1=\"112\" y1=\"0\" x2=\"112\" y2=\"25\" />\n",
       "  <line x1=\"115\" y1=\"0\" x2=\"115\" y2=\"25\" />\n",
       "  <line x1=\"120\" y1=\"0\" x2=\"120\" y2=\"25\" style=\"stroke-width:2\" />\n",
       "\n",
       "  <!-- Colored Rectangle -->\n",
       "  <polygon points=\"0.0,0.0 120.0,0.0 120.0,25.412616514582485 0.0,25.412616514582485\" style=\"fill:#8B4903A0;stroke-width:0\"/>\n",
       "\n",
       "  <!-- Text -->\n",
       "  <text x=\"60.000000\" y=\"45.412617\" font-size=\"1.0rem\" font-weight=\"100\" text-anchor=\"middle\" >1021</text>\n",
       "  <text x=\"140.000000\" y=\"12.706308\" font-size=\"1.0rem\" font-weight=\"100\" text-anchor=\"middle\" transform=\"rotate(0,140.000000,12.706308)\">4</text>\n",
       "\n",
       "\n",
       "  <!-- Horizontal lines -->\n",
       "  <line x1=\"190\" y1=\"0\" x2=\"204\" y2=\"14\" style=\"stroke-width:2\" />\n",
       "  <line x1=\"190\" y1=\"34\" x2=\"204\" y2=\"49\" style=\"stroke-width:2\" />\n",
       "\n",
       "  <!-- Vertical lines -->\n",
       "  <line x1=\"190\" y1=\"0\" x2=\"190\" y2=\"34\" style=\"stroke-width:2\" />\n",
       "  <line x1=\"194\" y1=\"4\" x2=\"194\" y2=\"39\" />\n",
       "  <line x1=\"199\" y1=\"9\" x2=\"199\" y2=\"44\" />\n",
       "  <line x1=\"204\" y1=\"14\" x2=\"204\" y2=\"49\" style=\"stroke-width:2\" />\n",
       "\n",
       "  <!-- Colored Rectangle -->\n",
       "  <polygon points=\"190.0,0.0 204.9485979497544,14.948597949754403 204.9485979497544,49.07215724848239 190.0,34.12355929872799\" style=\"fill:#ECB172A0;stroke-width:0\"/>\n",
       "\n",
       "  <!-- Horizontal lines -->\n",
       "  <line x1=\"190\" y1=\"0\" x2=\"226\" y2=\"0\" style=\"stroke-width:2\" />\n",
       "  <line x1=\"194\" y1=\"4\" x2=\"231\" y2=\"4\" />\n",
       "  <line x1=\"199\" y1=\"9\" x2=\"236\" y2=\"9\" />\n",
       "  <line x1=\"204\" y1=\"14\" x2=\"241\" y2=\"14\" style=\"stroke-width:2\" />\n",
       "\n",
       "  <!-- Vertical lines -->\n",
       "  <line x1=\"190\" y1=\"0\" x2=\"204\" y2=\"14\" style=\"stroke-width:2\" />\n",
       "  <line x1=\"226\" y1=\"0\" x2=\"241\" y2=\"14\" style=\"stroke-width:2\" />\n",
       "\n",
       "  <!-- Colored Rectangle -->\n",
       "  <polygon points=\"190.0,0.0 226.58335873970168,0.0 241.53195668945608,14.948597949754403 204.9485979497544,14.948597949754403\" style=\"fill:#ECB172A0;stroke-width:0\"/>\n",
       "\n",
       "  <!-- Horizontal lines -->\n",
       "  <line x1=\"204\" y1=\"14\" x2=\"241\" y2=\"14\" style=\"stroke-width:2\" />\n",
       "  <line x1=\"204\" y1=\"49\" x2=\"241\" y2=\"49\" style=\"stroke-width:2\" />\n",
       "\n",
       "  <!-- Vertical lines -->\n",
       "  <line x1=\"204\" y1=\"14\" x2=\"204\" y2=\"49\" style=\"stroke-width:2\" />\n",
       "  <line x1=\"241\" y1=\"14\" x2=\"241\" y2=\"49\" style=\"stroke-width:2\" />\n",
       "\n",
       "  <!-- Colored Rectangle -->\n",
       "  <polygon points=\"204.9485979497544,14.948597949754403 241.53195668945608,14.948597949754403 241.53195668945608,49.07215724848239 204.9485979497544,49.07215724848239\" style=\"fill:#ECB172A0;stroke-width:0\"/>\n",
       "\n",
       "  <!-- Text -->\n",
       "  <text x=\"223.240277\" y=\"69.072157\" font-size=\"1.0rem\" font-weight=\"100\" text-anchor=\"middle\" >72</text>\n",
       "  <text x=\"261.531957\" y=\"32.010378\" font-size=\"1.0rem\" font-weight=\"100\" text-anchor=\"middle\" transform=\"rotate(0,261.531957,32.010378)\">48</text>\n",
       "  <text x=\"187.474299\" y=\"61.597858\" font-size=\"1.0rem\" font-weight=\"100\" text-anchor=\"middle\" transform=\"rotate(45,187.474299,61.597858)\">3</text>\n",
       "</svg>\n",
       "        </td>\n",
       "    </tr>\n",
       "</table></div></li><li class='xr-var-item'><div class='xr-var-name'><span>rsdt</span></div><div class='xr-var-dims'>(ssp, time, y, x)</div><div class='xr-var-dtype'>float32</div><div class='xr-var-preview xr-preview'>dask.array&lt;chunksize=(1, 24, 48, 72), meta=np.ndarray&gt;</div><input id='attrs-5a1aa830-2faa-43c5-9f0f-be49bed22fe2' class='xr-var-attrs-in' type='checkbox' ><label for='attrs-5a1aa830-2faa-43c5-9f0f-be49bed22fe2' title='Show/Hide attributes'><svg class='icon xr-icon-file-text2'><use xlink:href='#icon-file-text2'></use></svg></label><input id='data-a5dff882-0c24-434c-922a-29be2685a361' class='xr-var-data-in' type='checkbox'><label for='data-a5dff882-0c24-434c-922a-29be2685a361' title='Show/Hide data repr'><svg class='icon xr-icon-database'><use xlink:href='#icon-database'></use></svg></label><div class='xr-var-attrs'><dl class='xr-attrs'><dt><span>cell_measures :</span></dt><dd>area: areacella</dd><dt><span>cell_methods :</span></dt><dd>area: time: mean</dd><dt><span>comment :</span></dt><dd>SOLIN</dd><dt><span>description :</span></dt><dd>at the top of the atmosphere</dd><dt><span>frequency :</span></dt><dd>mon</dd><dt><span>id :</span></dt><dd>rsdt</dd><dt><span>long_name :</span></dt><dd>TOA Incident Shortwave Radiation</dd><dt><span>mipTable :</span></dt><dd>Amon</dd><dt><span>out_name :</span></dt><dd>rsdt</dd><dt><span>positive :</span></dt><dd>down</dd><dt><span>prov :</span></dt><dd>Amon ((isd.003))</dd><dt><span>realm :</span></dt><dd>atmos</dd><dt><span>standard_name :</span></dt><dd>toa_incoming_shortwave_flux</dd><dt><span>time :</span></dt><dd>time</dd><dt><span>time_label :</span></dt><dd>time-mean</dd><dt><span>time_title :</span></dt><dd>Temporal mean</dd><dt><span>title :</span></dt><dd>TOA Incident Shortwave Radiation</dd><dt><span>type :</span></dt><dd>real</dd><dt><span>units :</span></dt><dd>W/m²</dd><dt><span>variable_id :</span></dt><dd>rsdt</dd></dl></div><div class='xr-var-data'><table>\n",
       "    <tr>\n",
       "        <td>\n",
       "            <table style=\"border-collapse: collapse;\">\n",
       "                <thead>\n",
       "                    <tr>\n",
       "                        <td> </td>\n",
       "                        <th> Array </th>\n",
       "                        <th> Chunk </th>\n",
       "                    </tr>\n",
       "                </thead>\n",
       "                <tbody>\n",
       "                    \n",
       "                    <tr>\n",
       "                        <th> Bytes </th>\n",
       "                        <td> 53.84 MiB </td>\n",
       "                        <td> 324.00 kiB </td>\n",
       "                    </tr>\n",
       "                    \n",
       "                    <tr>\n",
       "                        <th> Shape </th>\n",
       "                        <td> (4, 1021, 48, 72) </td>\n",
       "                        <td> (1, 24, 48, 72) </td>\n",
       "                    </tr>\n",
       "                    <tr>\n",
       "                        <th> Dask graph </th>\n",
       "                        <td colspan=\"2\"> 172 chunks in 2 graph layers </td>\n",
       "                    </tr>\n",
       "                    <tr>\n",
       "                        <th> Data type </th>\n",
       "                        <td colspan=\"2\"> float32 numpy.ndarray </td>\n",
       "                    </tr>\n",
       "                </tbody>\n",
       "            </table>\n",
       "        </td>\n",
       "        <td>\n",
       "        <svg width=\"347\" height=\"154\" style=\"stroke:rgb(0,0,0);stroke-width:1\" >\n",
       "\n",
       "  <!-- Horizontal lines -->\n",
       "  <line x1=\"0\" y1=\"0\" x2=\"25\" y2=\"0\" style=\"stroke-width:2\" />\n",
       "  <line x1=\"0\" y1=\"25\" x2=\"25\" y2=\"25\" style=\"stroke-width:2\" />\n",
       "\n",
       "  <!-- Vertical lines -->\n",
       "  <line x1=\"0\" y1=\"0\" x2=\"0\" y2=\"25\" style=\"stroke-width:2\" />\n",
       "  <line x1=\"6\" y1=\"0\" x2=\"6\" y2=\"25\" />\n",
       "  <line x1=\"12\" y1=\"0\" x2=\"12\" y2=\"25\" />\n",
       "  <line x1=\"19\" y1=\"0\" x2=\"19\" y2=\"25\" />\n",
       "  <line x1=\"25\" y1=\"0\" x2=\"25\" y2=\"25\" style=\"stroke-width:2\" />\n",
       "\n",
       "  <!-- Colored Rectangle -->\n",
       "  <polygon points=\"0.0,0.0 25.412616514582485,0.0 25.412616514582485,25.412616514582485 0.0,25.412616514582485\" style=\"fill:#ECB172A0;stroke-width:0\"/>\n",
       "\n",
       "  <!-- Text -->\n",
       "  <text x=\"12.706308\" y=\"45.412617\" font-size=\"1.0rem\" font-weight=\"100\" text-anchor=\"middle\" >4</text>\n",
       "  <text x=\"45.412617\" y=\"12.706308\" font-size=\"1.0rem\" font-weight=\"100\" text-anchor=\"middle\" transform=\"rotate(0,45.412617,12.706308)\">1</text>\n",
       "\n",
       "\n",
       "  <!-- Horizontal lines -->\n",
       "  <line x1=\"95\" y1=\"0\" x2=\"165\" y2=\"70\" style=\"stroke-width:2\" />\n",
       "  <line x1=\"95\" y1=\"34\" x2=\"165\" y2=\"104\" style=\"stroke-width:2\" />\n",
       "\n",
       "  <!-- Vertical lines -->\n",
       "  <line x1=\"95\" y1=\"0\" x2=\"95\" y2=\"34\" style=\"stroke-width:2\" />\n",
       "  <line x1=\"96\" y1=\"1\" x2=\"96\" y2=\"35\" />\n",
       "  <line x1=\"98\" y1=\"3\" x2=\"98\" y2=\"37\" />\n",
       "  <line x1=\"101\" y1=\"6\" x2=\"101\" y2=\"40\" />\n",
       "  <line x1=\"103\" y1=\"8\" x2=\"103\" y2=\"42\" />\n",
       "  <line x1=\"104\" y1=\"9\" x2=\"104\" y2=\"44\" />\n",
       "  <line x1=\"108\" y1=\"13\" x2=\"108\" y2=\"47\" />\n",
       "  <line x1=\"109\" y1=\"14\" x2=\"109\" y2=\"49\" />\n",
       "  <line x1=\"111\" y1=\"16\" x2=\"111\" y2=\"50\" />\n",
       "  <line x1=\"114\" y1=\"19\" x2=\"114\" y2=\"54\" />\n",
       "  <line x1=\"116\" y1=\"21\" x2=\"116\" y2=\"55\" />\n",
       "  <line x1=\"118\" y1=\"23\" x2=\"118\" y2=\"57\" />\n",
       "  <line x1=\"121\" y1=\"26\" x2=\"121\" y2=\"60\" />\n",
       "  <line x1=\"123\" y1=\"28\" x2=\"123\" y2=\"62\" />\n",
       "  <line x1=\"124\" y1=\"29\" x2=\"124\" y2=\"63\" />\n",
       "  <line x1=\"128\" y1=\"33\" x2=\"128\" y2=\"67\" />\n",
       "  <line x1=\"129\" y1=\"34\" x2=\"129\" y2=\"68\" />\n",
       "  <line x1=\"131\" y1=\"36\" x2=\"131\" y2=\"70\" />\n",
       "  <line x1=\"134\" y1=\"39\" x2=\"134\" y2=\"73\" />\n",
       "  <line x1=\"136\" y1=\"41\" x2=\"136\" y2=\"75\" />\n",
       "  <line x1=\"138\" y1=\"43\" x2=\"138\" y2=\"77\" />\n",
       "  <line x1=\"141\" y1=\"46\" x2=\"141\" y2=\"80\" />\n",
       "  <line x1=\"143\" y1=\"48\" x2=\"143\" y2=\"82\" />\n",
       "  <line x1=\"144\" y1=\"49\" x2=\"144\" y2=\"83\" />\n",
       "  <line x1=\"148\" y1=\"53\" x2=\"148\" y2=\"87\" />\n",
       "  <line x1=\"149\" y1=\"54\" x2=\"149\" y2=\"88\" />\n",
       "  <line x1=\"151\" y1=\"56\" x2=\"151\" y2=\"90\" />\n",
       "  <line x1=\"154\" y1=\"59\" x2=\"154\" y2=\"93\" />\n",
       "  <line x1=\"156\" y1=\"61\" x2=\"156\" y2=\"95\" />\n",
       "  <line x1=\"158\" y1=\"63\" x2=\"158\" y2=\"97\" />\n",
       "  <line x1=\"161\" y1=\"66\" x2=\"161\" y2=\"100\" />\n",
       "  <line x1=\"163\" y1=\"68\" x2=\"163\" y2=\"102\" />\n",
       "  <line x1=\"165\" y1=\"70\" x2=\"165\" y2=\"104\" style=\"stroke-width:2\" />\n",
       "\n",
       "  <!-- Colored Rectangle -->\n",
       "  <polygon points=\"95.0,0.0 165.58823529411765,70.58823529411765 165.58823529411765,104.71179459284565 95.0,34.12355929872799\" style=\"fill:#8B4903A0;stroke-width:0\"/>\n",
       "\n",
       "  <!-- Horizontal lines -->\n",
       "  <line x1=\"95\" y1=\"0\" x2=\"131\" y2=\"0\" style=\"stroke-width:2\" />\n",
       "  <line x1=\"96\" y1=\"1\" x2=\"133\" y2=\"1\" />\n",
       "  <line x1=\"98\" y1=\"3\" x2=\"134\" y2=\"3\" />\n",
       "  <line x1=\"101\" y1=\"6\" x2=\"138\" y2=\"6\" />\n",
       "  <line x1=\"103\" y1=\"8\" x2=\"139\" y2=\"8\" />\n",
       "  <line x1=\"104\" y1=\"9\" x2=\"141\" y2=\"9\" />\n",
       "  <line x1=\"108\" y1=\"13\" x2=\"144\" y2=\"13\" />\n",
       "  <line x1=\"109\" y1=\"14\" x2=\"146\" y2=\"14\" />\n",
       "  <line x1=\"111\" y1=\"16\" x2=\"148\" y2=\"16\" />\n",
       "  <line x1=\"114\" y1=\"19\" x2=\"151\" y2=\"19\" />\n",
       "  <line x1=\"116\" y1=\"21\" x2=\"153\" y2=\"21\" />\n",
       "  <line x1=\"118\" y1=\"23\" x2=\"154\" y2=\"23\" />\n",
       "  <line x1=\"121\" y1=\"26\" x2=\"158\" y2=\"26\" />\n",
       "  <line x1=\"123\" y1=\"28\" x2=\"159\" y2=\"28\" />\n",
       "  <line x1=\"124\" y1=\"29\" x2=\"161\" y2=\"29\" />\n",
       "  <line x1=\"128\" y1=\"33\" x2=\"164\" y2=\"33\" />\n",
       "  <line x1=\"129\" y1=\"34\" x2=\"166\" y2=\"34\" />\n",
       "  <line x1=\"131\" y1=\"36\" x2=\"168\" y2=\"36\" />\n",
       "  <line x1=\"134\" y1=\"39\" x2=\"171\" y2=\"39\" />\n",
       "  <line x1=\"136\" y1=\"41\" x2=\"173\" y2=\"41\" />\n",
       "  <line x1=\"138\" y1=\"43\" x2=\"174\" y2=\"43\" />\n",
       "  <line x1=\"141\" y1=\"46\" x2=\"178\" y2=\"46\" />\n",
       "  <line x1=\"143\" y1=\"48\" x2=\"179\" y2=\"48\" />\n",
       "  <line x1=\"144\" y1=\"49\" x2=\"181\" y2=\"49\" />\n",
       "  <line x1=\"148\" y1=\"53\" x2=\"184\" y2=\"53\" />\n",
       "  <line x1=\"149\" y1=\"54\" x2=\"186\" y2=\"54\" />\n",
       "  <line x1=\"151\" y1=\"56\" x2=\"187\" y2=\"56\" />\n",
       "  <line x1=\"154\" y1=\"59\" x2=\"191\" y2=\"59\" />\n",
       "  <line x1=\"156\" y1=\"61\" x2=\"192\" y2=\"61\" />\n",
       "  <line x1=\"158\" y1=\"63\" x2=\"194\" y2=\"63\" />\n",
       "  <line x1=\"161\" y1=\"66\" x2=\"197\" y2=\"66\" />\n",
       "  <line x1=\"163\" y1=\"68\" x2=\"199\" y2=\"68\" />\n",
       "  <line x1=\"165\" y1=\"70\" x2=\"202\" y2=\"70\" style=\"stroke-width:2\" />\n",
       "\n",
       "  <!-- Vertical lines -->\n",
       "  <line x1=\"95\" y1=\"0\" x2=\"165\" y2=\"70\" style=\"stroke-width:2\" />\n",
       "  <line x1=\"131\" y1=\"0\" x2=\"202\" y2=\"70\" style=\"stroke-width:2\" />\n",
       "\n",
       "  <!-- Colored Rectangle -->\n",
       "  <polygon points=\"95.0,0.0 131.58335873970168,0.0 202.17159403381933,70.58823529411765 165.58823529411765,70.58823529411765\" style=\"fill:#8B4903A0;stroke-width:0\"/>\n",
       "\n",
       "  <!-- Horizontal lines -->\n",
       "  <line x1=\"165\" y1=\"70\" x2=\"202\" y2=\"70\" style=\"stroke-width:2\" />\n",
       "  <line x1=\"165\" y1=\"104\" x2=\"202\" y2=\"104\" style=\"stroke-width:2\" />\n",
       "\n",
       "  <!-- Vertical lines -->\n",
       "  <line x1=\"165\" y1=\"70\" x2=\"165\" y2=\"104\" style=\"stroke-width:2\" />\n",
       "  <line x1=\"202\" y1=\"70\" x2=\"202\" y2=\"104\" style=\"stroke-width:2\" />\n",
       "\n",
       "  <!-- Colored Rectangle -->\n",
       "  <polygon points=\"165.58823529411765,70.58823529411765 202.17159403381933,70.58823529411765 202.17159403381933,104.71179459284565 165.58823529411765,104.71179459284565\" style=\"fill:#ECB172A0;stroke-width:0\"/>\n",
       "\n",
       "  <!-- Text -->\n",
       "  <text x=\"183.879915\" y=\"124.711795\" font-size=\"1.0rem\" font-weight=\"100\" text-anchor=\"middle\" >72</text>\n",
       "  <text x=\"222.171594\" y=\"87.650015\" font-size=\"1.0rem\" font-weight=\"100\" text-anchor=\"middle\" transform=\"rotate(0,222.171594,87.650015)\">48</text>\n",
       "  <text x=\"120.294118\" y=\"89.417677\" font-size=\"1.0rem\" font-weight=\"100\" text-anchor=\"middle\" transform=\"rotate(45,120.294118,89.417677)\">1021</text>\n",
       "</svg>\n",
       "        </td>\n",
       "    </tr>\n",
       "</table></div></li><li class='xr-var-item'><div class='xr-var-name'><span>tas</span></div><div class='xr-var-dims'>(ssp, time, member_id, y, x)</div><div class='xr-var-dtype'>float32</div><div class='xr-var-preview xr-preview'>dask.array&lt;chunksize=(1, 24, 1, 48, 72), meta=np.ndarray&gt;</div><input id='attrs-92b14d84-874d-4d06-b793-8c19fc74866f' class='xr-var-attrs-in' type='checkbox' ><label for='attrs-92b14d84-874d-4d06-b793-8c19fc74866f' title='Show/Hide attributes'><svg class='icon xr-icon-file-text2'><use xlink:href='#icon-file-text2'></use></svg></label><input id='data-30980a66-06fc-40ce-9fc0-b4b0d9d2b984' class='xr-var-data-in' type='checkbox'><label for='data-30980a66-06fc-40ce-9fc0-b4b0d9d2b984' title='Show/Hide data repr'><svg class='icon xr-icon-database'><use xlink:href='#icon-database'></use></svg></label><div class='xr-var-attrs'><dl class='xr-attrs'><dt><span>cell_measures :</span></dt><dd>area: areacella</dd><dt><span>cell_methods :</span></dt><dd>area: time: mean</dd><dt><span>comment :</span></dt><dd>TREFHT</dd><dt><span>description :</span></dt><dd>near-surface (usually, 2 meter) air temperature</dd><dt><span>frequency :</span></dt><dd>day</dd><dt><span>id :</span></dt><dd>tas</dd><dt><span>long_name :</span></dt><dd>Near-Surface Air Temperature</dd><dt><span>mipTable :</span></dt><dd>day</dd><dt><span>out_name :</span></dt><dd>tas</dd><dt><span>prov :</span></dt><dd>day ((isd.003))</dd><dt><span>realm :</span></dt><dd>atmos</dd><dt><span>standard_name :</span></dt><dd>air_temperature</dd><dt><span>time :</span></dt><dd>time</dd><dt><span>time_label :</span></dt><dd>time-mean</dd><dt><span>time_title :</span></dt><dd>Temporal mean</dd><dt><span>title :</span></dt><dd>Near-Surface Air Temperature</dd><dt><span>type :</span></dt><dd>real</dd><dt><span>units :</span></dt><dd>K</dd><dt><span>variable_id :</span></dt><dd>tas</dd></dl></div><div class='xr-var-data'><table>\n",
       "    <tr>\n",
       "        <td>\n",
       "            <table style=\"border-collapse: collapse;\">\n",
       "                <thead>\n",
       "                    <tr>\n",
       "                        <td> </td>\n",
       "                        <th> Array </th>\n",
       "                        <th> Chunk </th>\n",
       "                    </tr>\n",
       "                </thead>\n",
       "                <tbody>\n",
       "                    \n",
       "                    <tr>\n",
       "                        <th> Bytes </th>\n",
       "                        <td> 161.53 MiB </td>\n",
       "                        <td> 324.00 kiB </td>\n",
       "                    </tr>\n",
       "                    \n",
       "                    <tr>\n",
       "                        <th> Shape </th>\n",
       "                        <td> (4, 1021, 3, 48, 72) </td>\n",
       "                        <td> (1, 24, 1, 48, 72) </td>\n",
       "                    </tr>\n",
       "                    <tr>\n",
       "                        <th> Dask graph </th>\n",
       "                        <td colspan=\"2\"> 516 chunks in 2 graph layers </td>\n",
       "                    </tr>\n",
       "                    <tr>\n",
       "                        <th> Data type </th>\n",
       "                        <td colspan=\"2\"> float32 numpy.ndarray </td>\n",
       "                    </tr>\n",
       "                </tbody>\n",
       "            </table>\n",
       "        </td>\n",
       "        <td>\n",
       "        <svg width=\"481\" height=\"99\" style=\"stroke:rgb(0,0,0);stroke-width:1\" >\n",
       "\n",
       "  <!-- Horizontal lines -->\n",
       "  <line x1=\"0\" y1=\"0\" x2=\"120\" y2=\"0\" style=\"stroke-width:2\" />\n",
       "  <line x1=\"0\" y1=\"6\" x2=\"120\" y2=\"6\" />\n",
       "  <line x1=\"0\" y1=\"12\" x2=\"120\" y2=\"12\" />\n",
       "  <line x1=\"0\" y1=\"19\" x2=\"120\" y2=\"19\" />\n",
       "  <line x1=\"0\" y1=\"25\" x2=\"120\" y2=\"25\" style=\"stroke-width:2\" />\n",
       "\n",
       "  <!-- Vertical lines -->\n",
       "  <line x1=\"0\" y1=\"0\" x2=\"0\" y2=\"25\" style=\"stroke-width:2\" />\n",
       "  <line x1=\"2\" y1=\"0\" x2=\"2\" y2=\"25\" />\n",
       "  <line x1=\"5\" y1=\"0\" x2=\"5\" y2=\"25\" />\n",
       "  <line x1=\"11\" y1=\"0\" x2=\"11\" y2=\"25\" />\n",
       "  <line x1=\"14\" y1=\"0\" x2=\"14\" y2=\"25\" />\n",
       "  <line x1=\"16\" y1=\"0\" x2=\"16\" y2=\"25\" />\n",
       "  <line x1=\"22\" y1=\"0\" x2=\"22\" y2=\"25\" />\n",
       "  <line x1=\"25\" y1=\"0\" x2=\"25\" y2=\"25\" />\n",
       "  <line x1=\"28\" y1=\"0\" x2=\"28\" y2=\"25\" />\n",
       "  <line x1=\"33\" y1=\"0\" x2=\"33\" y2=\"25\" />\n",
       "  <line x1=\"36\" y1=\"0\" x2=\"36\" y2=\"25\" />\n",
       "  <line x1=\"39\" y1=\"0\" x2=\"39\" y2=\"25\" />\n",
       "  <line x1=\"45\" y1=\"0\" x2=\"45\" y2=\"25\" />\n",
       "  <line x1=\"47\" y1=\"0\" x2=\"47\" y2=\"25\" />\n",
       "  <line x1=\"50\" y1=\"0\" x2=\"50\" y2=\"25\" />\n",
       "  <line x1=\"56\" y1=\"0\" x2=\"56\" y2=\"25\" />\n",
       "  <line x1=\"59\" y1=\"0\" x2=\"59\" y2=\"25\" />\n",
       "  <line x1=\"62\" y1=\"0\" x2=\"62\" y2=\"25\" />\n",
       "  <line x1=\"67\" y1=\"0\" x2=\"67\" y2=\"25\" />\n",
       "  <line x1=\"70\" y1=\"0\" x2=\"70\" y2=\"25\" />\n",
       "  <line x1=\"73\" y1=\"0\" x2=\"73\" y2=\"25\" />\n",
       "  <line x1=\"78\" y1=\"0\" x2=\"78\" y2=\"25\" />\n",
       "  <line x1=\"81\" y1=\"0\" x2=\"81\" y2=\"25\" />\n",
       "  <line x1=\"84\" y1=\"0\" x2=\"84\" y2=\"25\" />\n",
       "  <line x1=\"90\" y1=\"0\" x2=\"90\" y2=\"25\" />\n",
       "  <line x1=\"93\" y1=\"0\" x2=\"93\" y2=\"25\" />\n",
       "  <line x1=\"95\" y1=\"0\" x2=\"95\" y2=\"25\" />\n",
       "  <line x1=\"101\" y1=\"0\" x2=\"101\" y2=\"25\" />\n",
       "  <line x1=\"104\" y1=\"0\" x2=\"104\" y2=\"25\" />\n",
       "  <line x1=\"107\" y1=\"0\" x2=\"107\" y2=\"25\" />\n",
       "  <line x1=\"112\" y1=\"0\" x2=\"112\" y2=\"25\" />\n",
       "  <line x1=\"115\" y1=\"0\" x2=\"115\" y2=\"25\" />\n",
       "  <line x1=\"120\" y1=\"0\" x2=\"120\" y2=\"25\" style=\"stroke-width:2\" />\n",
       "\n",
       "  <!-- Colored Rectangle -->\n",
       "  <polygon points=\"0.0,0.0 120.0,0.0 120.0,25.412616514582485 0.0,25.412616514582485\" style=\"fill:#8B4903A0;stroke-width:0\"/>\n",
       "\n",
       "  <!-- Text -->\n",
       "  <text x=\"60.000000\" y=\"45.412617\" font-size=\"1.0rem\" font-weight=\"100\" text-anchor=\"middle\" >1021</text>\n",
       "  <text x=\"140.000000\" y=\"12.706308\" font-size=\"1.0rem\" font-weight=\"100\" text-anchor=\"middle\" transform=\"rotate(0,140.000000,12.706308)\">4</text>\n",
       "\n",
       "\n",
       "  <!-- Horizontal lines -->\n",
       "  <line x1=\"190\" y1=\"0\" x2=\"204\" y2=\"14\" style=\"stroke-width:2\" />\n",
       "  <line x1=\"190\" y1=\"34\" x2=\"204\" y2=\"49\" style=\"stroke-width:2\" />\n",
       "\n",
       "  <!-- Vertical lines -->\n",
       "  <line x1=\"190\" y1=\"0\" x2=\"190\" y2=\"34\" style=\"stroke-width:2\" />\n",
       "  <line x1=\"194\" y1=\"4\" x2=\"194\" y2=\"39\" />\n",
       "  <line x1=\"199\" y1=\"9\" x2=\"199\" y2=\"44\" />\n",
       "  <line x1=\"204\" y1=\"14\" x2=\"204\" y2=\"49\" style=\"stroke-width:2\" />\n",
       "\n",
       "  <!-- Colored Rectangle -->\n",
       "  <polygon points=\"190.0,0.0 204.9485979497544,14.948597949754403 204.9485979497544,49.07215724848239 190.0,34.12355929872799\" style=\"fill:#ECB172A0;stroke-width:0\"/>\n",
       "\n",
       "  <!-- Horizontal lines -->\n",
       "  <line x1=\"190\" y1=\"0\" x2=\"226\" y2=\"0\" style=\"stroke-width:2\" />\n",
       "  <line x1=\"194\" y1=\"4\" x2=\"231\" y2=\"4\" />\n",
       "  <line x1=\"199\" y1=\"9\" x2=\"236\" y2=\"9\" />\n",
       "  <line x1=\"204\" y1=\"14\" x2=\"241\" y2=\"14\" style=\"stroke-width:2\" />\n",
       "\n",
       "  <!-- Vertical lines -->\n",
       "  <line x1=\"190\" y1=\"0\" x2=\"204\" y2=\"14\" style=\"stroke-width:2\" />\n",
       "  <line x1=\"226\" y1=\"0\" x2=\"241\" y2=\"14\" style=\"stroke-width:2\" />\n",
       "\n",
       "  <!-- Colored Rectangle -->\n",
       "  <polygon points=\"190.0,0.0 226.58335873970168,0.0 241.53195668945608,14.948597949754403 204.9485979497544,14.948597949754403\" style=\"fill:#ECB172A0;stroke-width:0\"/>\n",
       "\n",
       "  <!-- Horizontal lines -->\n",
       "  <line x1=\"204\" y1=\"14\" x2=\"241\" y2=\"14\" style=\"stroke-width:2\" />\n",
       "  <line x1=\"204\" y1=\"49\" x2=\"241\" y2=\"49\" style=\"stroke-width:2\" />\n",
       "\n",
       "  <!-- Vertical lines -->\n",
       "  <line x1=\"204\" y1=\"14\" x2=\"204\" y2=\"49\" style=\"stroke-width:2\" />\n",
       "  <line x1=\"241\" y1=\"14\" x2=\"241\" y2=\"49\" style=\"stroke-width:2\" />\n",
       "\n",
       "  <!-- Colored Rectangle -->\n",
       "  <polygon points=\"204.9485979497544,14.948597949754403 241.53195668945608,14.948597949754403 241.53195668945608,49.07215724848239 204.9485979497544,49.07215724848239\" style=\"fill:#ECB172A0;stroke-width:0\"/>\n",
       "\n",
       "  <!-- Text -->\n",
       "  <text x=\"223.240277\" y=\"69.072157\" font-size=\"1.0rem\" font-weight=\"100\" text-anchor=\"middle\" >72</text>\n",
       "  <text x=\"261.531957\" y=\"32.010378\" font-size=\"1.0rem\" font-weight=\"100\" text-anchor=\"middle\" transform=\"rotate(0,261.531957,32.010378)\">48</text>\n",
       "  <text x=\"187.474299\" y=\"61.597858\" font-size=\"1.0rem\" font-weight=\"100\" text-anchor=\"middle\" transform=\"rotate(45,187.474299,61.597858)\">3</text>\n",
       "</svg>\n",
       "        </td>\n",
       "    </tr>\n",
       "</table></div></li></ul></div></li><li class='xr-section-item'><input id='section-e2f9a132-3a60-4493-a582-9cbdaa7bb34b' class='xr-section-summary-in' type='checkbox'  ><label for='section-e2f9a132-3a60-4493-a582-9cbdaa7bb34b' class='xr-section-summary' >Indexes: <span>(7)</span></label><div class='xr-section-inline-details'></div><div class='xr-section-details'><ul class='xr-var-list'><li class='xr-var-item'><div class='xr-index-name'><div>latitude</div></div><div class='xr-index-preview'>PandasIndex</div><input type='checkbox' disabled/><label></label><input id='index-b59147da-b819-41cd-b163-746fb2c92436' class='xr-index-data-in' type='checkbox'/><label for='index-b59147da-b819-41cd-b163-746fb2c92436' title='Show/Hide index repr'><svg class='icon xr-icon-database'><use xlink:href='#icon-database'></use></svg></label><div class='xr-index-data'><pre>PandasIndex(Index([ -89.05263157894737,  -85.26315789473685,  -81.47368421052632,\n",
       "         -77.6842105263158,  -73.89473684210526,  -70.10526315789474,\n",
       "        -66.31578947368422, -62.526315789473685, -58.736842105263165,\n",
       "        -54.94736842105263,  -51.15789473684211,  -47.36842105263158,\n",
       "       -43.578947368421055,  -39.78947368421053,               -36.0,\n",
       "        -32.21052631578948, -28.421052631578952, -24.631578947368425,\n",
       "       -20.842105263157897,  -17.05263157894737,  -13.26315789473685,\n",
       "        -9.473684210526315,  -5.684210526315795, -1.8947368421052673,\n",
       "        1.8947368421052602,  5.6842105263157805,   9.473684210526315,\n",
       "        13.263157894736835,  17.052631578947363,   20.84210526315789,\n",
       "         24.63157894736841,  28.421052631578945,  32.210526315789465,\n",
       "         35.99999999999999,   39.78947368421052,   43.57894736842104,\n",
       "         47.36842105263156,   51.15789473684211,   54.94736842105263,\n",
       "         58.73684210526315,   62.52631578947367,   66.31578947368419,\n",
       "         70.10526315789474,   73.89473684210526,   77.68421052631578,\n",
       "          81.4736842105263,   85.26315789473682,   89.05263157894737],\n",
       "      dtype=&#x27;float64&#x27;, name=&#x27;latitude&#x27;))</pre></div></li><li class='xr-var-item'><div class='xr-index-name'><div>longitude</div></div><div class='xr-index-preview'>PandasIndex</div><input type='checkbox' disabled/><label></label><input id='index-c4829ace-a50a-4fa8-98f5-03bd2b6a8bab' class='xr-index-data-in' type='checkbox'/><label for='index-c4829ace-a50a-4fa8-98f5-03bd2b6a8bab' title='Show/Hide index repr'><svg class='icon xr-icon-database'><use xlink:href='#icon-database'></use></svg></label><div class='xr-index-data'><pre>PandasIndex(Index([  1.25,   6.25,  11.25,  16.25,  21.25,  26.25,  31.25,  36.25,  41.25,\n",
       "        46.25,  51.25,  56.25,  61.25,  66.25,  71.25,  76.25,  81.25,  86.25,\n",
       "        91.25,  96.25, 101.25, 106.25, 111.25, 116.25, 121.25, 126.25, 131.25,\n",
       "       136.25, 141.25, 146.25, 151.25, 156.25, 161.25, 166.25, 171.25, 176.25,\n",
       "       181.25, 186.25, 191.25, 196.25, 201.25, 206.25, 211.25, 216.25, 221.25,\n",
       "       226.25, 231.25, 236.25, 241.25, 246.25, 251.25, 256.25, 261.25, 266.25,\n",
       "       271.25, 276.25, 281.25, 286.25, 291.25, 296.25, 301.25, 306.25, 311.25,\n",
       "       316.25, 321.25, 326.25, 331.25, 336.25, 341.25, 346.25, 351.25, 356.25],\n",
       "      dtype=&#x27;float64&#x27;, name=&#x27;longitude&#x27;))</pre></div></li><li class='xr-var-item'><div class='xr-index-name'><div>member_id</div></div><div class='xr-index-preview'>PandasIndex</div><input type='checkbox' disabled/><label></label><input id='index-5c24ae19-436d-4f0f-aa73-bc511e7af873' class='xr-index-data-in' type='checkbox'/><label for='index-5c24ae19-436d-4f0f-aa73-bc511e7af873' title='Show/Hide index repr'><svg class='icon xr-icon-database'><use xlink:href='#icon-database'></use></svg></label><div class='xr-index-data'><pre>PandasIndex(Index([0, 1, 2], dtype=&#x27;int64&#x27;, name=&#x27;member_id&#x27;))</pre></div></li><li class='xr-var-item'><div class='xr-index-name'><div>ssp</div></div><div class='xr-index-preview'>PandasIndex</div><input type='checkbox' disabled/><label></label><input id='index-8787fadd-5e34-4551-aec2-6ed708fc853d' class='xr-index-data-in' type='checkbox'/><label for='index-8787fadd-5e34-4551-aec2-6ed708fc853d' title='Show/Hide index repr'><svg class='icon xr-icon-database'><use xlink:href='#icon-database'></use></svg></label><div class='xr-index-data'><pre>PandasIndex(Index([&#x27;ssp126&#x27;, &#x27;ssp245&#x27;, &#x27;ssp370&#x27;, &#x27;ssp585&#x27;], dtype=&#x27;object&#x27;, name=&#x27;ssp&#x27;))</pre></div></li><li class='xr-var-item'><div class='xr-index-name'><div>time</div></div><div class='xr-index-preview'>PandasIndex</div><input type='checkbox' disabled/><label></label><input id='index-71439490-7e41-4053-9605-cd89e8f76aeb' class='xr-index-data-in' type='checkbox'/><label for='index-71439490-7e41-4053-9605-cd89e8f76aeb' title='Show/Hide index repr'><svg class='icon xr-icon-database'><use xlink:href='#icon-database'></use></svg></label><div class='xr-index-data'><pre>PandasIndex(CFTimeIndex([2015-01-15 00:00:00, 2015-02-15 00:00:00, 2015-03-15 00:00:00,\n",
       "             2015-04-15 00:00:00, 2015-05-15 00:00:00, 2015-06-15 00:00:00,\n",
       "             2015-07-15 00:00:00, 2015-08-15 00:00:00, 2015-09-15 00:00:00,\n",
       "             2015-10-15 00:00:00,\n",
       "             ...\n",
       "             2099-04-15 00:00:00, 2099-05-15 00:00:00, 2099-06-15 00:00:00,\n",
       "             2099-07-15 00:00:00, 2099-08-15 00:00:00, 2099-09-15 00:00:00,\n",
       "             2099-10-15 00:00:00, 2099-11-15 00:00:00, 2099-12-15 00:00:00,\n",
       "             2100-01-15 00:00:00],\n",
       "            dtype=&#x27;object&#x27;, length=1021, calendar=&#x27;noleap&#x27;, freq=None))</pre></div></li><li class='xr-var-item'><div class='xr-index-name'><div>x</div></div><div class='xr-index-preview'>PandasIndex</div><input type='checkbox' disabled/><label></label><input id='index-a4df048c-975d-454e-9ecd-fab90c47b345' class='xr-index-data-in' type='checkbox'/><label for='index-a4df048c-975d-454e-9ecd-fab90c47b345' title='Show/Hide index repr'><svg class='icon xr-icon-database'><use xlink:href='#icon-database'></use></svg></label><div class='xr-index-data'><pre>PandasIndex(Index([  1.875,   6.875,  11.875,  16.875,  21.875,  26.875,  31.875,  36.875,\n",
       "        41.875,  46.875,  51.875,  56.875,  61.875,  66.875,  71.875,  76.875,\n",
       "        81.875,  86.875,  91.875,  96.875, 101.875, 106.875, 111.875, 116.875,\n",
       "       121.875, 126.875, 131.875, 136.875, 141.875, 146.875, 151.875, 156.875,\n",
       "       161.875, 166.875, 171.875, 176.875, 181.875, 186.875, 191.875, 196.875,\n",
       "       201.875, 206.875, 211.875, 216.875, 221.875, 226.875, 231.875, 236.875,\n",
       "       241.875, 246.875, 251.875, 256.875, 261.875, 266.875, 271.875, 276.875,\n",
       "       281.875, 286.875, 291.875, 296.875, 301.875, 306.875, 311.875, 316.875,\n",
       "       321.875, 326.875, 331.875, 336.875, 341.875, 346.875, 351.875, 356.875],\n",
       "      dtype=&#x27;float64&#x27;, name=&#x27;x&#x27;))</pre></div></li><li class='xr-var-item'><div class='xr-index-name'><div>y</div></div><div class='xr-index-preview'>PandasIndex</div><input type='checkbox' disabled/><label></label><input id='index-4cd02162-72bd-494a-9c1c-d55f31dfee90' class='xr-index-data-in' type='checkbox'/><label for='index-4cd02162-72bd-494a-9c1c-d55f31dfee90' title='Show/Hide index repr'><svg class='icon xr-icon-database'><use xlink:href='#icon-database'></use></svg></label><div class='xr-index-data'><pre>PandasIndex(Index([ -88.58638743455498,  -84.81675392670157,  -81.04712041884817,\n",
       "        -77.27748691099475,  -73.50785340314135,  -69.73821989528795,\n",
       "        -65.96858638743456,  -62.19895287958116,  -58.42931937172774,\n",
       "       -54.659685863874344,  -50.89005235602094,  -47.12041884816754,\n",
       "        -43.35078534031414,  -39.58115183246073,  -35.81151832460733,\n",
       "        -32.04188481675392, -28.272251308900525, -24.502617801047123,\n",
       "       -20.732984293193716, -16.963350785340317, -13.193717277486911,\n",
       "        -9.424083769633508,  -5.654450261780106, -1.8848167539267031,\n",
       "        1.8848167539266996,   5.654450261780106,   9.424083769633505,\n",
       "        13.193717277486911,  16.963350785340314,  20.732984293193716,\n",
       "         24.50261780104712,  28.272251308900522,   32.04188481675393,\n",
       "         35.81151832460733,   39.58115183246073,   43.35078534031413,\n",
       "         47.12041884816754,  50.890052356020945,  54.659685863874344,\n",
       "         58.42931937172774,   62.19895287958115,   65.96858638743456,\n",
       "         69.73821989528795,   73.50785340314135,   77.27748691099477,\n",
       "         81.04712041884817,   84.81675392670157,   88.58638743455498],\n",
       "      dtype=&#x27;float64&#x27;, name=&#x27;y&#x27;))</pre></div></li></ul></div></li><li class='xr-section-item'><input id='section-a0137dee-0137-4d94-989b-97f698b86179' class='xr-section-summary-in' type='checkbox'  checked><label for='section-a0137dee-0137-4d94-989b-97f698b86179' class='xr-section-summary' >Attributes: <span>(4)</span></label><div class='xr-section-inline-details'></div><div class='xr-section-details'><dl class='xr-attrs'><dt><span>original_member_ids :</span></dt><dd>[&#x27;r10i1p1f1&#x27;, &#x27;r11i1p1f1&#x27;, &#x27;r4i1p1f1&#x27;]</dd><dt><span>precipitation_units :</span></dt><dd>mm/day (converted from kg m-2 s-1)</dd><dt><span>source :</span></dt><dd>CMIP6 data processed for CSE151B</dd><dt><span>ssp :</span></dt><dd>ssp126</dd></dl></div></li></ul></div></div>"
      ],
      "text/plain": [
       "<xarray.Dataset> Size: 621MB\n",
       "Dimensions:    (ssp: 4, time: 1021, latitude: 48, longitude: 72, x: 72, y: 48,\n",
       "                member_id: 3)\n",
       "Coordinates:\n",
       "    lat        (x, y) float64 28kB dask.array<chunksize=(72, 48), meta=np.ndarray>\n",
       "  * latitude   (latitude) float64 384B -89.05 -85.26 -81.47 ... 85.26 89.05\n",
       "    lon        (x, y) float64 28kB dask.array<chunksize=(72, 48), meta=np.ndarray>\n",
       "  * longitude  (longitude) float64 576B 1.25 6.25 11.25 ... 346.2 351.2 356.2\n",
       "  * member_id  (member_id) int64 24B 0 1 2\n",
       "  * ssp        (ssp) <U6 96B 'ssp126' 'ssp245' 'ssp370' 'ssp585'\n",
       "  * time       (time) object 8kB 2015-01-15 00:00:00 ... 2100-01-15 00:00:00\n",
       "  * x          (x) float64 576B 1.875 6.875 11.88 16.88 ... 346.9 351.9 356.9\n",
       "  * y          (y) float64 384B -88.59 -84.82 -81.05 ... 81.05 84.82 88.59\n",
       "Data variables:\n",
       "    BC         (ssp, time, latitude, longitude) float64 113MB dask.array<chunksize=(1, 24, 48, 72), meta=np.ndarray>\n",
       "    CH4        (ssp, time) float64 33kB dask.array<chunksize=(1, 24), meta=np.ndarray>\n",
       "    CO2        (ssp, time) float64 33kB dask.array<chunksize=(1, 24), meta=np.ndarray>\n",
       "    SO2        (ssp, time, latitude, longitude) float64 113MB dask.array<chunksize=(1, 24, 48, 72), meta=np.ndarray>\n",
       "    pr         (ssp, time, member_id, y, x) float32 169MB dask.array<chunksize=(1, 24, 1, 48, 72), meta=np.ndarray>\n",
       "    rsdt       (ssp, time, y, x) float32 56MB dask.array<chunksize=(1, 24, 48, 72), meta=np.ndarray>\n",
       "    tas        (ssp, time, member_id, y, x) float32 169MB dask.array<chunksize=(1, 24, 1, 48, 72), meta=np.ndarray>\n",
       "Attributes:\n",
       "    original_member_ids:  ['r10i1p1f1', 'r11i1p1f1', 'r4i1p1f1']\n",
       "    precipitation_units:  mm/day (converted from kg m-2 s-1)\n",
       "    source:               CMIP6 data processed for CSE151B\n",
       "    ssp:                  ssp126"
      ]
     },
     "execution_count": 38,
     "metadata": {},
     "output_type": "execute_result"
    }
   ],
   "source": [
    "data_path = \"../processed_data_cse151b_v2_corrupted_ssp245/processed_data_cse151b_v2_corrupted_ssp245.zarr\"\n",
    "\n",
    "ds = xr.open_zarr(data_path, consolidated=True)\n",
    "ds"
   ]
  },
  {
   "cell_type": "markdown",
   "metadata": {},
   "source": [
    "### Data Exploration"
   ]
  },
  {
   "cell_type": "markdown",
   "metadata": {},
   "source": [
    "**Spatial Dimensions, Size of Train/Validate/Test Data**"
   ]
  },
  {
   "cell_type": "markdown",
   "metadata": {},
   "source": [
    "We know there are 1021 time steps per SSP (1021 months)."
   ]
  },
  {
   "cell_type": "code",
   "execution_count": 39,
   "metadata": {},
   "outputs": [
    {
     "name": "stdout",
     "output_type": "stream",
     "text": [
      "Spatial Dimensions per sample: (lat, lon) =, (48, 72) --> 3456 grid points\n",
      "Training samples: 8829\n",
      "Validation samples: 120\n",
      "Test samples: 360\n"
     ]
    },
    {
     "data": {
      "text/plain": [
       "9309"
      ]
     },
     "execution_count": 39,
     "metadata": {},
     "output_type": "execute_result"
    }
   ],
   "source": [
    "ssp_train = ['ssp126', 'ssp585']\n",
    "ssp_val = 'ssp370'\n",
    "ssp_test = 'ssp245'\n",
    "\n",
    "n_members = ds.sizes['member_id']\n",
    "n_time_total = ds.sizes['time']\n",
    "# print(n_time_total)\n",
    "lat = ds.sizes['latitude']\n",
    "lon = ds.sizes['longitude']\n",
    "\n",
    "# TRAINING = full ssp126 + ssp585 + first 901 months of ssp370\n",
    "# (since last 10 years / 120 months of SSP370 is the validation set)\n",
    "n_train_ssp126 = n_time_total * n_members\n",
    "n_train_ssp585 = n_time_total * n_members\n",
    "n_train_ssp370 = (n_time_total - 120) * n_members  # time 0 to 900 inclusive\n",
    "n_train_samples = n_train_ssp126 + n_train_ssp585 + n_train_ssp370\n",
    "\n",
    "# VALIDATION = last 120 months of ssp370, member_id = 0\n",
    "n_val_samples = 120\n",
    "\n",
    "# TEST = last 360 months of ssp245, member_id = 0\n",
    "n_test_samples = 360\n",
    "\n",
    "print(f\"Spatial Dimensions per sample: (lat, lon) =, {(lat, lon)} --> 3456 grid points\")\n",
    "print(\"Training samples:\", n_train_samples)\n",
    "print(\"Validation samples:\", n_val_samples)\n",
    "print(\"Test samples:\", n_test_samples)\n",
    "n_train_samples + n_val_samples + n_test_samples"
   ]
  },
  {
   "cell_type": "code",
   "execution_count": 40,
   "metadata": {},
   "outputs": [
    {
     "name": "stdout",
     "output_type": "stream",
     "text": [
      "Spatial dimensions: 48 x 72 = 3456 grid points\n"
     ]
    }
   ],
   "source": [
    "lat_dim = ds.sizes[\"latitude\"]\n",
    "lon_dim = ds.sizes[\"longitude\"]\n",
    "n_spatial = lat_dim * lon_dim\n",
    "print(f\"Spatial dimensions: {lat_dim} x {lon_dim} = {n_spatial} grid points\")"
   ]
  },
  {
   "cell_type": "markdown",
   "metadata": {},
   "source": [
    "**1b)** The dataset consists of 8,829 training samples drawn from ssp126, ssp370 (first 901 months), and ssp585 across all 3 ensemble members. Validation includes 120 samples from the last 10 years (120 months) of ssp370 using only member_id = 0. The test set contains 360 samples from the last 360 months of ssp245, also using only member_id = 0. We only use member_id = 0 because the competition evaluation is performed on a single ensemble realization (member_id = 0), and using multiple ensemble members for validation or testing would misrepresent model performance (data leakage from internal climate variability across ensemble runs).\n",
    "\n",
    "There are 2 spatial dimensions (latitude and longitude) forming a 48 × 72 global grid. Each sample covers the full grid, so each sample contains 3,456 spatial points."
   ]
  },
  {
   "cell_type": "markdown",
   "metadata": {},
   "source": [
    "**Distribution of Target Variables, Input Data**"
   ]
  },
  {
   "cell_type": "code",
   "execution_count": 41,
   "metadata": {},
   "outputs": [
    {
     "data": {
      "text/html": [
       "<div><svg style=\"position: absolute; width: 0; height: 0; overflow: hidden\">\n",
       "<defs>\n",
       "<symbol id=\"icon-database\" viewBox=\"0 0 32 32\">\n",
       "<path d=\"M16 0c-8.837 0-16 2.239-16 5v4c0 2.761 7.163 5 16 5s16-2.239 16-5v-4c0-2.761-7.163-5-16-5z\"></path>\n",
       "<path d=\"M16 17c-8.837 0-16-2.239-16-5v6c0 2.761 7.163 5 16 5s16-2.239 16-5v-6c0 2.761-7.163 5-16 5z\"></path>\n",
       "<path d=\"M16 26c-8.837 0-16-2.239-16-5v6c0 2.761 7.163 5 16 5s16-2.239 16-5v-6c0 2.761-7.163 5-16 5z\"></path>\n",
       "</symbol>\n",
       "<symbol id=\"icon-file-text2\" viewBox=\"0 0 32 32\">\n",
       "<path d=\"M28.681 7.159c-0.694-0.947-1.662-2.053-2.724-3.116s-2.169-2.030-3.116-2.724c-1.612-1.182-2.393-1.319-2.841-1.319h-15.5c-1.378 0-2.5 1.121-2.5 2.5v27c0 1.378 1.122 2.5 2.5 2.5h23c1.378 0 2.5-1.122 2.5-2.5v-19.5c0-0.448-0.137-1.23-1.319-2.841zM24.543 5.457c0.959 0.959 1.712 1.825 2.268 2.543h-4.811v-4.811c0.718 0.556 1.584 1.309 2.543 2.268zM28 29.5c0 0.271-0.229 0.5-0.5 0.5h-23c-0.271 0-0.5-0.229-0.5-0.5v-27c0-0.271 0.229-0.5 0.5-0.5 0 0 15.499-0 15.5 0v7c0 0.552 0.448 1 1 1h7v19.5z\"></path>\n",
       "<path d=\"M23 26h-14c-0.552 0-1-0.448-1-1s0.448-1 1-1h14c0.552 0 1 0.448 1 1s-0.448 1-1 1z\"></path>\n",
       "<path d=\"M23 22h-14c-0.552 0-1-0.448-1-1s0.448-1 1-1h14c0.552 0 1 0.448 1 1s-0.448 1-1 1z\"></path>\n",
       "<path d=\"M23 18h-14c-0.552 0-1-0.448-1-1s0.448-1 1-1h14c0.552 0 1 0.448 1 1s-0.448 1-1 1z\"></path>\n",
       "</symbol>\n",
       "</defs>\n",
       "</svg>\n",
       "<style>/* CSS stylesheet for displaying xarray objects in jupyterlab.\n",
       " *\n",
       " */\n",
       "\n",
       ":root {\n",
       "  --xr-font-color0: var(--jp-content-font-color0, rgba(0, 0, 0, 1));\n",
       "  --xr-font-color2: var(--jp-content-font-color2, rgba(0, 0, 0, 0.54));\n",
       "  --xr-font-color3: var(--jp-content-font-color3, rgba(0, 0, 0, 0.38));\n",
       "  --xr-border-color: var(--jp-border-color2, #e0e0e0);\n",
       "  --xr-disabled-color: var(--jp-layout-color3, #bdbdbd);\n",
       "  --xr-background-color: var(--jp-layout-color0, white);\n",
       "  --xr-background-color-row-even: var(--jp-layout-color1, white);\n",
       "  --xr-background-color-row-odd: var(--jp-layout-color2, #eeeeee);\n",
       "}\n",
       "\n",
       "html[theme=\"dark\"],\n",
       "html[data-theme=\"dark\"],\n",
       "body[data-theme=\"dark\"],\n",
       "body.vscode-dark {\n",
       "  --xr-font-color0: rgba(255, 255, 255, 1);\n",
       "  --xr-font-color2: rgba(255, 255, 255, 0.54);\n",
       "  --xr-font-color3: rgba(255, 255, 255, 0.38);\n",
       "  --xr-border-color: #1f1f1f;\n",
       "  --xr-disabled-color: #515151;\n",
       "  --xr-background-color: #111111;\n",
       "  --xr-background-color-row-even: #111111;\n",
       "  --xr-background-color-row-odd: #313131;\n",
       "}\n",
       "\n",
       ".xr-wrap {\n",
       "  display: block !important;\n",
       "  min-width: 300px;\n",
       "  max-width: 700px;\n",
       "}\n",
       "\n",
       ".xr-text-repr-fallback {\n",
       "  /* fallback to plain text repr when CSS is not injected (untrusted notebook) */\n",
       "  display: none;\n",
       "}\n",
       "\n",
       ".xr-header {\n",
       "  padding-top: 6px;\n",
       "  padding-bottom: 6px;\n",
       "  margin-bottom: 4px;\n",
       "  border-bottom: solid 1px var(--xr-border-color);\n",
       "}\n",
       "\n",
       ".xr-header > div,\n",
       ".xr-header > ul {\n",
       "  display: inline;\n",
       "  margin-top: 0;\n",
       "  margin-bottom: 0;\n",
       "}\n",
       "\n",
       ".xr-obj-type,\n",
       ".xr-array-name {\n",
       "  margin-left: 2px;\n",
       "  margin-right: 10px;\n",
       "}\n",
       "\n",
       ".xr-obj-type {\n",
       "  color: var(--xr-font-color2);\n",
       "}\n",
       "\n",
       ".xr-sections {\n",
       "  padding-left: 0 !important;\n",
       "  display: grid;\n",
       "  grid-template-columns: 150px auto auto 1fr 0 20px 0 20px;\n",
       "}\n",
       "\n",
       ".xr-section-item {\n",
       "  display: contents;\n",
       "}\n",
       "\n",
       ".xr-section-item input {\n",
       "  display: inline-block;\n",
       "  opacity: 0;\n",
       "  height: 0;\n",
       "}\n",
       "\n",
       ".xr-section-item input + label {\n",
       "  color: var(--xr-disabled-color);\n",
       "}\n",
       "\n",
       ".xr-section-item input:enabled + label {\n",
       "  cursor: pointer;\n",
       "  color: var(--xr-font-color2);\n",
       "}\n",
       "\n",
       ".xr-section-item input:focus + label {\n",
       "  border: 2px solid var(--xr-font-color0);\n",
       "}\n",
       "\n",
       ".xr-section-item input:enabled + label:hover {\n",
       "  color: var(--xr-font-color0);\n",
       "}\n",
       "\n",
       ".xr-section-summary {\n",
       "  grid-column: 1;\n",
       "  color: var(--xr-font-color2);\n",
       "  font-weight: 500;\n",
       "}\n",
       "\n",
       ".xr-section-summary > span {\n",
       "  display: inline-block;\n",
       "  padding-left: 0.5em;\n",
       "}\n",
       "\n",
       ".xr-section-summary-in:disabled + label {\n",
       "  color: var(--xr-font-color2);\n",
       "}\n",
       "\n",
       ".xr-section-summary-in + label:before {\n",
       "  display: inline-block;\n",
       "  content: \"►\";\n",
       "  font-size: 11px;\n",
       "  width: 15px;\n",
       "  text-align: center;\n",
       "}\n",
       "\n",
       ".xr-section-summary-in:disabled + label:before {\n",
       "  color: var(--xr-disabled-color);\n",
       "}\n",
       "\n",
       ".xr-section-summary-in:checked + label:before {\n",
       "  content: \"▼\";\n",
       "}\n",
       "\n",
       ".xr-section-summary-in:checked + label > span {\n",
       "  display: none;\n",
       "}\n",
       "\n",
       ".xr-section-summary,\n",
       ".xr-section-inline-details {\n",
       "  padding-top: 4px;\n",
       "  padding-bottom: 4px;\n",
       "}\n",
       "\n",
       ".xr-section-inline-details {\n",
       "  grid-column: 2 / -1;\n",
       "}\n",
       "\n",
       ".xr-section-details {\n",
       "  display: none;\n",
       "  grid-column: 1 / -1;\n",
       "  margin-bottom: 5px;\n",
       "}\n",
       "\n",
       ".xr-section-summary-in:checked ~ .xr-section-details {\n",
       "  display: contents;\n",
       "}\n",
       "\n",
       ".xr-array-wrap {\n",
       "  grid-column: 1 / -1;\n",
       "  display: grid;\n",
       "  grid-template-columns: 20px auto;\n",
       "}\n",
       "\n",
       ".xr-array-wrap > label {\n",
       "  grid-column: 1;\n",
       "  vertical-align: top;\n",
       "}\n",
       "\n",
       ".xr-preview {\n",
       "  color: var(--xr-font-color3);\n",
       "}\n",
       "\n",
       ".xr-array-preview,\n",
       ".xr-array-data {\n",
       "  padding: 0 5px !important;\n",
       "  grid-column: 2;\n",
       "}\n",
       "\n",
       ".xr-array-data,\n",
       ".xr-array-in:checked ~ .xr-array-preview {\n",
       "  display: none;\n",
       "}\n",
       "\n",
       ".xr-array-in:checked ~ .xr-array-data,\n",
       ".xr-array-preview {\n",
       "  display: inline-block;\n",
       "}\n",
       "\n",
       ".xr-dim-list {\n",
       "  display: inline-block !important;\n",
       "  list-style: none;\n",
       "  padding: 0 !important;\n",
       "  margin: 0;\n",
       "}\n",
       "\n",
       ".xr-dim-list li {\n",
       "  display: inline-block;\n",
       "  padding: 0;\n",
       "  margin: 0;\n",
       "}\n",
       "\n",
       ".xr-dim-list:before {\n",
       "  content: \"(\";\n",
       "}\n",
       "\n",
       ".xr-dim-list:after {\n",
       "  content: \")\";\n",
       "}\n",
       "\n",
       ".xr-dim-list li:not(:last-child):after {\n",
       "  content: \",\";\n",
       "  padding-right: 5px;\n",
       "}\n",
       "\n",
       ".xr-has-index {\n",
       "  font-weight: bold;\n",
       "}\n",
       "\n",
       ".xr-var-list,\n",
       ".xr-var-item {\n",
       "  display: contents;\n",
       "}\n",
       "\n",
       ".xr-var-item > div,\n",
       ".xr-var-item label,\n",
       ".xr-var-item > .xr-var-name span {\n",
       "  background-color: var(--xr-background-color-row-even);\n",
       "  margin-bottom: 0;\n",
       "}\n",
       "\n",
       ".xr-var-item > .xr-var-name:hover span {\n",
       "  padding-right: 5px;\n",
       "}\n",
       "\n",
       ".xr-var-list > li:nth-child(odd) > div,\n",
       ".xr-var-list > li:nth-child(odd) > label,\n",
       ".xr-var-list > li:nth-child(odd) > .xr-var-name span {\n",
       "  background-color: var(--xr-background-color-row-odd);\n",
       "}\n",
       "\n",
       ".xr-var-name {\n",
       "  grid-column: 1;\n",
       "}\n",
       "\n",
       ".xr-var-dims {\n",
       "  grid-column: 2;\n",
       "}\n",
       "\n",
       ".xr-var-dtype {\n",
       "  grid-column: 3;\n",
       "  text-align: right;\n",
       "  color: var(--xr-font-color2);\n",
       "}\n",
       "\n",
       ".xr-var-preview {\n",
       "  grid-column: 4;\n",
       "}\n",
       "\n",
       ".xr-index-preview {\n",
       "  grid-column: 2 / 5;\n",
       "  color: var(--xr-font-color2);\n",
       "}\n",
       "\n",
       ".xr-var-name,\n",
       ".xr-var-dims,\n",
       ".xr-var-dtype,\n",
       ".xr-preview,\n",
       ".xr-attrs dt {\n",
       "  white-space: nowrap;\n",
       "  overflow: hidden;\n",
       "  text-overflow: ellipsis;\n",
       "  padding-right: 10px;\n",
       "}\n",
       "\n",
       ".xr-var-name:hover,\n",
       ".xr-var-dims:hover,\n",
       ".xr-var-dtype:hover,\n",
       ".xr-attrs dt:hover {\n",
       "  overflow: visible;\n",
       "  width: auto;\n",
       "  z-index: 1;\n",
       "}\n",
       "\n",
       ".xr-var-attrs,\n",
       ".xr-var-data,\n",
       ".xr-index-data {\n",
       "  display: none;\n",
       "  background-color: var(--xr-background-color) !important;\n",
       "  padding-bottom: 5px !important;\n",
       "}\n",
       "\n",
       ".xr-var-attrs-in:checked ~ .xr-var-attrs,\n",
       ".xr-var-data-in:checked ~ .xr-var-data,\n",
       ".xr-index-data-in:checked ~ .xr-index-data {\n",
       "  display: block;\n",
       "}\n",
       "\n",
       ".xr-var-data > table {\n",
       "  float: right;\n",
       "}\n",
       "\n",
       ".xr-var-name span,\n",
       ".xr-var-data,\n",
       ".xr-index-name div,\n",
       ".xr-index-data,\n",
       ".xr-attrs {\n",
       "  padding-left: 25px !important;\n",
       "}\n",
       "\n",
       ".xr-attrs,\n",
       ".xr-var-attrs,\n",
       ".xr-var-data,\n",
       ".xr-index-data {\n",
       "  grid-column: 1 / -1;\n",
       "}\n",
       "\n",
       "dl.xr-attrs {\n",
       "  padding: 0;\n",
       "  margin: 0;\n",
       "  display: grid;\n",
       "  grid-template-columns: 125px auto;\n",
       "}\n",
       "\n",
       ".xr-attrs dt,\n",
       ".xr-attrs dd {\n",
       "  padding: 0;\n",
       "  margin: 0;\n",
       "  float: left;\n",
       "  padding-right: 10px;\n",
       "  width: auto;\n",
       "}\n",
       "\n",
       ".xr-attrs dt {\n",
       "  font-weight: normal;\n",
       "  grid-column: 1;\n",
       "}\n",
       "\n",
       ".xr-attrs dt:hover span {\n",
       "  display: inline-block;\n",
       "  background: var(--xr-background-color);\n",
       "  padding-right: 10px;\n",
       "}\n",
       "\n",
       ".xr-attrs dd {\n",
       "  grid-column: 2;\n",
       "  white-space: pre-wrap;\n",
       "  word-break: break-all;\n",
       "}\n",
       "\n",
       ".xr-icon-database,\n",
       ".xr-icon-file-text2,\n",
       ".xr-no-icon {\n",
       "  display: inline-block;\n",
       "  vertical-align: middle;\n",
       "  width: 1em;\n",
       "  height: 1.5em !important;\n",
       "  stroke-width: 0;\n",
       "  stroke: currentColor;\n",
       "  fill: currentColor;\n",
       "}\n",
       "</style><pre class='xr-text-repr-fallback'>&lt;xarray.DataArray &#x27;tas&#x27; (time: 1021, y: 48, x: 72)&gt; Size: 14MB\n",
       "dask.array&lt;getitem, shape=(1021, 48, 72), dtype=float32, chunksize=(24, 48, 72), chunktype=numpy.ndarray&gt;\n",
       "Coordinates:\n",
       "    lat        (x, y) float64 28kB dask.array&lt;chunksize=(72, 48), meta=np.ndarray&gt;\n",
       "    lon        (x, y) float64 28kB dask.array&lt;chunksize=(72, 48), meta=np.ndarray&gt;\n",
       "    member_id  int64 8B 0\n",
       "    ssp        &lt;U6 24B &#x27;ssp245&#x27;\n",
       "  * time       (time) object 8kB 2015-01-15 00:00:00 ... 2100-01-15 00:00:00\n",
       "  * x          (x) float64 576B 1.875 6.875 11.88 16.88 ... 346.9 351.9 356.9\n",
       "  * y          (y) float64 384B -88.59 -84.82 -81.05 ... 81.05 84.82 88.59\n",
       "Attributes: (12/19)\n",
       "    cell_measures:  area: areacella\n",
       "    cell_methods:   area: time: mean\n",
       "    comment:        TREFHT\n",
       "    description:    near-surface (usually, 2 meter) air temperature\n",
       "    frequency:      day\n",
       "    id:             tas\n",
       "    ...             ...\n",
       "    time_label:     time-mean\n",
       "    time_title:     Temporal mean\n",
       "    title:          Near-Surface Air Temperature\n",
       "    type:           real\n",
       "    units:          K\n",
       "    variable_id:    tas</pre><div class='xr-wrap' style='display:none'><div class='xr-header'><div class='xr-obj-type'>xarray.DataArray</div><div class='xr-array-name'>'tas'</div><ul class='xr-dim-list'><li><span class='xr-has-index'>time</span>: 1021</li><li><span class='xr-has-index'>y</span>: 48</li><li><span class='xr-has-index'>x</span>: 72</li></ul></div><ul class='xr-sections'><li class='xr-section-item'><div class='xr-array-wrap'><input id='section-d7cae49e-990a-4546-a6a6-9f1e0ce45df6' class='xr-array-in' type='checkbox' checked><label for='section-d7cae49e-990a-4546-a6a6-9f1e0ce45df6' title='Show/hide data repr'><svg class='icon xr-icon-database'><use xlink:href='#icon-database'></use></svg></label><div class='xr-array-preview xr-preview'><span>dask.array&lt;chunksize=(24, 48, 72), meta=np.ndarray&gt;</span></div><div class='xr-array-data'><table>\n",
       "    <tr>\n",
       "        <td>\n",
       "            <table style=\"border-collapse: collapse;\">\n",
       "                <thead>\n",
       "                    <tr>\n",
       "                        <td> </td>\n",
       "                        <th> Array </th>\n",
       "                        <th> Chunk </th>\n",
       "                    </tr>\n",
       "                </thead>\n",
       "                <tbody>\n",
       "                    \n",
       "                    <tr>\n",
       "                        <th> Bytes </th>\n",
       "                        <td> 13.46 MiB </td>\n",
       "                        <td> 324.00 kiB </td>\n",
       "                    </tr>\n",
       "                    \n",
       "                    <tr>\n",
       "                        <th> Shape </th>\n",
       "                        <td> (1021, 48, 72) </td>\n",
       "                        <td> (24, 48, 72) </td>\n",
       "                    </tr>\n",
       "                    <tr>\n",
       "                        <th> Dask graph </th>\n",
       "                        <td colspan=\"2\"> 43 chunks in 3 graph layers </td>\n",
       "                    </tr>\n",
       "                    <tr>\n",
       "                        <th> Data type </th>\n",
       "                        <td colspan=\"2\"> float32 numpy.ndarray </td>\n",
       "                    </tr>\n",
       "                </tbody>\n",
       "            </table>\n",
       "        </td>\n",
       "        <td>\n",
       "        <svg width=\"167\" height=\"154\" style=\"stroke:rgb(0,0,0);stroke-width:1\" >\n",
       "\n",
       "  <!-- Horizontal lines -->\n",
       "  <line x1=\"10\" y1=\"0\" x2=\"80\" y2=\"70\" style=\"stroke-width:2\" />\n",
       "  <line x1=\"10\" y1=\"34\" x2=\"80\" y2=\"104\" style=\"stroke-width:2\" />\n",
       "\n",
       "  <!-- Vertical lines -->\n",
       "  <line x1=\"10\" y1=\"0\" x2=\"10\" y2=\"34\" style=\"stroke-width:2\" />\n",
       "  <line x1=\"13\" y1=\"3\" x2=\"13\" y2=\"37\" />\n",
       "  <line x1=\"16\" y1=\"6\" x2=\"16\" y2=\"40\" />\n",
       "  <line x1=\"19\" y1=\"9\" x2=\"19\" y2=\"44\" />\n",
       "  <line x1=\"24\" y1=\"14\" x2=\"24\" y2=\"49\" />\n",
       "  <line x1=\"28\" y1=\"18\" x2=\"28\" y2=\"52\" />\n",
       "  <line x1=\"31\" y1=\"21\" x2=\"31\" y2=\"55\" />\n",
       "  <line x1=\"34\" y1=\"24\" x2=\"34\" y2=\"59\" />\n",
       "  <line x1=\"39\" y1=\"29\" x2=\"39\" y2=\"63\" />\n",
       "  <line x1=\"43\" y1=\"33\" x2=\"43\" y2=\"67\" />\n",
       "  <line x1=\"46\" y1=\"36\" x2=\"46\" y2=\"70\" />\n",
       "  <line x1=\"49\" y1=\"39\" x2=\"49\" y2=\"73\" />\n",
       "  <line x1=\"54\" y1=\"44\" x2=\"54\" y2=\"78\" />\n",
       "  <line x1=\"58\" y1=\"48\" x2=\"58\" y2=\"82\" />\n",
       "  <line x1=\"61\" y1=\"51\" x2=\"61\" y2=\"85\" />\n",
       "  <line x1=\"64\" y1=\"54\" x2=\"64\" y2=\"88\" />\n",
       "  <line x1=\"69\" y1=\"59\" x2=\"69\" y2=\"93\" />\n",
       "  <line x1=\"73\" y1=\"63\" x2=\"73\" y2=\"97\" />\n",
       "  <line x1=\"76\" y1=\"66\" x2=\"76\" y2=\"100\" />\n",
       "  <line x1=\"80\" y1=\"70\" x2=\"80\" y2=\"104\" style=\"stroke-width:2\" />\n",
       "\n",
       "  <!-- Colored Rectangle -->\n",
       "  <polygon points=\"10.0,0.0 80.58823529411765,70.58823529411765 80.58823529411765,104.71179459284565 10.0,34.12355929872799\" style=\"fill:#8B4903A0;stroke-width:0\"/>\n",
       "\n",
       "  <!-- Horizontal lines -->\n",
       "  <line x1=\"10\" y1=\"0\" x2=\"46\" y2=\"0\" style=\"stroke-width:2\" />\n",
       "  <line x1=\"13\" y1=\"3\" x2=\"49\" y2=\"3\" />\n",
       "  <line x1=\"16\" y1=\"6\" x2=\"53\" y2=\"6\" />\n",
       "  <line x1=\"19\" y1=\"9\" x2=\"56\" y2=\"9\" />\n",
       "  <line x1=\"24\" y1=\"14\" x2=\"61\" y2=\"14\" />\n",
       "  <line x1=\"28\" y1=\"18\" x2=\"64\" y2=\"18\" />\n",
       "  <line x1=\"31\" y1=\"21\" x2=\"68\" y2=\"21\" />\n",
       "  <line x1=\"34\" y1=\"24\" x2=\"71\" y2=\"24\" />\n",
       "  <line x1=\"39\" y1=\"29\" x2=\"76\" y2=\"29\" />\n",
       "  <line x1=\"43\" y1=\"33\" x2=\"79\" y2=\"33\" />\n",
       "  <line x1=\"46\" y1=\"36\" x2=\"83\" y2=\"36\" />\n",
       "  <line x1=\"49\" y1=\"39\" x2=\"86\" y2=\"39\" />\n",
       "  <line x1=\"54\" y1=\"44\" x2=\"91\" y2=\"44\" />\n",
       "  <line x1=\"58\" y1=\"48\" x2=\"94\" y2=\"48\" />\n",
       "  <line x1=\"61\" y1=\"51\" x2=\"98\" y2=\"51\" />\n",
       "  <line x1=\"64\" y1=\"54\" x2=\"101\" y2=\"54\" />\n",
       "  <line x1=\"69\" y1=\"59\" x2=\"106\" y2=\"59\" />\n",
       "  <line x1=\"73\" y1=\"63\" x2=\"109\" y2=\"63\" />\n",
       "  <line x1=\"76\" y1=\"66\" x2=\"112\" y2=\"66\" />\n",
       "  <line x1=\"80\" y1=\"70\" x2=\"117\" y2=\"70\" style=\"stroke-width:2\" />\n",
       "\n",
       "  <!-- Vertical lines -->\n",
       "  <line x1=\"10\" y1=\"0\" x2=\"80\" y2=\"70\" style=\"stroke-width:2\" />\n",
       "  <line x1=\"46\" y1=\"0\" x2=\"117\" y2=\"70\" style=\"stroke-width:2\" />\n",
       "\n",
       "  <!-- Colored Rectangle -->\n",
       "  <polygon points=\"10.0,0.0 46.58335873970168,0.0 117.17159403381933,70.58823529411765 80.58823529411765,70.58823529411765\" style=\"fill:#8B4903A0;stroke-width:0\"/>\n",
       "\n",
       "  <!-- Horizontal lines -->\n",
       "  <line x1=\"80\" y1=\"70\" x2=\"117\" y2=\"70\" style=\"stroke-width:2\" />\n",
       "  <line x1=\"80\" y1=\"104\" x2=\"117\" y2=\"104\" style=\"stroke-width:2\" />\n",
       "\n",
       "  <!-- Vertical lines -->\n",
       "  <line x1=\"80\" y1=\"70\" x2=\"80\" y2=\"104\" style=\"stroke-width:2\" />\n",
       "  <line x1=\"117\" y1=\"70\" x2=\"117\" y2=\"104\" style=\"stroke-width:2\" />\n",
       "\n",
       "  <!-- Colored Rectangle -->\n",
       "  <polygon points=\"80.58823529411765,70.58823529411765 117.17159403381933,70.58823529411765 117.17159403381933,104.71179459284565 80.58823529411765,104.71179459284565\" style=\"fill:#ECB172A0;stroke-width:0\"/>\n",
       "\n",
       "  <!-- Text -->\n",
       "  <text x=\"98.879915\" y=\"124.711795\" font-size=\"1.0rem\" font-weight=\"100\" text-anchor=\"middle\" >72</text>\n",
       "  <text x=\"137.171594\" y=\"87.650015\" font-size=\"1.0rem\" font-weight=\"100\" text-anchor=\"middle\" transform=\"rotate(0,137.171594,87.650015)\">48</text>\n",
       "  <text x=\"35.294118\" y=\"89.417677\" font-size=\"1.0rem\" font-weight=\"100\" text-anchor=\"middle\" transform=\"rotate(45,35.294118,89.417677)\">1021</text>\n",
       "</svg>\n",
       "        </td>\n",
       "    </tr>\n",
       "</table></div></div></li><li class='xr-section-item'><input id='section-d5e5a11c-444e-41e1-9038-a40aba3683ee' class='xr-section-summary-in' type='checkbox'  checked><label for='section-d5e5a11c-444e-41e1-9038-a40aba3683ee' class='xr-section-summary' >Coordinates: <span>(7)</span></label><div class='xr-section-inline-details'></div><div class='xr-section-details'><ul class='xr-var-list'><li class='xr-var-item'><div class='xr-var-name'><span>lat</span></div><div class='xr-var-dims'>(x, y)</div><div class='xr-var-dtype'>float64</div><div class='xr-var-preview xr-preview'>dask.array&lt;chunksize=(72, 48), meta=np.ndarray&gt;</div><input id='attrs-cd949652-8e81-434f-9420-fa12609aa4ce' class='xr-var-attrs-in' type='checkbox' disabled><label for='attrs-cd949652-8e81-434f-9420-fa12609aa4ce' title='Show/Hide attributes'><svg class='icon xr-icon-file-text2'><use xlink:href='#icon-file-text2'></use></svg></label><input id='data-d68401a5-edb3-4add-819b-217fe2fc377d' class='xr-var-data-in' type='checkbox'><label for='data-d68401a5-edb3-4add-819b-217fe2fc377d' title='Show/Hide data repr'><svg class='icon xr-icon-database'><use xlink:href='#icon-database'></use></svg></label><div class='xr-var-attrs'><dl class='xr-attrs'></dl></div><div class='xr-var-data'><table>\n",
       "    <tr>\n",
       "        <td>\n",
       "            <table style=\"border-collapse: collapse;\">\n",
       "                <thead>\n",
       "                    <tr>\n",
       "                        <td> </td>\n",
       "                        <th> Array </th>\n",
       "                        <th> Chunk </th>\n",
       "                    </tr>\n",
       "                </thead>\n",
       "                <tbody>\n",
       "                    \n",
       "                    <tr>\n",
       "                        <th> Bytes </th>\n",
       "                        <td> 27.00 kiB </td>\n",
       "                        <td> 27.00 kiB </td>\n",
       "                    </tr>\n",
       "                    \n",
       "                    <tr>\n",
       "                        <th> Shape </th>\n",
       "                        <td> (72, 48) </td>\n",
       "                        <td> (72, 48) </td>\n",
       "                    </tr>\n",
       "                    <tr>\n",
       "                        <th> Dask graph </th>\n",
       "                        <td colspan=\"2\"> 1 chunks in 2 graph layers </td>\n",
       "                    </tr>\n",
       "                    <tr>\n",
       "                        <th> Data type </th>\n",
       "                        <td colspan=\"2\"> float64 numpy.ndarray </td>\n",
       "                    </tr>\n",
       "                </tbody>\n",
       "            </table>\n",
       "        </td>\n",
       "        <td>\n",
       "        <svg width=\"130\" height=\"170\" style=\"stroke:rgb(0,0,0);stroke-width:1\" >\n",
       "\n",
       "  <!-- Horizontal lines -->\n",
       "  <line x1=\"0\" y1=\"0\" x2=\"80\" y2=\"0\" style=\"stroke-width:2\" />\n",
       "  <line x1=\"0\" y1=\"120\" x2=\"80\" y2=\"120\" style=\"stroke-width:2\" />\n",
       "\n",
       "  <!-- Vertical lines -->\n",
       "  <line x1=\"0\" y1=\"0\" x2=\"0\" y2=\"120\" style=\"stroke-width:2\" />\n",
       "  <line x1=\"80\" y1=\"0\" x2=\"80\" y2=\"120\" style=\"stroke-width:2\" />\n",
       "\n",
       "  <!-- Colored Rectangle -->\n",
       "  <polygon points=\"0.0,0.0 80.0,0.0 80.0,120.0 0.0,120.0\" style=\"fill:#ECB172A0;stroke-width:0\"/>\n",
       "\n",
       "  <!-- Text -->\n",
       "  <text x=\"40.000000\" y=\"140.000000\" font-size=\"1.0rem\" font-weight=\"100\" text-anchor=\"middle\" >48</text>\n",
       "  <text x=\"100.000000\" y=\"60.000000\" font-size=\"1.0rem\" font-weight=\"100\" text-anchor=\"middle\" transform=\"rotate(0,100.000000,60.000000)\">72</text>\n",
       "</svg>\n",
       "        </td>\n",
       "    </tr>\n",
       "</table></div></li><li class='xr-var-item'><div class='xr-var-name'><span>lon</span></div><div class='xr-var-dims'>(x, y)</div><div class='xr-var-dtype'>float64</div><div class='xr-var-preview xr-preview'>dask.array&lt;chunksize=(72, 48), meta=np.ndarray&gt;</div><input id='attrs-b8380209-1b02-4985-b2cb-9b679c5dad72' class='xr-var-attrs-in' type='checkbox' disabled><label for='attrs-b8380209-1b02-4985-b2cb-9b679c5dad72' title='Show/Hide attributes'><svg class='icon xr-icon-file-text2'><use xlink:href='#icon-file-text2'></use></svg></label><input id='data-bcfb2090-549a-4dca-9f38-03367cfe56c4' class='xr-var-data-in' type='checkbox'><label for='data-bcfb2090-549a-4dca-9f38-03367cfe56c4' title='Show/Hide data repr'><svg class='icon xr-icon-database'><use xlink:href='#icon-database'></use></svg></label><div class='xr-var-attrs'><dl class='xr-attrs'></dl></div><div class='xr-var-data'><table>\n",
       "    <tr>\n",
       "        <td>\n",
       "            <table style=\"border-collapse: collapse;\">\n",
       "                <thead>\n",
       "                    <tr>\n",
       "                        <td> </td>\n",
       "                        <th> Array </th>\n",
       "                        <th> Chunk </th>\n",
       "                    </tr>\n",
       "                </thead>\n",
       "                <tbody>\n",
       "                    \n",
       "                    <tr>\n",
       "                        <th> Bytes </th>\n",
       "                        <td> 27.00 kiB </td>\n",
       "                        <td> 27.00 kiB </td>\n",
       "                    </tr>\n",
       "                    \n",
       "                    <tr>\n",
       "                        <th> Shape </th>\n",
       "                        <td> (72, 48) </td>\n",
       "                        <td> (72, 48) </td>\n",
       "                    </tr>\n",
       "                    <tr>\n",
       "                        <th> Dask graph </th>\n",
       "                        <td colspan=\"2\"> 1 chunks in 2 graph layers </td>\n",
       "                    </tr>\n",
       "                    <tr>\n",
       "                        <th> Data type </th>\n",
       "                        <td colspan=\"2\"> float64 numpy.ndarray </td>\n",
       "                    </tr>\n",
       "                </tbody>\n",
       "            </table>\n",
       "        </td>\n",
       "        <td>\n",
       "        <svg width=\"130\" height=\"170\" style=\"stroke:rgb(0,0,0);stroke-width:1\" >\n",
       "\n",
       "  <!-- Horizontal lines -->\n",
       "  <line x1=\"0\" y1=\"0\" x2=\"80\" y2=\"0\" style=\"stroke-width:2\" />\n",
       "  <line x1=\"0\" y1=\"120\" x2=\"80\" y2=\"120\" style=\"stroke-width:2\" />\n",
       "\n",
       "  <!-- Vertical lines -->\n",
       "  <line x1=\"0\" y1=\"0\" x2=\"0\" y2=\"120\" style=\"stroke-width:2\" />\n",
       "  <line x1=\"80\" y1=\"0\" x2=\"80\" y2=\"120\" style=\"stroke-width:2\" />\n",
       "\n",
       "  <!-- Colored Rectangle -->\n",
       "  <polygon points=\"0.0,0.0 80.0,0.0 80.0,120.0 0.0,120.0\" style=\"fill:#ECB172A0;stroke-width:0\"/>\n",
       "\n",
       "  <!-- Text -->\n",
       "  <text x=\"40.000000\" y=\"140.000000\" font-size=\"1.0rem\" font-weight=\"100\" text-anchor=\"middle\" >48</text>\n",
       "  <text x=\"100.000000\" y=\"60.000000\" font-size=\"1.0rem\" font-weight=\"100\" text-anchor=\"middle\" transform=\"rotate(0,100.000000,60.000000)\">72</text>\n",
       "</svg>\n",
       "        </td>\n",
       "    </tr>\n",
       "</table></div></li><li class='xr-var-item'><div class='xr-var-name'><span>member_id</span></div><div class='xr-var-dims'>()</div><div class='xr-var-dtype'>int64</div><div class='xr-var-preview xr-preview'>0</div><input id='attrs-046c8384-a415-47f1-8a94-37ff63e54237' class='xr-var-attrs-in' type='checkbox' disabled><label for='attrs-046c8384-a415-47f1-8a94-37ff63e54237' title='Show/Hide attributes'><svg class='icon xr-icon-file-text2'><use xlink:href='#icon-file-text2'></use></svg></label><input id='data-77ef6c87-9c19-4d91-ad44-9799019ba1da' class='xr-var-data-in' type='checkbox'><label for='data-77ef6c87-9c19-4d91-ad44-9799019ba1da' title='Show/Hide data repr'><svg class='icon xr-icon-database'><use xlink:href='#icon-database'></use></svg></label><div class='xr-var-attrs'><dl class='xr-attrs'></dl></div><div class='xr-var-data'><pre>array(0)</pre></div></li><li class='xr-var-item'><div class='xr-var-name'><span>ssp</span></div><div class='xr-var-dims'>()</div><div class='xr-var-dtype'>&lt;U6</div><div class='xr-var-preview xr-preview'>&#x27;ssp245&#x27;</div><input id='attrs-f44e9e55-3560-4d4e-9649-94e72a53a9cf' class='xr-var-attrs-in' type='checkbox' disabled><label for='attrs-f44e9e55-3560-4d4e-9649-94e72a53a9cf' title='Show/Hide attributes'><svg class='icon xr-icon-file-text2'><use xlink:href='#icon-file-text2'></use></svg></label><input id='data-929ed972-02ee-4ecc-b95d-a650783e00b0' class='xr-var-data-in' type='checkbox'><label for='data-929ed972-02ee-4ecc-b95d-a650783e00b0' title='Show/Hide data repr'><svg class='icon xr-icon-database'><use xlink:href='#icon-database'></use></svg></label><div class='xr-var-attrs'><dl class='xr-attrs'></dl></div><div class='xr-var-data'><pre>array(&#x27;ssp245&#x27;, dtype=&#x27;&lt;U6&#x27;)</pre></div></li><li class='xr-var-item'><div class='xr-var-name'><span class='xr-has-index'>time</span></div><div class='xr-var-dims'>(time)</div><div class='xr-var-dtype'>object</div><div class='xr-var-preview xr-preview'>2015-01-15 00:00:00 ... 2100-01-...</div><input id='attrs-e9989e0a-6708-48e2-8af8-28a46b6fe0e8' class='xr-var-attrs-in' type='checkbox' disabled><label for='attrs-e9989e0a-6708-48e2-8af8-28a46b6fe0e8' title='Show/Hide attributes'><svg class='icon xr-icon-file-text2'><use xlink:href='#icon-file-text2'></use></svg></label><input id='data-e35efebc-3e7f-4da8-b6b8-94a06fe3cbac' class='xr-var-data-in' type='checkbox'><label for='data-e35efebc-3e7f-4da8-b6b8-94a06fe3cbac' title='Show/Hide data repr'><svg class='icon xr-icon-database'><use xlink:href='#icon-database'></use></svg></label><div class='xr-var-attrs'><dl class='xr-attrs'></dl></div><div class='xr-var-data'><pre>array([cftime.DatetimeNoLeap(2015, 1, 15, 0, 0, 0, 0, has_year_zero=True),\n",
       "       cftime.DatetimeNoLeap(2015, 2, 15, 0, 0, 0, 0, has_year_zero=True),\n",
       "       cftime.DatetimeNoLeap(2015, 3, 15, 0, 0, 0, 0, has_year_zero=True), ...,\n",
       "       cftime.DatetimeNoLeap(2099, 11, 15, 0, 0, 0, 0, has_year_zero=True),\n",
       "       cftime.DatetimeNoLeap(2099, 12, 15, 0, 0, 0, 0, has_year_zero=True),\n",
       "       cftime.DatetimeNoLeap(2100, 1, 15, 0, 0, 0, 0, has_year_zero=True)],\n",
       "      dtype=object)</pre></div></li><li class='xr-var-item'><div class='xr-var-name'><span class='xr-has-index'>x</span></div><div class='xr-var-dims'>(x)</div><div class='xr-var-dtype'>float64</div><div class='xr-var-preview xr-preview'>1.875 6.875 11.88 ... 351.9 356.9</div><input id='attrs-a747e028-72cd-4e48-ae6c-031bd2b983bb' class='xr-var-attrs-in' type='checkbox' ><label for='attrs-a747e028-72cd-4e48-ae6c-031bd2b983bb' title='Show/Hide attributes'><svg class='icon xr-icon-file-text2'><use xlink:href='#icon-file-text2'></use></svg></label><input id='data-1b35847e-92c7-4e32-9e9c-902de3862379' class='xr-var-data-in' type='checkbox'><label for='data-1b35847e-92c7-4e32-9e9c-902de3862379' title='Show/Hide data repr'><svg class='icon xr-icon-database'><use xlink:href='#icon-database'></use></svg></label><div class='xr-var-attrs'><dl class='xr-attrs'><dt><span>axis :</span></dt><dd>X</dd><dt><span>bounds :</span></dt><dd>lon_bnds</dd><dt><span>standard_name :</span></dt><dd>longitude</dd><dt><span>title :</span></dt><dd>Longitude</dd><dt><span>type :</span></dt><dd>double</dd><dt><span>units :</span></dt><dd>degrees_east</dd><dt><span>valid_max :</span></dt><dd>360.0</dd><dt><span>valid_min :</span></dt><dd>0.0</dd></dl></div><div class='xr-var-data'><pre>array([  1.875,   6.875,  11.875,  16.875,  21.875,  26.875,  31.875,  36.875,\n",
       "        41.875,  46.875,  51.875,  56.875,  61.875,  66.875,  71.875,  76.875,\n",
       "        81.875,  86.875,  91.875,  96.875, 101.875, 106.875, 111.875, 116.875,\n",
       "       121.875, 126.875, 131.875, 136.875, 141.875, 146.875, 151.875, 156.875,\n",
       "       161.875, 166.875, 171.875, 176.875, 181.875, 186.875, 191.875, 196.875,\n",
       "       201.875, 206.875, 211.875, 216.875, 221.875, 226.875, 231.875, 236.875,\n",
       "       241.875, 246.875, 251.875, 256.875, 261.875, 266.875, 271.875, 276.875,\n",
       "       281.875, 286.875, 291.875, 296.875, 301.875, 306.875, 311.875, 316.875,\n",
       "       321.875, 326.875, 331.875, 336.875, 341.875, 346.875, 351.875, 356.875])</pre></div></li><li class='xr-var-item'><div class='xr-var-name'><span class='xr-has-index'>y</span></div><div class='xr-var-dims'>(y)</div><div class='xr-var-dtype'>float64</div><div class='xr-var-preview xr-preview'>-88.59 -84.82 ... 84.82 88.59</div><input id='attrs-53428f25-a08b-415e-8872-bfbeb74326f0' class='xr-var-attrs-in' type='checkbox' ><label for='attrs-53428f25-a08b-415e-8872-bfbeb74326f0' title='Show/Hide attributes'><svg class='icon xr-icon-file-text2'><use xlink:href='#icon-file-text2'></use></svg></label><input id='data-65b57630-2e77-4697-9f89-ce565351765d' class='xr-var-data-in' type='checkbox'><label for='data-65b57630-2e77-4697-9f89-ce565351765d' title='Show/Hide data repr'><svg class='icon xr-icon-database'><use xlink:href='#icon-database'></use></svg></label><div class='xr-var-attrs'><dl class='xr-attrs'><dt><span>axis :</span></dt><dd>Y</dd><dt><span>bounds :</span></dt><dd>lat_bnds</dd><dt><span>standard_name :</span></dt><dd>latitude</dd><dt><span>title :</span></dt><dd>Latitude</dd><dt><span>type :</span></dt><dd>double</dd><dt><span>units :</span></dt><dd>degrees_north</dd><dt><span>valid_max :</span></dt><dd>90.0</dd><dt><span>valid_min :</span></dt><dd>-90.0</dd></dl></div><div class='xr-var-data'><pre>array([-88.586387, -84.816754, -81.04712 , -77.277487, -73.507853, -69.73822 ,\n",
       "       -65.968586, -62.198953, -58.429319, -54.659686, -50.890052, -47.120419,\n",
       "       -43.350785, -39.581152, -35.811518, -32.041885, -28.272251, -24.502618,\n",
       "       -20.732984, -16.963351, -13.193717,  -9.424084,  -5.65445 ,  -1.884817,\n",
       "         1.884817,   5.65445 ,   9.424084,  13.193717,  16.963351,  20.732984,\n",
       "        24.502618,  28.272251,  32.041885,  35.811518,  39.581152,  43.350785,\n",
       "        47.120419,  50.890052,  54.659686,  58.429319,  62.198953,  65.968586,\n",
       "        69.73822 ,  73.507853,  77.277487,  81.04712 ,  84.816754,  88.586387])</pre></div></li></ul></div></li><li class='xr-section-item'><input id='section-c1a24577-971a-412e-8522-7614ed1429d9' class='xr-section-summary-in' type='checkbox'  ><label for='section-c1a24577-971a-412e-8522-7614ed1429d9' class='xr-section-summary' >Indexes: <span>(3)</span></label><div class='xr-section-inline-details'></div><div class='xr-section-details'><ul class='xr-var-list'><li class='xr-var-item'><div class='xr-index-name'><div>time</div></div><div class='xr-index-preview'>PandasIndex</div><input type='checkbox' disabled/><label></label><input id='index-2cc544c3-4b3a-4fa8-bde6-027f2f798c29' class='xr-index-data-in' type='checkbox'/><label for='index-2cc544c3-4b3a-4fa8-bde6-027f2f798c29' title='Show/Hide index repr'><svg class='icon xr-icon-database'><use xlink:href='#icon-database'></use></svg></label><div class='xr-index-data'><pre>PandasIndex(CFTimeIndex([2015-01-15 00:00:00, 2015-02-15 00:00:00, 2015-03-15 00:00:00,\n",
       "             2015-04-15 00:00:00, 2015-05-15 00:00:00, 2015-06-15 00:00:00,\n",
       "             2015-07-15 00:00:00, 2015-08-15 00:00:00, 2015-09-15 00:00:00,\n",
       "             2015-10-15 00:00:00,\n",
       "             ...\n",
       "             2099-04-15 00:00:00, 2099-05-15 00:00:00, 2099-06-15 00:00:00,\n",
       "             2099-07-15 00:00:00, 2099-08-15 00:00:00, 2099-09-15 00:00:00,\n",
       "             2099-10-15 00:00:00, 2099-11-15 00:00:00, 2099-12-15 00:00:00,\n",
       "             2100-01-15 00:00:00],\n",
       "            dtype=&#x27;object&#x27;, length=1021, calendar=&#x27;noleap&#x27;, freq=None))</pre></div></li><li class='xr-var-item'><div class='xr-index-name'><div>x</div></div><div class='xr-index-preview'>PandasIndex</div><input type='checkbox' disabled/><label></label><input id='index-7b30ca36-e5d5-4040-878c-2964f4414081' class='xr-index-data-in' type='checkbox'/><label for='index-7b30ca36-e5d5-4040-878c-2964f4414081' title='Show/Hide index repr'><svg class='icon xr-icon-database'><use xlink:href='#icon-database'></use></svg></label><div class='xr-index-data'><pre>PandasIndex(Index([  1.875,   6.875,  11.875,  16.875,  21.875,  26.875,  31.875,  36.875,\n",
       "        41.875,  46.875,  51.875,  56.875,  61.875,  66.875,  71.875,  76.875,\n",
       "        81.875,  86.875,  91.875,  96.875, 101.875, 106.875, 111.875, 116.875,\n",
       "       121.875, 126.875, 131.875, 136.875, 141.875, 146.875, 151.875, 156.875,\n",
       "       161.875, 166.875, 171.875, 176.875, 181.875, 186.875, 191.875, 196.875,\n",
       "       201.875, 206.875, 211.875, 216.875, 221.875, 226.875, 231.875, 236.875,\n",
       "       241.875, 246.875, 251.875, 256.875, 261.875, 266.875, 271.875, 276.875,\n",
       "       281.875, 286.875, 291.875, 296.875, 301.875, 306.875, 311.875, 316.875,\n",
       "       321.875, 326.875, 331.875, 336.875, 341.875, 346.875, 351.875, 356.875],\n",
       "      dtype=&#x27;float64&#x27;, name=&#x27;x&#x27;))</pre></div></li><li class='xr-var-item'><div class='xr-index-name'><div>y</div></div><div class='xr-index-preview'>PandasIndex</div><input type='checkbox' disabled/><label></label><input id='index-64c105a4-f18c-4830-813f-464827da3032' class='xr-index-data-in' type='checkbox'/><label for='index-64c105a4-f18c-4830-813f-464827da3032' title='Show/Hide index repr'><svg class='icon xr-icon-database'><use xlink:href='#icon-database'></use></svg></label><div class='xr-index-data'><pre>PandasIndex(Index([ -88.58638743455498,  -84.81675392670157,  -81.04712041884817,\n",
       "        -77.27748691099475,  -73.50785340314135,  -69.73821989528795,\n",
       "        -65.96858638743456,  -62.19895287958116,  -58.42931937172774,\n",
       "       -54.659685863874344,  -50.89005235602094,  -47.12041884816754,\n",
       "        -43.35078534031414,  -39.58115183246073,  -35.81151832460733,\n",
       "        -32.04188481675392, -28.272251308900525, -24.502617801047123,\n",
       "       -20.732984293193716, -16.963350785340317, -13.193717277486911,\n",
       "        -9.424083769633508,  -5.654450261780106, -1.8848167539267031,\n",
       "        1.8848167539266996,   5.654450261780106,   9.424083769633505,\n",
       "        13.193717277486911,  16.963350785340314,  20.732984293193716,\n",
       "         24.50261780104712,  28.272251308900522,   32.04188481675393,\n",
       "         35.81151832460733,   39.58115183246073,   43.35078534031413,\n",
       "         47.12041884816754,  50.890052356020945,  54.659685863874344,\n",
       "         58.42931937172774,   62.19895287958115,   65.96858638743456,\n",
       "         69.73821989528795,   73.50785340314135,   77.27748691099477,\n",
       "         81.04712041884817,   84.81675392670157,   88.58638743455498],\n",
       "      dtype=&#x27;float64&#x27;, name=&#x27;y&#x27;))</pre></div></li></ul></div></li><li class='xr-section-item'><input id='section-25ce45d7-f9e7-44b6-9215-4489e25b619a' class='xr-section-summary-in' type='checkbox'  ><label for='section-25ce45d7-f9e7-44b6-9215-4489e25b619a' class='xr-section-summary' >Attributes: <span>(19)</span></label><div class='xr-section-inline-details'></div><div class='xr-section-details'><dl class='xr-attrs'><dt><span>cell_measures :</span></dt><dd>area: areacella</dd><dt><span>cell_methods :</span></dt><dd>area: time: mean</dd><dt><span>comment :</span></dt><dd>TREFHT</dd><dt><span>description :</span></dt><dd>near-surface (usually, 2 meter) air temperature</dd><dt><span>frequency :</span></dt><dd>day</dd><dt><span>id :</span></dt><dd>tas</dd><dt><span>long_name :</span></dt><dd>Near-Surface Air Temperature</dd><dt><span>mipTable :</span></dt><dd>day</dd><dt><span>out_name :</span></dt><dd>tas</dd><dt><span>prov :</span></dt><dd>day ((isd.003))</dd><dt><span>realm :</span></dt><dd>atmos</dd><dt><span>standard_name :</span></dt><dd>air_temperature</dd><dt><span>time :</span></dt><dd>time</dd><dt><span>time_label :</span></dt><dd>time-mean</dd><dt><span>time_title :</span></dt><dd>Temporal mean</dd><dt><span>title :</span></dt><dd>Near-Surface Air Temperature</dd><dt><span>type :</span></dt><dd>real</dd><dt><span>units :</span></dt><dd>K</dd><dt><span>variable_id :</span></dt><dd>tas</dd></dl></div></li></ul></div></div>"
      ],
      "text/plain": [
       "<xarray.DataArray 'tas' (time: 1021, y: 48, x: 72)> Size: 14MB\n",
       "dask.array<getitem, shape=(1021, 48, 72), dtype=float32, chunksize=(24, 48, 72), chunktype=numpy.ndarray>\n",
       "Coordinates:\n",
       "    lat        (x, y) float64 28kB dask.array<chunksize=(72, 48), meta=np.ndarray>\n",
       "    lon        (x, y) float64 28kB dask.array<chunksize=(72, 48), meta=np.ndarray>\n",
       "    member_id  int64 8B 0\n",
       "    ssp        <U6 24B 'ssp245'\n",
       "  * time       (time) object 8kB 2015-01-15 00:00:00 ... 2100-01-15 00:00:00\n",
       "  * x          (x) float64 576B 1.875 6.875 11.88 16.88 ... 346.9 351.9 356.9\n",
       "  * y          (y) float64 384B -88.59 -84.82 -81.05 ... 81.05 84.82 88.59\n",
       "Attributes: (12/19)\n",
       "    cell_measures:  area: areacella\n",
       "    cell_methods:   area: time: mean\n",
       "    comment:        TREFHT\n",
       "    description:    near-surface (usually, 2 meter) air temperature\n",
       "    frequency:      day\n",
       "    id:             tas\n",
       "    ...             ...\n",
       "    time_label:     time-mean\n",
       "    time_title:     Temporal mean\n",
       "    title:          Near-Surface Air Temperature\n",
       "    type:           real\n",
       "    units:          K\n",
       "    variable_id:    tas"
      ]
     },
     "execution_count": 41,
     "metadata": {},
     "output_type": "execute_result"
    }
   ],
   "source": [
    "ds[\"tas\"]\n",
    "ds[\"tas\"].sel(ssp=\"ssp245\", member_id=0)\n"
   ]
  },
  {
   "cell_type": "code",
   "execution_count": 42,
   "metadata": {},
   "outputs": [
    {
     "data": {
      "text/html": [
       "<div><svg style=\"position: absolute; width: 0; height: 0; overflow: hidden\">\n",
       "<defs>\n",
       "<symbol id=\"icon-database\" viewBox=\"0 0 32 32\">\n",
       "<path d=\"M16 0c-8.837 0-16 2.239-16 5v4c0 2.761 7.163 5 16 5s16-2.239 16-5v-4c0-2.761-7.163-5-16-5z\"></path>\n",
       "<path d=\"M16 17c-8.837 0-16-2.239-16-5v6c0 2.761 7.163 5 16 5s16-2.239 16-5v-6c0 2.761-7.163 5-16 5z\"></path>\n",
       "<path d=\"M16 26c-8.837 0-16-2.239-16-5v6c0 2.761 7.163 5 16 5s16-2.239 16-5v-6c0 2.761-7.163 5-16 5z\"></path>\n",
       "</symbol>\n",
       "<symbol id=\"icon-file-text2\" viewBox=\"0 0 32 32\">\n",
       "<path d=\"M28.681 7.159c-0.694-0.947-1.662-2.053-2.724-3.116s-2.169-2.030-3.116-2.724c-1.612-1.182-2.393-1.319-2.841-1.319h-15.5c-1.378 0-2.5 1.121-2.5 2.5v27c0 1.378 1.122 2.5 2.5 2.5h23c1.378 0 2.5-1.122 2.5-2.5v-19.5c0-0.448-0.137-1.23-1.319-2.841zM24.543 5.457c0.959 0.959 1.712 1.825 2.268 2.543h-4.811v-4.811c0.718 0.556 1.584 1.309 2.543 2.268zM28 29.5c0 0.271-0.229 0.5-0.5 0.5h-23c-0.271 0-0.5-0.229-0.5-0.5v-27c0-0.271 0.229-0.5 0.5-0.5 0 0 15.499-0 15.5 0v7c0 0.552 0.448 1 1 1h7v19.5z\"></path>\n",
       "<path d=\"M23 26h-14c-0.552 0-1-0.448-1-1s0.448-1 1-1h14c0.552 0 1 0.448 1 1s-0.448 1-1 1z\"></path>\n",
       "<path d=\"M23 22h-14c-0.552 0-1-0.448-1-1s0.448-1 1-1h14c0.552 0 1 0.448 1 1s-0.448 1-1 1z\"></path>\n",
       "<path d=\"M23 18h-14c-0.552 0-1-0.448-1-1s0.448-1 1-1h14c0.552 0 1 0.448 1 1s-0.448 1-1 1z\"></path>\n",
       "</symbol>\n",
       "</defs>\n",
       "</svg>\n",
       "<style>/* CSS stylesheet for displaying xarray objects in jupyterlab.\n",
       " *\n",
       " */\n",
       "\n",
       ":root {\n",
       "  --xr-font-color0: var(--jp-content-font-color0, rgba(0, 0, 0, 1));\n",
       "  --xr-font-color2: var(--jp-content-font-color2, rgba(0, 0, 0, 0.54));\n",
       "  --xr-font-color3: var(--jp-content-font-color3, rgba(0, 0, 0, 0.38));\n",
       "  --xr-border-color: var(--jp-border-color2, #e0e0e0);\n",
       "  --xr-disabled-color: var(--jp-layout-color3, #bdbdbd);\n",
       "  --xr-background-color: var(--jp-layout-color0, white);\n",
       "  --xr-background-color-row-even: var(--jp-layout-color1, white);\n",
       "  --xr-background-color-row-odd: var(--jp-layout-color2, #eeeeee);\n",
       "}\n",
       "\n",
       "html[theme=\"dark\"],\n",
       "html[data-theme=\"dark\"],\n",
       "body[data-theme=\"dark\"],\n",
       "body.vscode-dark {\n",
       "  --xr-font-color0: rgba(255, 255, 255, 1);\n",
       "  --xr-font-color2: rgba(255, 255, 255, 0.54);\n",
       "  --xr-font-color3: rgba(255, 255, 255, 0.38);\n",
       "  --xr-border-color: #1f1f1f;\n",
       "  --xr-disabled-color: #515151;\n",
       "  --xr-background-color: #111111;\n",
       "  --xr-background-color-row-even: #111111;\n",
       "  --xr-background-color-row-odd: #313131;\n",
       "}\n",
       "\n",
       ".xr-wrap {\n",
       "  display: block !important;\n",
       "  min-width: 300px;\n",
       "  max-width: 700px;\n",
       "}\n",
       "\n",
       ".xr-text-repr-fallback {\n",
       "  /* fallback to plain text repr when CSS is not injected (untrusted notebook) */\n",
       "  display: none;\n",
       "}\n",
       "\n",
       ".xr-header {\n",
       "  padding-top: 6px;\n",
       "  padding-bottom: 6px;\n",
       "  margin-bottom: 4px;\n",
       "  border-bottom: solid 1px var(--xr-border-color);\n",
       "}\n",
       "\n",
       ".xr-header > div,\n",
       ".xr-header > ul {\n",
       "  display: inline;\n",
       "  margin-top: 0;\n",
       "  margin-bottom: 0;\n",
       "}\n",
       "\n",
       ".xr-obj-type,\n",
       ".xr-array-name {\n",
       "  margin-left: 2px;\n",
       "  margin-right: 10px;\n",
       "}\n",
       "\n",
       ".xr-obj-type {\n",
       "  color: var(--xr-font-color2);\n",
       "}\n",
       "\n",
       ".xr-sections {\n",
       "  padding-left: 0 !important;\n",
       "  display: grid;\n",
       "  grid-template-columns: 150px auto auto 1fr 0 20px 0 20px;\n",
       "}\n",
       "\n",
       ".xr-section-item {\n",
       "  display: contents;\n",
       "}\n",
       "\n",
       ".xr-section-item input {\n",
       "  display: inline-block;\n",
       "  opacity: 0;\n",
       "  height: 0;\n",
       "}\n",
       "\n",
       ".xr-section-item input + label {\n",
       "  color: var(--xr-disabled-color);\n",
       "}\n",
       "\n",
       ".xr-section-item input:enabled + label {\n",
       "  cursor: pointer;\n",
       "  color: var(--xr-font-color2);\n",
       "}\n",
       "\n",
       ".xr-section-item input:focus + label {\n",
       "  border: 2px solid var(--xr-font-color0);\n",
       "}\n",
       "\n",
       ".xr-section-item input:enabled + label:hover {\n",
       "  color: var(--xr-font-color0);\n",
       "}\n",
       "\n",
       ".xr-section-summary {\n",
       "  grid-column: 1;\n",
       "  color: var(--xr-font-color2);\n",
       "  font-weight: 500;\n",
       "}\n",
       "\n",
       ".xr-section-summary > span {\n",
       "  display: inline-block;\n",
       "  padding-left: 0.5em;\n",
       "}\n",
       "\n",
       ".xr-section-summary-in:disabled + label {\n",
       "  color: var(--xr-font-color2);\n",
       "}\n",
       "\n",
       ".xr-section-summary-in + label:before {\n",
       "  display: inline-block;\n",
       "  content: \"►\";\n",
       "  font-size: 11px;\n",
       "  width: 15px;\n",
       "  text-align: center;\n",
       "}\n",
       "\n",
       ".xr-section-summary-in:disabled + label:before {\n",
       "  color: var(--xr-disabled-color);\n",
       "}\n",
       "\n",
       ".xr-section-summary-in:checked + label:before {\n",
       "  content: \"▼\";\n",
       "}\n",
       "\n",
       ".xr-section-summary-in:checked + label > span {\n",
       "  display: none;\n",
       "}\n",
       "\n",
       ".xr-section-summary,\n",
       ".xr-section-inline-details {\n",
       "  padding-top: 4px;\n",
       "  padding-bottom: 4px;\n",
       "}\n",
       "\n",
       ".xr-section-inline-details {\n",
       "  grid-column: 2 / -1;\n",
       "}\n",
       "\n",
       ".xr-section-details {\n",
       "  display: none;\n",
       "  grid-column: 1 / -1;\n",
       "  margin-bottom: 5px;\n",
       "}\n",
       "\n",
       ".xr-section-summary-in:checked ~ .xr-section-details {\n",
       "  display: contents;\n",
       "}\n",
       "\n",
       ".xr-array-wrap {\n",
       "  grid-column: 1 / -1;\n",
       "  display: grid;\n",
       "  grid-template-columns: 20px auto;\n",
       "}\n",
       "\n",
       ".xr-array-wrap > label {\n",
       "  grid-column: 1;\n",
       "  vertical-align: top;\n",
       "}\n",
       "\n",
       ".xr-preview {\n",
       "  color: var(--xr-font-color3);\n",
       "}\n",
       "\n",
       ".xr-array-preview,\n",
       ".xr-array-data {\n",
       "  padding: 0 5px !important;\n",
       "  grid-column: 2;\n",
       "}\n",
       "\n",
       ".xr-array-data,\n",
       ".xr-array-in:checked ~ .xr-array-preview {\n",
       "  display: none;\n",
       "}\n",
       "\n",
       ".xr-array-in:checked ~ .xr-array-data,\n",
       ".xr-array-preview {\n",
       "  display: inline-block;\n",
       "}\n",
       "\n",
       ".xr-dim-list {\n",
       "  display: inline-block !important;\n",
       "  list-style: none;\n",
       "  padding: 0 !important;\n",
       "  margin: 0;\n",
       "}\n",
       "\n",
       ".xr-dim-list li {\n",
       "  display: inline-block;\n",
       "  padding: 0;\n",
       "  margin: 0;\n",
       "}\n",
       "\n",
       ".xr-dim-list:before {\n",
       "  content: \"(\";\n",
       "}\n",
       "\n",
       ".xr-dim-list:after {\n",
       "  content: \")\";\n",
       "}\n",
       "\n",
       ".xr-dim-list li:not(:last-child):after {\n",
       "  content: \",\";\n",
       "  padding-right: 5px;\n",
       "}\n",
       "\n",
       ".xr-has-index {\n",
       "  font-weight: bold;\n",
       "}\n",
       "\n",
       ".xr-var-list,\n",
       ".xr-var-item {\n",
       "  display: contents;\n",
       "}\n",
       "\n",
       ".xr-var-item > div,\n",
       ".xr-var-item label,\n",
       ".xr-var-item > .xr-var-name span {\n",
       "  background-color: var(--xr-background-color-row-even);\n",
       "  margin-bottom: 0;\n",
       "}\n",
       "\n",
       ".xr-var-item > .xr-var-name:hover span {\n",
       "  padding-right: 5px;\n",
       "}\n",
       "\n",
       ".xr-var-list > li:nth-child(odd) > div,\n",
       ".xr-var-list > li:nth-child(odd) > label,\n",
       ".xr-var-list > li:nth-child(odd) > .xr-var-name span {\n",
       "  background-color: var(--xr-background-color-row-odd);\n",
       "}\n",
       "\n",
       ".xr-var-name {\n",
       "  grid-column: 1;\n",
       "}\n",
       "\n",
       ".xr-var-dims {\n",
       "  grid-column: 2;\n",
       "}\n",
       "\n",
       ".xr-var-dtype {\n",
       "  grid-column: 3;\n",
       "  text-align: right;\n",
       "  color: var(--xr-font-color2);\n",
       "}\n",
       "\n",
       ".xr-var-preview {\n",
       "  grid-column: 4;\n",
       "}\n",
       "\n",
       ".xr-index-preview {\n",
       "  grid-column: 2 / 5;\n",
       "  color: var(--xr-font-color2);\n",
       "}\n",
       "\n",
       ".xr-var-name,\n",
       ".xr-var-dims,\n",
       ".xr-var-dtype,\n",
       ".xr-preview,\n",
       ".xr-attrs dt {\n",
       "  white-space: nowrap;\n",
       "  overflow: hidden;\n",
       "  text-overflow: ellipsis;\n",
       "  padding-right: 10px;\n",
       "}\n",
       "\n",
       ".xr-var-name:hover,\n",
       ".xr-var-dims:hover,\n",
       ".xr-var-dtype:hover,\n",
       ".xr-attrs dt:hover {\n",
       "  overflow: visible;\n",
       "  width: auto;\n",
       "  z-index: 1;\n",
       "}\n",
       "\n",
       ".xr-var-attrs,\n",
       ".xr-var-data,\n",
       ".xr-index-data {\n",
       "  display: none;\n",
       "  background-color: var(--xr-background-color) !important;\n",
       "  padding-bottom: 5px !important;\n",
       "}\n",
       "\n",
       ".xr-var-attrs-in:checked ~ .xr-var-attrs,\n",
       ".xr-var-data-in:checked ~ .xr-var-data,\n",
       ".xr-index-data-in:checked ~ .xr-index-data {\n",
       "  display: block;\n",
       "}\n",
       "\n",
       ".xr-var-data > table {\n",
       "  float: right;\n",
       "}\n",
       "\n",
       ".xr-var-name span,\n",
       ".xr-var-data,\n",
       ".xr-index-name div,\n",
       ".xr-index-data,\n",
       ".xr-attrs {\n",
       "  padding-left: 25px !important;\n",
       "}\n",
       "\n",
       ".xr-attrs,\n",
       ".xr-var-attrs,\n",
       ".xr-var-data,\n",
       ".xr-index-data {\n",
       "  grid-column: 1 / -1;\n",
       "}\n",
       "\n",
       "dl.xr-attrs {\n",
       "  padding: 0;\n",
       "  margin: 0;\n",
       "  display: grid;\n",
       "  grid-template-columns: 125px auto;\n",
       "}\n",
       "\n",
       ".xr-attrs dt,\n",
       ".xr-attrs dd {\n",
       "  padding: 0;\n",
       "  margin: 0;\n",
       "  float: left;\n",
       "  padding-right: 10px;\n",
       "  width: auto;\n",
       "}\n",
       "\n",
       ".xr-attrs dt {\n",
       "  font-weight: normal;\n",
       "  grid-column: 1;\n",
       "}\n",
       "\n",
       ".xr-attrs dt:hover span {\n",
       "  display: inline-block;\n",
       "  background: var(--xr-background-color);\n",
       "  padding-right: 10px;\n",
       "}\n",
       "\n",
       ".xr-attrs dd {\n",
       "  grid-column: 2;\n",
       "  white-space: pre-wrap;\n",
       "  word-break: break-all;\n",
       "}\n",
       "\n",
       ".xr-icon-database,\n",
       ".xr-icon-file-text2,\n",
       ".xr-no-icon {\n",
       "  display: inline-block;\n",
       "  vertical-align: middle;\n",
       "  width: 1em;\n",
       "  height: 1.5em !important;\n",
       "  stroke-width: 0;\n",
       "  stroke: currentColor;\n",
       "  fill: currentColor;\n",
       "}\n",
       "</style><pre class='xr-text-repr-fallback'>&lt;xarray.DataArray &#x27;tas&#x27; (y: 48, x: 72)&gt; Size: 14kB\n",
       "dask.array&lt;getitem, shape=(48, 72), dtype=float32, chunksize=(48, 72), chunktype=numpy.ndarray&gt;\n",
       "Coordinates:\n",
       "    lat        (x, y) float64 28kB dask.array&lt;chunksize=(72, 48), meta=np.ndarray&gt;\n",
       "    lon        (x, y) float64 28kB dask.array&lt;chunksize=(72, 48), meta=np.ndarray&gt;\n",
       "    member_id  int64 8B 0\n",
       "    ssp        &lt;U6 24B &#x27;ssp245&#x27;\n",
       "    time       object 8B 2015-01-15 00:00:00\n",
       "  * x          (x) float64 576B 1.875 6.875 11.88 16.88 ... 346.9 351.9 356.9\n",
       "  * y          (y) float64 384B -88.59 -84.82 -81.05 ... 81.05 84.82 88.59\n",
       "Attributes: (12/19)\n",
       "    cell_measures:  area: areacella\n",
       "    cell_methods:   area: time: mean\n",
       "    comment:        TREFHT\n",
       "    description:    near-surface (usually, 2 meter) air temperature\n",
       "    frequency:      day\n",
       "    id:             tas\n",
       "    ...             ...\n",
       "    time_label:     time-mean\n",
       "    time_title:     Temporal mean\n",
       "    title:          Near-Surface Air Temperature\n",
       "    type:           real\n",
       "    units:          K\n",
       "    variable_id:    tas</pre><div class='xr-wrap' style='display:none'><div class='xr-header'><div class='xr-obj-type'>xarray.DataArray</div><div class='xr-array-name'>'tas'</div><ul class='xr-dim-list'><li><span class='xr-has-index'>y</span>: 48</li><li><span class='xr-has-index'>x</span>: 72</li></ul></div><ul class='xr-sections'><li class='xr-section-item'><div class='xr-array-wrap'><input id='section-1df99465-779d-4caf-a2a6-250b15218b72' class='xr-array-in' type='checkbox' checked><label for='section-1df99465-779d-4caf-a2a6-250b15218b72' title='Show/hide data repr'><svg class='icon xr-icon-database'><use xlink:href='#icon-database'></use></svg></label><div class='xr-array-preview xr-preview'><span>dask.array&lt;chunksize=(48, 72), meta=np.ndarray&gt;</span></div><div class='xr-array-data'><table>\n",
       "    <tr>\n",
       "        <td>\n",
       "            <table style=\"border-collapse: collapse;\">\n",
       "                <thead>\n",
       "                    <tr>\n",
       "                        <td> </td>\n",
       "                        <th> Array </th>\n",
       "                        <th> Chunk </th>\n",
       "                    </tr>\n",
       "                </thead>\n",
       "                <tbody>\n",
       "                    \n",
       "                    <tr>\n",
       "                        <th> Bytes </th>\n",
       "                        <td> 13.50 kiB </td>\n",
       "                        <td> 13.50 kiB </td>\n",
       "                    </tr>\n",
       "                    \n",
       "                    <tr>\n",
       "                        <th> Shape </th>\n",
       "                        <td> (48, 72) </td>\n",
       "                        <td> (48, 72) </td>\n",
       "                    </tr>\n",
       "                    <tr>\n",
       "                        <th> Dask graph </th>\n",
       "                        <td colspan=\"2\"> 1 chunks in 4 graph layers </td>\n",
       "                    </tr>\n",
       "                    <tr>\n",
       "                        <th> Data type </th>\n",
       "                        <td colspan=\"2\"> float32 numpy.ndarray </td>\n",
       "                    </tr>\n",
       "                </tbody>\n",
       "            </table>\n",
       "        </td>\n",
       "        <td>\n",
       "        <svg width=\"170\" height=\"130\" style=\"stroke:rgb(0,0,0);stroke-width:1\" >\n",
       "\n",
       "  <!-- Horizontal lines -->\n",
       "  <line x1=\"0\" y1=\"0\" x2=\"120\" y2=\"0\" style=\"stroke-width:2\" />\n",
       "  <line x1=\"0\" y1=\"80\" x2=\"120\" y2=\"80\" style=\"stroke-width:2\" />\n",
       "\n",
       "  <!-- Vertical lines -->\n",
       "  <line x1=\"0\" y1=\"0\" x2=\"0\" y2=\"80\" style=\"stroke-width:2\" />\n",
       "  <line x1=\"120\" y1=\"0\" x2=\"120\" y2=\"80\" style=\"stroke-width:2\" />\n",
       "\n",
       "  <!-- Colored Rectangle -->\n",
       "  <polygon points=\"0.0,0.0 120.0,0.0 120.0,80.0 0.0,80.0\" style=\"fill:#ECB172A0;stroke-width:0\"/>\n",
       "\n",
       "  <!-- Text -->\n",
       "  <text x=\"60.000000\" y=\"100.000000\" font-size=\"1.0rem\" font-weight=\"100\" text-anchor=\"middle\" >72</text>\n",
       "  <text x=\"140.000000\" y=\"40.000000\" font-size=\"1.0rem\" font-weight=\"100\" text-anchor=\"middle\" transform=\"rotate(0,140.000000,40.000000)\">48</text>\n",
       "</svg>\n",
       "        </td>\n",
       "    </tr>\n",
       "</table></div></div></li><li class='xr-section-item'><input id='section-54fe49b9-2a62-452d-b2be-39501f2d12b9' class='xr-section-summary-in' type='checkbox'  checked><label for='section-54fe49b9-2a62-452d-b2be-39501f2d12b9' class='xr-section-summary' >Coordinates: <span>(7)</span></label><div class='xr-section-inline-details'></div><div class='xr-section-details'><ul class='xr-var-list'><li class='xr-var-item'><div class='xr-var-name'><span>lat</span></div><div class='xr-var-dims'>(x, y)</div><div class='xr-var-dtype'>float64</div><div class='xr-var-preview xr-preview'>dask.array&lt;chunksize=(72, 48), meta=np.ndarray&gt;</div><input id='attrs-834eaf6f-76ec-471c-9cdb-7086bbcab2b1' class='xr-var-attrs-in' type='checkbox' disabled><label for='attrs-834eaf6f-76ec-471c-9cdb-7086bbcab2b1' title='Show/Hide attributes'><svg class='icon xr-icon-file-text2'><use xlink:href='#icon-file-text2'></use></svg></label><input id='data-03837523-5066-4e91-b4df-8dae2403bf5a' class='xr-var-data-in' type='checkbox'><label for='data-03837523-5066-4e91-b4df-8dae2403bf5a' title='Show/Hide data repr'><svg class='icon xr-icon-database'><use xlink:href='#icon-database'></use></svg></label><div class='xr-var-attrs'><dl class='xr-attrs'></dl></div><div class='xr-var-data'><table>\n",
       "    <tr>\n",
       "        <td>\n",
       "            <table style=\"border-collapse: collapse;\">\n",
       "                <thead>\n",
       "                    <tr>\n",
       "                        <td> </td>\n",
       "                        <th> Array </th>\n",
       "                        <th> Chunk </th>\n",
       "                    </tr>\n",
       "                </thead>\n",
       "                <tbody>\n",
       "                    \n",
       "                    <tr>\n",
       "                        <th> Bytes </th>\n",
       "                        <td> 27.00 kiB </td>\n",
       "                        <td> 27.00 kiB </td>\n",
       "                    </tr>\n",
       "                    \n",
       "                    <tr>\n",
       "                        <th> Shape </th>\n",
       "                        <td> (72, 48) </td>\n",
       "                        <td> (72, 48) </td>\n",
       "                    </tr>\n",
       "                    <tr>\n",
       "                        <th> Dask graph </th>\n",
       "                        <td colspan=\"2\"> 1 chunks in 2 graph layers </td>\n",
       "                    </tr>\n",
       "                    <tr>\n",
       "                        <th> Data type </th>\n",
       "                        <td colspan=\"2\"> float64 numpy.ndarray </td>\n",
       "                    </tr>\n",
       "                </tbody>\n",
       "            </table>\n",
       "        </td>\n",
       "        <td>\n",
       "        <svg width=\"130\" height=\"170\" style=\"stroke:rgb(0,0,0);stroke-width:1\" >\n",
       "\n",
       "  <!-- Horizontal lines -->\n",
       "  <line x1=\"0\" y1=\"0\" x2=\"80\" y2=\"0\" style=\"stroke-width:2\" />\n",
       "  <line x1=\"0\" y1=\"120\" x2=\"80\" y2=\"120\" style=\"stroke-width:2\" />\n",
       "\n",
       "  <!-- Vertical lines -->\n",
       "  <line x1=\"0\" y1=\"0\" x2=\"0\" y2=\"120\" style=\"stroke-width:2\" />\n",
       "  <line x1=\"80\" y1=\"0\" x2=\"80\" y2=\"120\" style=\"stroke-width:2\" />\n",
       "\n",
       "  <!-- Colored Rectangle -->\n",
       "  <polygon points=\"0.0,0.0 80.0,0.0 80.0,120.0 0.0,120.0\" style=\"fill:#ECB172A0;stroke-width:0\"/>\n",
       "\n",
       "  <!-- Text -->\n",
       "  <text x=\"40.000000\" y=\"140.000000\" font-size=\"1.0rem\" font-weight=\"100\" text-anchor=\"middle\" >48</text>\n",
       "  <text x=\"100.000000\" y=\"60.000000\" font-size=\"1.0rem\" font-weight=\"100\" text-anchor=\"middle\" transform=\"rotate(0,100.000000,60.000000)\">72</text>\n",
       "</svg>\n",
       "        </td>\n",
       "    </tr>\n",
       "</table></div></li><li class='xr-var-item'><div class='xr-var-name'><span>lon</span></div><div class='xr-var-dims'>(x, y)</div><div class='xr-var-dtype'>float64</div><div class='xr-var-preview xr-preview'>dask.array&lt;chunksize=(72, 48), meta=np.ndarray&gt;</div><input id='attrs-2e050d6f-fb90-4a10-be6f-c1868bdbfed5' class='xr-var-attrs-in' type='checkbox' disabled><label for='attrs-2e050d6f-fb90-4a10-be6f-c1868bdbfed5' title='Show/Hide attributes'><svg class='icon xr-icon-file-text2'><use xlink:href='#icon-file-text2'></use></svg></label><input id='data-05bc7877-a9a6-4dc0-bbea-c58b614f6028' class='xr-var-data-in' type='checkbox'><label for='data-05bc7877-a9a6-4dc0-bbea-c58b614f6028' title='Show/Hide data repr'><svg class='icon xr-icon-database'><use xlink:href='#icon-database'></use></svg></label><div class='xr-var-attrs'><dl class='xr-attrs'></dl></div><div class='xr-var-data'><table>\n",
       "    <tr>\n",
       "        <td>\n",
       "            <table style=\"border-collapse: collapse;\">\n",
       "                <thead>\n",
       "                    <tr>\n",
       "                        <td> </td>\n",
       "                        <th> Array </th>\n",
       "                        <th> Chunk </th>\n",
       "                    </tr>\n",
       "                </thead>\n",
       "                <tbody>\n",
       "                    \n",
       "                    <tr>\n",
       "                        <th> Bytes </th>\n",
       "                        <td> 27.00 kiB </td>\n",
       "                        <td> 27.00 kiB </td>\n",
       "                    </tr>\n",
       "                    \n",
       "                    <tr>\n",
       "                        <th> Shape </th>\n",
       "                        <td> (72, 48) </td>\n",
       "                        <td> (72, 48) </td>\n",
       "                    </tr>\n",
       "                    <tr>\n",
       "                        <th> Dask graph </th>\n",
       "                        <td colspan=\"2\"> 1 chunks in 2 graph layers </td>\n",
       "                    </tr>\n",
       "                    <tr>\n",
       "                        <th> Data type </th>\n",
       "                        <td colspan=\"2\"> float64 numpy.ndarray </td>\n",
       "                    </tr>\n",
       "                </tbody>\n",
       "            </table>\n",
       "        </td>\n",
       "        <td>\n",
       "        <svg width=\"130\" height=\"170\" style=\"stroke:rgb(0,0,0);stroke-width:1\" >\n",
       "\n",
       "  <!-- Horizontal lines -->\n",
       "  <line x1=\"0\" y1=\"0\" x2=\"80\" y2=\"0\" style=\"stroke-width:2\" />\n",
       "  <line x1=\"0\" y1=\"120\" x2=\"80\" y2=\"120\" style=\"stroke-width:2\" />\n",
       "\n",
       "  <!-- Vertical lines -->\n",
       "  <line x1=\"0\" y1=\"0\" x2=\"0\" y2=\"120\" style=\"stroke-width:2\" />\n",
       "  <line x1=\"80\" y1=\"0\" x2=\"80\" y2=\"120\" style=\"stroke-width:2\" />\n",
       "\n",
       "  <!-- Colored Rectangle -->\n",
       "  <polygon points=\"0.0,0.0 80.0,0.0 80.0,120.0 0.0,120.0\" style=\"fill:#ECB172A0;stroke-width:0\"/>\n",
       "\n",
       "  <!-- Text -->\n",
       "  <text x=\"40.000000\" y=\"140.000000\" font-size=\"1.0rem\" font-weight=\"100\" text-anchor=\"middle\" >48</text>\n",
       "  <text x=\"100.000000\" y=\"60.000000\" font-size=\"1.0rem\" font-weight=\"100\" text-anchor=\"middle\" transform=\"rotate(0,100.000000,60.000000)\">72</text>\n",
       "</svg>\n",
       "        </td>\n",
       "    </tr>\n",
       "</table></div></li><li class='xr-var-item'><div class='xr-var-name'><span>member_id</span></div><div class='xr-var-dims'>()</div><div class='xr-var-dtype'>int64</div><div class='xr-var-preview xr-preview'>0</div><input id='attrs-1e4af705-25cf-4e73-aed3-69868d3f66c7' class='xr-var-attrs-in' type='checkbox' disabled><label for='attrs-1e4af705-25cf-4e73-aed3-69868d3f66c7' title='Show/Hide attributes'><svg class='icon xr-icon-file-text2'><use xlink:href='#icon-file-text2'></use></svg></label><input id='data-6c7294eb-ed06-4b51-bb8e-4b55baadcb2c' class='xr-var-data-in' type='checkbox'><label for='data-6c7294eb-ed06-4b51-bb8e-4b55baadcb2c' title='Show/Hide data repr'><svg class='icon xr-icon-database'><use xlink:href='#icon-database'></use></svg></label><div class='xr-var-attrs'><dl class='xr-attrs'></dl></div><div class='xr-var-data'><pre>array(0)</pre></div></li><li class='xr-var-item'><div class='xr-var-name'><span>ssp</span></div><div class='xr-var-dims'>()</div><div class='xr-var-dtype'>&lt;U6</div><div class='xr-var-preview xr-preview'>&#x27;ssp245&#x27;</div><input id='attrs-c49f96ff-5132-4ddd-b13f-ba34508d45fb' class='xr-var-attrs-in' type='checkbox' disabled><label for='attrs-c49f96ff-5132-4ddd-b13f-ba34508d45fb' title='Show/Hide attributes'><svg class='icon xr-icon-file-text2'><use xlink:href='#icon-file-text2'></use></svg></label><input id='data-a8d207a4-d94d-4aea-afd7-5d7b8fa9c134' class='xr-var-data-in' type='checkbox'><label for='data-a8d207a4-d94d-4aea-afd7-5d7b8fa9c134' title='Show/Hide data repr'><svg class='icon xr-icon-database'><use xlink:href='#icon-database'></use></svg></label><div class='xr-var-attrs'><dl class='xr-attrs'></dl></div><div class='xr-var-data'><pre>array(&#x27;ssp245&#x27;, dtype=&#x27;&lt;U6&#x27;)</pre></div></li><li class='xr-var-item'><div class='xr-var-name'><span>time</span></div><div class='xr-var-dims'>()</div><div class='xr-var-dtype'>object</div><div class='xr-var-preview xr-preview'>2015-01-15 00:00:00</div><input id='attrs-bcd76a7a-ba43-472a-9454-adb7b89d4ecd' class='xr-var-attrs-in' type='checkbox' disabled><label for='attrs-bcd76a7a-ba43-472a-9454-adb7b89d4ecd' title='Show/Hide attributes'><svg class='icon xr-icon-file-text2'><use xlink:href='#icon-file-text2'></use></svg></label><input id='data-3b01c585-f28d-48d8-8e8c-569d4801d3da' class='xr-var-data-in' type='checkbox'><label for='data-3b01c585-f28d-48d8-8e8c-569d4801d3da' title='Show/Hide data repr'><svg class='icon xr-icon-database'><use xlink:href='#icon-database'></use></svg></label><div class='xr-var-attrs'><dl class='xr-attrs'></dl></div><div class='xr-var-data'><pre>array(cftime.DatetimeNoLeap(2015, 1, 15, 0, 0, 0, 0, has_year_zero=True),\n",
       "      dtype=object)</pre></div></li><li class='xr-var-item'><div class='xr-var-name'><span class='xr-has-index'>x</span></div><div class='xr-var-dims'>(x)</div><div class='xr-var-dtype'>float64</div><div class='xr-var-preview xr-preview'>1.875 6.875 11.88 ... 351.9 356.9</div><input id='attrs-ce1d232b-3188-4bfd-9cba-3a7ec49309db' class='xr-var-attrs-in' type='checkbox' ><label for='attrs-ce1d232b-3188-4bfd-9cba-3a7ec49309db' title='Show/Hide attributes'><svg class='icon xr-icon-file-text2'><use xlink:href='#icon-file-text2'></use></svg></label><input id='data-de209260-c575-4fa7-bfb6-f26b47897284' class='xr-var-data-in' type='checkbox'><label for='data-de209260-c575-4fa7-bfb6-f26b47897284' title='Show/Hide data repr'><svg class='icon xr-icon-database'><use xlink:href='#icon-database'></use></svg></label><div class='xr-var-attrs'><dl class='xr-attrs'><dt><span>axis :</span></dt><dd>X</dd><dt><span>bounds :</span></dt><dd>lon_bnds</dd><dt><span>standard_name :</span></dt><dd>longitude</dd><dt><span>title :</span></dt><dd>Longitude</dd><dt><span>type :</span></dt><dd>double</dd><dt><span>units :</span></dt><dd>degrees_east</dd><dt><span>valid_max :</span></dt><dd>360.0</dd><dt><span>valid_min :</span></dt><dd>0.0</dd></dl></div><div class='xr-var-data'><pre>array([  1.875,   6.875,  11.875,  16.875,  21.875,  26.875,  31.875,  36.875,\n",
       "        41.875,  46.875,  51.875,  56.875,  61.875,  66.875,  71.875,  76.875,\n",
       "        81.875,  86.875,  91.875,  96.875, 101.875, 106.875, 111.875, 116.875,\n",
       "       121.875, 126.875, 131.875, 136.875, 141.875, 146.875, 151.875, 156.875,\n",
       "       161.875, 166.875, 171.875, 176.875, 181.875, 186.875, 191.875, 196.875,\n",
       "       201.875, 206.875, 211.875, 216.875, 221.875, 226.875, 231.875, 236.875,\n",
       "       241.875, 246.875, 251.875, 256.875, 261.875, 266.875, 271.875, 276.875,\n",
       "       281.875, 286.875, 291.875, 296.875, 301.875, 306.875, 311.875, 316.875,\n",
       "       321.875, 326.875, 331.875, 336.875, 341.875, 346.875, 351.875, 356.875])</pre></div></li><li class='xr-var-item'><div class='xr-var-name'><span class='xr-has-index'>y</span></div><div class='xr-var-dims'>(y)</div><div class='xr-var-dtype'>float64</div><div class='xr-var-preview xr-preview'>-88.59 -84.82 ... 84.82 88.59</div><input id='attrs-d8248d02-4b3c-450b-acd0-64a5bd5412f2' class='xr-var-attrs-in' type='checkbox' ><label for='attrs-d8248d02-4b3c-450b-acd0-64a5bd5412f2' title='Show/Hide attributes'><svg class='icon xr-icon-file-text2'><use xlink:href='#icon-file-text2'></use></svg></label><input id='data-31b1e3e6-e30a-4d13-a3fc-8e29d34d1616' class='xr-var-data-in' type='checkbox'><label for='data-31b1e3e6-e30a-4d13-a3fc-8e29d34d1616' title='Show/Hide data repr'><svg class='icon xr-icon-database'><use xlink:href='#icon-database'></use></svg></label><div class='xr-var-attrs'><dl class='xr-attrs'><dt><span>axis :</span></dt><dd>Y</dd><dt><span>bounds :</span></dt><dd>lat_bnds</dd><dt><span>standard_name :</span></dt><dd>latitude</dd><dt><span>title :</span></dt><dd>Latitude</dd><dt><span>type :</span></dt><dd>double</dd><dt><span>units :</span></dt><dd>degrees_north</dd><dt><span>valid_max :</span></dt><dd>90.0</dd><dt><span>valid_min :</span></dt><dd>-90.0</dd></dl></div><div class='xr-var-data'><pre>array([-88.586387, -84.816754, -81.04712 , -77.277487, -73.507853, -69.73822 ,\n",
       "       -65.968586, -62.198953, -58.429319, -54.659686, -50.890052, -47.120419,\n",
       "       -43.350785, -39.581152, -35.811518, -32.041885, -28.272251, -24.502618,\n",
       "       -20.732984, -16.963351, -13.193717,  -9.424084,  -5.65445 ,  -1.884817,\n",
       "         1.884817,   5.65445 ,   9.424084,  13.193717,  16.963351,  20.732984,\n",
       "        24.502618,  28.272251,  32.041885,  35.811518,  39.581152,  43.350785,\n",
       "        47.120419,  50.890052,  54.659686,  58.429319,  62.198953,  65.968586,\n",
       "        69.73822 ,  73.507853,  77.277487,  81.04712 ,  84.816754,  88.586387])</pre></div></li></ul></div></li><li class='xr-section-item'><input id='section-539003d2-12f7-4b3d-81a8-4519167b03c2' class='xr-section-summary-in' type='checkbox'  ><label for='section-539003d2-12f7-4b3d-81a8-4519167b03c2' class='xr-section-summary' >Indexes: <span>(2)</span></label><div class='xr-section-inline-details'></div><div class='xr-section-details'><ul class='xr-var-list'><li class='xr-var-item'><div class='xr-index-name'><div>x</div></div><div class='xr-index-preview'>PandasIndex</div><input type='checkbox' disabled/><label></label><input id='index-56146d58-11da-4b17-94a3-8e7aa1f82f8f' class='xr-index-data-in' type='checkbox'/><label for='index-56146d58-11da-4b17-94a3-8e7aa1f82f8f' title='Show/Hide index repr'><svg class='icon xr-icon-database'><use xlink:href='#icon-database'></use></svg></label><div class='xr-index-data'><pre>PandasIndex(Index([  1.875,   6.875,  11.875,  16.875,  21.875,  26.875,  31.875,  36.875,\n",
       "        41.875,  46.875,  51.875,  56.875,  61.875,  66.875,  71.875,  76.875,\n",
       "        81.875,  86.875,  91.875,  96.875, 101.875, 106.875, 111.875, 116.875,\n",
       "       121.875, 126.875, 131.875, 136.875, 141.875, 146.875, 151.875, 156.875,\n",
       "       161.875, 166.875, 171.875, 176.875, 181.875, 186.875, 191.875, 196.875,\n",
       "       201.875, 206.875, 211.875, 216.875, 221.875, 226.875, 231.875, 236.875,\n",
       "       241.875, 246.875, 251.875, 256.875, 261.875, 266.875, 271.875, 276.875,\n",
       "       281.875, 286.875, 291.875, 296.875, 301.875, 306.875, 311.875, 316.875,\n",
       "       321.875, 326.875, 331.875, 336.875, 341.875, 346.875, 351.875, 356.875],\n",
       "      dtype=&#x27;float64&#x27;, name=&#x27;x&#x27;))</pre></div></li><li class='xr-var-item'><div class='xr-index-name'><div>y</div></div><div class='xr-index-preview'>PandasIndex</div><input type='checkbox' disabled/><label></label><input id='index-30c69ed4-f6c8-401f-af13-9cbbbd20b38e' class='xr-index-data-in' type='checkbox'/><label for='index-30c69ed4-f6c8-401f-af13-9cbbbd20b38e' title='Show/Hide index repr'><svg class='icon xr-icon-database'><use xlink:href='#icon-database'></use></svg></label><div class='xr-index-data'><pre>PandasIndex(Index([ -88.58638743455498,  -84.81675392670157,  -81.04712041884817,\n",
       "        -77.27748691099475,  -73.50785340314135,  -69.73821989528795,\n",
       "        -65.96858638743456,  -62.19895287958116,  -58.42931937172774,\n",
       "       -54.659685863874344,  -50.89005235602094,  -47.12041884816754,\n",
       "        -43.35078534031414,  -39.58115183246073,  -35.81151832460733,\n",
       "        -32.04188481675392, -28.272251308900525, -24.502617801047123,\n",
       "       -20.732984293193716, -16.963350785340317, -13.193717277486911,\n",
       "        -9.424083769633508,  -5.654450261780106, -1.8848167539267031,\n",
       "        1.8848167539266996,   5.654450261780106,   9.424083769633505,\n",
       "        13.193717277486911,  16.963350785340314,  20.732984293193716,\n",
       "         24.50261780104712,  28.272251308900522,   32.04188481675393,\n",
       "         35.81151832460733,   39.58115183246073,   43.35078534031413,\n",
       "         47.12041884816754,  50.890052356020945,  54.659685863874344,\n",
       "         58.42931937172774,   62.19895287958115,   65.96858638743456,\n",
       "         69.73821989528795,   73.50785340314135,   77.27748691099477,\n",
       "         81.04712041884817,   84.81675392670157,   88.58638743455498],\n",
       "      dtype=&#x27;float64&#x27;, name=&#x27;y&#x27;))</pre></div></li></ul></div></li><li class='xr-section-item'><input id='section-206e7702-103b-493f-9b43-4fff38b65475' class='xr-section-summary-in' type='checkbox'  ><label for='section-206e7702-103b-493f-9b43-4fff38b65475' class='xr-section-summary' >Attributes: <span>(19)</span></label><div class='xr-section-inline-details'></div><div class='xr-section-details'><dl class='xr-attrs'><dt><span>cell_measures :</span></dt><dd>area: areacella</dd><dt><span>cell_methods :</span></dt><dd>area: time: mean</dd><dt><span>comment :</span></dt><dd>TREFHT</dd><dt><span>description :</span></dt><dd>near-surface (usually, 2 meter) air temperature</dd><dt><span>frequency :</span></dt><dd>day</dd><dt><span>id :</span></dt><dd>tas</dd><dt><span>long_name :</span></dt><dd>Near-Surface Air Temperature</dd><dt><span>mipTable :</span></dt><dd>day</dd><dt><span>out_name :</span></dt><dd>tas</dd><dt><span>prov :</span></dt><dd>day ((isd.003))</dd><dt><span>realm :</span></dt><dd>atmos</dd><dt><span>standard_name :</span></dt><dd>air_temperature</dd><dt><span>time :</span></dt><dd>time</dd><dt><span>time_label :</span></dt><dd>time-mean</dd><dt><span>time_title :</span></dt><dd>Temporal mean</dd><dt><span>title :</span></dt><dd>Near-Surface Air Temperature</dd><dt><span>type :</span></dt><dd>real</dd><dt><span>units :</span></dt><dd>K</dd><dt><span>variable_id :</span></dt><dd>tas</dd></dl></div></li></ul></div></div>"
      ],
      "text/plain": [
       "<xarray.DataArray 'tas' (y: 48, x: 72)> Size: 14kB\n",
       "dask.array<getitem, shape=(48, 72), dtype=float32, chunksize=(48, 72), chunktype=numpy.ndarray>\n",
       "Coordinates:\n",
       "    lat        (x, y) float64 28kB dask.array<chunksize=(72, 48), meta=np.ndarray>\n",
       "    lon        (x, y) float64 28kB dask.array<chunksize=(72, 48), meta=np.ndarray>\n",
       "    member_id  int64 8B 0\n",
       "    ssp        <U6 24B 'ssp245'\n",
       "    time       object 8B 2015-01-15 00:00:00\n",
       "  * x          (x) float64 576B 1.875 6.875 11.88 16.88 ... 346.9 351.9 356.9\n",
       "  * y          (y) float64 384B -88.59 -84.82 -81.05 ... 81.05 84.82 88.59\n",
       "Attributes: (12/19)\n",
       "    cell_measures:  area: areacella\n",
       "    cell_methods:   area: time: mean\n",
       "    comment:        TREFHT\n",
       "    description:    near-surface (usually, 2 meter) air temperature\n",
       "    frequency:      day\n",
       "    id:             tas\n",
       "    ...             ...\n",
       "    time_label:     time-mean\n",
       "    time_title:     Temporal mean\n",
       "    title:          Near-Surface Air Temperature\n",
       "    type:           real\n",
       "    units:          K\n",
       "    variable_id:    tas"
      ]
     },
     "execution_count": 42,
     "metadata": {},
     "output_type": "execute_result"
    }
   ],
   "source": [
    "ds[\"tas\"].sel(ssp=\"ssp245\", member_id=0).isel(time=0)\n"
   ]
  },
  {
   "cell_type": "code",
   "execution_count": 43,
   "metadata": {
    "scrolled": true
   },
   "outputs": [
    {
     "name": "stdout",
     "output_type": "stream",
     "text": [
      "\n",
      "--------- INPUT VARIABLE: CO2 ---------\n",
      "SSP: ssp126\n",
      "count =   1021 | mean = 2532.318713977056 | std = 401.69992064797714 | median = 2731.6626772312566 | min = 1536.0722224547292 | max = 2891.7034108052826 | 5th–95th pct = 1689.6271652350188 – 2889.948210871908 | zeros = 0 (0.0%)\n",
      "SSP: ssp370\n",
      "count =   1021 | mean = 3874.4328704822187 | std = 1528.9858993886194 | median = 3751.897249353455 | min = 1536.0722224547292 | max = 6763.858968521363 | 5th–95th pct = 1699.3051121573612 – 6426.770585143383 | zeros = 0 (0.0%)\n",
      "SSP: ssp585\n",
      "count =   1021 | mean = 4653.006907184912 | std = 2343.882160473454 | median = 4182.662019889618 | min = 1536.0722224547292 | max = 9362.59353129993 | 5th–95th pct = 1696.662145353775 – 8816.81862612959 | zeros = 0 (0.0%)\n",
      "\n",
      "--------- INPUT VARIABLE: CH4 ---------\n",
      "SSP: ssp126\n",
      "count =   1021 | mean = 0.1990533398174867 | std = 0.07149415080379436 | median = 0.18533224375025475 | min = 0.11364517919757215 | max = 0.37373672410518455 | 5th–95th pct = 0.1164790331243431 – 0.3395619578455199 | zeros = 0 (0.0%)\n",
      "SSP: ssp370\n",
      "count =   1021 | mean = 0.5694251724002827 | std = 0.1061443957177417 | median = 0.5696792890201428 | min = 0.3737367241051843 | max = 0.7496058505189543 | 5th–95th pct = 0.3987757379951158 – 0.732163920464459 | zeros = 0 (0.0%)\n",
      "SSP: ssp585\n",
      "count =   1021 | mean = 0.5136686657919547 | std = 0.06530404022079099 | median = 0.5322797401554341 | min = 0.37373672410518444 | max = 0.5820513290738472 | 5th–95th pct = 0.38138832100543857 – 0.581599790038117 | zeros = 0 (0.0%)\n",
      "\n",
      "--------- INPUT VARIABLE: SO2 ---------\n",
      "SSP: ssp126\n",
      "count = 3528576 | mean = 1.370387361140992e-12 | std = 1.0083360711967152e-11 | median = 2.57696568150265e-14 | min = 0.0 | max = 5.148754632745505e-10 | 5th–95th pct = 0.0 – 4.311741158352527e-12 | zeros = 507437 (14.380787037037036%)\n",
      "SSP: ssp370\n",
      "count = 3528576 | mean = 4.336623539661134e-12 | std = 2.0661517735459123e-11 | median = 9.475543978430956e-14 | min = 0.0 | max = 4.55914307919335e-10 | 5th–95th pct = 0.0 – 1.690392791929836e-11 | zeros = 507437 (14.380787037037036%)\n",
      "SSP: ssp585\n",
      "count = 3528576 | mean = 2.7630350278850944e-12 | std = 1.4580475075614744e-11 | median = 6.033762555961877e-14 | min = 0.0 | max = 4.756772882786476e-10 | 5th–95th pct = 0.0 – 1.1419936742006522e-11 | zeros = 507437 (14.380787037037036%)\n",
      "\n",
      "--------- INPUT VARIABLE: BC ---------\n",
      "SSP: ssp126\n",
      "count = 3528576 | mean = 1.1817318882446519e-13 | std = 6.822351798380016e-13 | median = 1.5250850592339078e-15 | min = 0.0 | max = 3.931865035482163e-11 | 5th–95th pct = 0.0 – 4.842713278416339e-13 | zeros = 507443 (14.380957077302572%)\n",
      "SSP: ssp370\n",
      "count = 3528576 | mean = 3.86675851863313e-13 | std = 1.8581548565811003e-12 | median = 2.368734718686354e-15 | min = 0.0 | max = 4.8326627300046843e-11 | 5th–95th pct = 0.0 – 1.7608376023822654e-12 | zeros = 507443 (14.380957077302572%)\n",
      "SSP: ssp585\n",
      "count = 3528576 | mean = 2.2511575929102163e-13 | std = 1.103986055131673e-12 | median = 3.485216797207761e-15 | min = 0.0 | max = 4.025654727977106e-11 | 5th–95th pct = 0.0 – 1.026863459171763e-12 | zeros = 507443 (14.380957077302572%)\n",
      "\n",
      "--------- INPUT VARIABLE: rsdt ---------\n",
      "SSP: ssp126\n",
      "count = 3528576 | mean = 297.654296875 | std = 164.0909423828125 | median = 346.697265625 | min = 0.0 | max = 548.4672241210938 | 5th–95th pct = 0.0 – 494.7851257324219 | zeros = 213893 (6.061737086008634%)\n",
      "SSP: ssp370\n",
      "count = 3528576 | mean = 297.654296875 | std = 164.0909423828125 | median = 346.697265625 | min = 0.0 | max = 548.4672241210938 | 5th–95th pct = 0.0 – 494.7851257324219 | zeros = 213893 (6.061737086008634%)\n",
      "SSP: ssp585\n",
      "count = 3528576 | mean = 297.654296875 | std = 164.0909423828125 | median = 346.697265625 | min = 0.0 | max = 548.4672241210938 | 5th–95th pct = 0.0 – 494.7851257324219 | zeros = 213893 (6.061737086008634%)\n",
      "\n",
      "--------- TARGET VARIABLE: tas ---------\n",
      "SSP: ssp126\n",
      "count = 3528576 | mean = 280.05145263671875 | std = 21.135499954223633 | median = 284.6824951171875 | min = 206.42454528808594 | max = 316.07958984375 | 5th–95th pct = 236.33945846557617 – 302.6598815917969 | zeros = 0 (0.0%)\n",
      "SSP: ssp370\n",
      "count = 3528576 | mean = 280.7682189941406 | std = 20.913007736206055 | median = 285.05072021484375 | min = 207.38037109375 | max = 319.0156555175781 | 5th–95th pct = 237.48979949951172 – 303.5491027832031 | zeros = 0 (0.0%)\n",
      "SSP: ssp585\n",
      "count = 3528576 | mean = 281.65234375 | std = 20.70307159423828 | median = 285.7631530761719 | min = 207.50872802734375 | max = 320.1205749511719 | 5th–95th pct = 238.18194198608398 – 304.378662109375 | zeros = 0 (0.0%)\n",
      "\n",
      "--------- TARGET VARIABLE: pr ---------\n",
      "SSP: ssp126\n",
      "count = 3528576 | mean = 2.5113308429718018 | std = 2.9495346546173096 | median = 1.601552963256836 | min = 1.9157925689955575e-23 | max = 52.31298828125 | 5th–95th pct = 0.095823485404253 – 8.372376203536987 | zeros = 0 (0.0%)\n",
      "SSP: ssp370\n",
      "count = 3528576 | mean = 2.507716417312622 | std = 2.953752279281616 | median = 1.5961432456970215 | min = 8.427972009066606e-20 | max = 54.963653564453125 | 5th–95th pct = 0.09947732090950012 – 8.319303274154663 | zeros = 0 (0.0%)\n",
      "SSP: ssp585\n",
      "count = 3528576 | mean = 2.5638129711151123 | std = 3.0297133922576904 | median = 1.6305909156799316 | min = 0.0 | max = 70.12953186035156 | 5th–95th pct = 0.1019969005137682 – 8.499508619308472 | zeros = 1 (2.8340044255813108e-05%)\n"
     ]
    }
   ],
   "source": [
    "ssp_train = [\"ssp126\", \"ssp370\", \"ssp585\"]\n",
    "input_vars = [\"CO2\", \"CH4\", \"SO2\", \"BC\", \"rsdt\"]\n",
    "output_vars = [\"tas\", \"pr\"]\n",
    "\n",
    "def clean_flat(arr):\n",
    "    return arr.compute().values.flatten()[~np.isnan(arr.compute().values.flatten())]\n",
    "\n",
    "def print_stats(values):\n",
    "    zero_count = (values == 0).sum()\n",
    "    print(\n",
    "        f\"count = {len(values):>6} | \"\n",
    "        f\"mean = {np.mean(values)} | \"\n",
    "        f\"std = {np.std(values)} | \"\n",
    "        f\"median = {np.median(values)} | \"\n",
    "        f\"min = {np.min(values)} | \"\n",
    "        f\"max = {np.max(values)} | \"\n",
    "        f\"5th–95th pct = {np.percentile(values, 5)} – {np.percentile(values, 95)} | \"\n",
    "        f\"zeros = {zero_count} ({100 * zero_count / len(values)}%)\"\n",
    "    )\n",
    "\n",
    "# input data\n",
    "for var in input_vars:\n",
    "    print(f\"\\n--------- INPUT VARIABLE: {var} ---------\")\n",
    "    for ssp in ssp_train:\n",
    "        print(f\"SSP: {ssp}\")\n",
    "        arr = ds[var].sel(ssp=ssp)\n",
    "        if \"member_id\" in arr.dims:\n",
    "            arr = arr.sel(member_id=0)\n",
    "        values = clean_flat(arr)\n",
    "        \n",
    "        print_stats(values)\n",
    "\n",
    "        plt.hist(values, bins=100)\n",
    "        plt.title(f\"{var} Distribution – {ssp}\")\n",
    "        plt.xlabel(var)\n",
    "        plt.ylabel(\"Frequency\")\n",
    "        plt.grid(True)\n",
    "        plt.tight_layout()\n",
    "        plt.savefig(f\"figures/{var}_{ssp}_dist.png\", dpi=300)\n",
    "        plt.close()\n",
    "        # plt.show()\n",
    "\n",
    "# target vars\n",
    "for var in output_vars:\n",
    "    print(f\"\\n--------- TARGET VARIABLE: {var} ---------\")\n",
    "    for ssp in ssp_train:\n",
    "        print(f\"SSP: {ssp}\")\n",
    "        arr = ds[var].sel(ssp=ssp, member_id=0)\n",
    "        values = clean_flat(arr)\n",
    "\n",
    "        print_stats(values)\n",
    "\n",
    "        plt.hist(values, bins=100)\n",
    "        plt.title(f\"{var} Distribution – {ssp}\")\n",
    "        plt.xlabel(var)\n",
    "        plt.ylabel(\"Frequency\")\n",
    "        plt.grid(True)\n",
    "        plt.tight_layout()\n",
    "        plt.savefig(f\"figures/{var}_{ssp}_dist.png\", dpi=300)\n",
    "        plt.close()\n",
    "        # plt.show()"
   ]
  },
  {
   "cell_type": "code",
   "execution_count": 44,
   "metadata": {},
   "outputs": [],
   "source": [
    "def plot_distribution_across_ssps(ds, var, time_idx, ssp_list=[\"ssp126\", \"ssp370\", \"ssp585\"], member_id=0, bins=100):\n",
    "    os.makedirs(\"figures\", exist_ok=True)\n",
    "    plt.figure(figsize=(8, 8))\n",
    "\n",
    "    for ssp in ssp_list:\n",
    "        arr = ds[var].sel(ssp=ssp, member_id=member_id).isel(time=time_idx)\n",
    "        values = arr.compute().values.flatten()\n",
    "        values = values[~np.isnan(values)]\n",
    "\n",
    "        plt.hist(values, bins=bins, alpha=0.3, label=ssp)\n",
    "\n",
    "    try:\n",
    "        time_str = str(ds[\"time\"].isel(time=time_idx).values)[:10].replace(\"-\", \"\")\n",
    "    except:\n",
    "        time_str = f\"t{time_idx}\"\n",
    "\n",
    "    plt.title(f\"Distribution of {var} at {time_str} Across SSPs\")\n",
    "    plt.xlabel(f\"{var} value\")\n",
    "    plt.ylabel(\"Frequency\")\n",
    "    plt.legend()\n",
    "    plt.grid(True)\n",
    "    plt.tight_layout()\n",
    "\n",
    "    # Save instead of showing\n",
    "    filename = f\"figures/{var}_ssp_comparison_{time_str}.png\"\n",
    "    plt.savefig(filename, dpi=300)\n",
    "    plt.close()\n",
    "    print(f\"Saved: {filename}\")\n",
    "    # plt.show()\n"
   ]
  },
  {
   "cell_type": "code",
   "execution_count": 45,
   "metadata": {},
   "outputs": [
    {
     "name": "stdout",
     "output_type": "stream",
     "text": [
      "Saved: figures/tas_ssp_comparison_20150115.png\n",
      "Saved: figures/pr_ssp_comparison_20150115.png\n",
      "Saved: figures/tas_ssp_comparison_21000115.png\n",
      "Saved: figures/pr_ssp_comparison_21000115.png\n"
     ]
    }
   ],
   "source": [
    "plot_distribution_across_ssps(ds, var=\"tas\", time_idx=0)\n",
    "plot_distribution_across_ssps(ds, var=\"pr\", time_idx=0)\n",
    "plot_distribution_across_ssps(ds, var=\"tas\", time_idx=1020)\n",
    "plot_distribution_across_ssps(ds, var=\"pr\", time_idx=1020)"
   ]
  },
  {
   "cell_type": "code",
   "execution_count": 46,
   "metadata": {},
   "outputs": [],
   "source": [
    "def plot_distribution_over_time(ds, ssp, var, time_indices, member_id=0, bins=100):\n",
    "    os.makedirs(\"figures\", exist_ok=True)\n",
    "    plt.figure(figsize=(8, 5))\n",
    "\n",
    "    label_parts = []\n",
    "\n",
    "    for time_idx in time_indices:\n",
    "        arr = ds[var].sel(ssp=ssp, member_id=member_id).isel(time=time_idx)\n",
    "        values = arr.compute().values.flatten()\n",
    "        values = values[~np.isnan(values)]\n",
    "\n",
    "        try:\n",
    "            time_label = str(ds[\"time\"].isel(time=time_idx).values)[:10]\n",
    "            label_parts.append(time_label.replace(\"-\", \"\"))\n",
    "        except:\n",
    "            time_label = f\"t{time_idx}\"\n",
    "            label_parts.append(time_label)\n",
    "\n",
    "        plt.hist(values, bins=bins, alpha=0.5, label=time_label)\n",
    "\n",
    "    label_str = \"_\".join(label_parts)\n",
    "    plt.title(f\"{var.upper()} Distribution Over Time – {ssp}\")\n",
    "    plt.xlabel(f\"{var} value\")\n",
    "    plt.ylabel(\"Frequency\")\n",
    "    plt.legend()\n",
    "    plt.grid(True)\n",
    "    plt.tight_layout()\n",
    "\n",
    "    filename = f\"figures/{var}_{ssp}_overtime_{label_str}.png\"\n",
    "    plt.savefig(filename, dpi=300)\n",
    "    plt.close()\n",
    "    print(f\"Saved: {filename}\")\n",
    "    # plt.show()\n"
   ]
  },
  {
   "cell_type": "code",
   "execution_count": 47,
   "metadata": {},
   "outputs": [
    {
     "name": "stdout",
     "output_type": "stream",
     "text": [
      "Saved: figures/tas_ssp126_overtime_20150115_21000115.png\n",
      "Saved: figures/pr_ssp126_overtime_20150115_21000115.png\n",
      "Saved: figures/tas_ssp585_overtime_20150115_21000115.png\n",
      "Saved: figures/pr_ssp585_overtime_20150115_21000115.png\n"
     ]
    }
   ],
   "source": [
    "plot_distribution_over_time(ds, \"ssp126\", \"tas\", [0, 1020])\n",
    "plot_distribution_over_time(ds, \"ssp126\", \"pr\", [0, 1020])\n",
    "plot_distribution_over_time(ds, \"ssp585\", \"tas\", [0, 1020])\n",
    "plot_distribution_over_time(ds, \"ssp585\", \"pr\", [0, 1020])"
   ]
  },
  {
   "cell_type": "markdown",
   "metadata": {},
   "source": [
    "### 🔧 Spatial Weighting Utility Function\n",
    "\n",
    "This cell sets up utility functions for reproducibility and spatial weighting:\n",
    "\n",
    "- **`get_lat_weights(latitude_values)`**: Computes cosine-based area weights for each latitude, accounting for the Earth's curvature. This is critical for evaluating global climate metrics fairly — grid cells near the equator represent larger surface areas than those near the poles.\n"
   ]
  },
  {
   "cell_type": "code",
   "execution_count": 58,
   "metadata": {},
   "outputs": [],
   "source": [
    "def get_lat_weights(latitude_values):\n",
    "    lat_rad = np.deg2rad(latitude_values)\n",
    "    weights = np.cos(lat_rad)\n",
    "    return weights / np.mean(weights)"
   ]
  },
  {
   "cell_type": "markdown",
   "metadata": {},
   "source": [
    "### 🧠 SimpleCNN: A Residual Convolutional Baseline\n",
    "\n",
    "This is a lightweight baseline model designed to capture spatial patterns in global climate data using convolutional layers.\n",
    "\n",
    "- The architecture starts with a **convolution + batch norm + ReLU** block to process the input channels.\n",
    "- It then applies a series of **residual blocks** to extract increasingly abstract spatial features. These help preserve gradient flow during training.\n",
    "- Finally, a few convolutional layers reduce the feature maps down to the desired number of output channels (`tas` and `pr`).\n",
    "\n",
    "This model only serves as a **simple baseline for climate emulation**. \n",
    "\n",
    "We encourage you to build and experiment with your own models and ideas.\n"
   ]
  },
  {
   "cell_type": "code",
   "execution_count": 59,
   "metadata": {},
   "outputs": [],
   "source": [
    "##### UNet CNN\n",
    "class UNetBlock(nn.Module):\n",
    "    def __init__(self, in_channels, out_channels, kernel_size=3):\n",
    "        super().__init__()\n",
    "        self.block = nn.Sequential(\n",
    "            nn.Conv2d(in_channels, out_channels, kernel_size, padding=kernel_size // 2),\n",
    "            nn.BatchNorm2d(out_channels),\n",
    "            nn.ReLU(inplace=True),\n",
    "            nn.Conv2d(out_channels, out_channels, kernel_size, padding=kernel_size // 2),\n",
    "            nn.BatchNorm2d(out_channels),\n",
    "            nn.ReLU(inplace=True),\n",
    "        )\n",
    "\n",
    "    def forward(self, x):\n",
    "        return self.block(x)\n",
    "\n",
    "\n",
    "class UNetCNN(nn.Module):\n",
    "    def __init__(self, n_input_channels, init_dim=64, dropout_rate=0.2):\n",
    "        super().__init__()\n",
    "\n",
    "        # Encoder\n",
    "        self.enc1 = UNetBlock(n_input_channels, init_dim)\n",
    "        self.pool1 = nn.MaxPool2d(2)\n",
    "        self.enc2 = UNetBlock(init_dim, init_dim * 2)\n",
    "        self.pool2 = nn.MaxPool2d(2)\n",
    "\n",
    "        # Bottleneck\n",
    "        self.bottleneck = UNetBlock(init_dim * 2, init_dim * 4)\n",
    "\n",
    "        # Decoder\n",
    "        self.up2 = nn.ConvTranspose2d(init_dim * 4, init_dim * 2, kernel_size=2, stride=2)\n",
    "        self.dec2 = UNetBlock(init_dim * 4, init_dim * 2)\n",
    "        self.up1 = nn.ConvTranspose2d(init_dim * 2, init_dim, kernel_size=2, stride=2)\n",
    "        self.dec1 = UNetBlock(init_dim * 2, init_dim)\n",
    "\n",
    "        # Dropout\n",
    "        self.dropout = nn.Dropout2d(dropout_rate)\n",
    "\n",
    "        # Dual output heads: one for tas, one for pr\n",
    "        self.tas_head = nn.Conv2d(init_dim, 1, kernel_size=1)\n",
    "        self.pr_head  = nn.Conv2d(init_dim, 1, kernel_size=1)\n",
    "\n",
    "    def forward(self, x):\n",
    "        # Encoder\n",
    "        enc1 = self.enc1(x)\n",
    "        enc2 = self.enc2(self.pool1(enc1))\n",
    "        bottleneck = self.bottleneck(self.pool2(enc2))\n",
    "\n",
    "        # Decoder\n",
    "        dec2 = self.up2(bottleneck)\n",
    "        dec2 = self.dec2(torch.cat([dec2, enc2], dim=1))\n",
    "        dec1 = self.up1(dec2)\n",
    "        dec1 = self.dec1(torch.cat([dec1, enc1], dim=1))\n",
    "\n",
    "        dec1 = self.dropout(dec1)\n",
    "\n",
    "        # Forward through both heads\n",
    "        tas_out = self.tas_head(dec1)\n",
    "        pr_out  = self.pr_head(dec1)\n",
    "\n",
    "        return torch.cat([tas_out, pr_out], dim=1)  # Output: [B, 2, 48, 72]\n"
   ]
  },
  {
   "cell_type": "markdown",
   "metadata": {},
   "source": [
    "### 📐 Normalizer: Z-Score Scaling for Climate Inputs & Outputs\n",
    "\n",
    "This class handles **Z-score normalization**, a crucial preprocessing step for stable and efficient neural network training:\n",
    "\n",
    "- **`set_input_statistics(mean, std)` / `set_output_statistics(...)`**: Store the mean and standard deviation computed from the training data for later use.\n",
    "- **`normalize(data, data_type)`**: Standardizes the data using `(x - mean) / std`. This is applied separately to inputs and outputs.\n",
    "- **`inverse_transform_output(data)`**: Converts model predictions back to the original physical units (e.g., Kelvin for temperature, mm/day for precipitation).\n",
    "\n",
    "Normalizing the data ensures the model sees inputs with similar dynamic ranges and avoids biases caused by different variable scales.\n"
   ]
  },
  {
   "cell_type": "code",
   "execution_count": 60,
   "metadata": {},
   "outputs": [],
   "source": [
    "class Normalizer:\n",
    "    def __init__(self):\n",
    "        self.mean_in, self.std_in = None, None\n",
    "        self.mean_out, self.std_out = None, None\n",
    "\n",
    "    def set_input_statistics(self, mean, std):\n",
    "        self.mean_in = mean\n",
    "        self.std_in = std\n",
    "\n",
    "    def set_output_statistics(self, mean, std):\n",
    "        self.mean_out = mean\n",
    "        self.std_out = std\n",
    "\n",
    "    def normalize(self, data, data_type):\n",
    "        if data_type == \"input\":\n",
    "            return (data - self.mean_in) / self.std_in\n",
    "        elif data_type == \"output\":\n",
    "            return (data - self.mean_out) / self.std_out\n",
    "\n",
    "    def inverse_transform_output(self, data):\n",
    "        return data * self.std_out + self.mean_out\n"
   ]
  },
  {
   "cell_type": "markdown",
   "metadata": {},
   "source": [
    "### 🌍 Data Module: Loading, Normalization, and Splitting\n",
    "\n",
    "This section handles the entire data pipeline, from loading the `.zarr` dataset to preparing PyTorch-ready DataLoaders.\n",
    "\n",
    "#### `ClimateDataset`\n",
    "- A simple PyTorch `Dataset` wrapper that preloads the entire (normalized) dataset into memory using Dask.\n",
    "- Converts the data to PyTorch tensors and handles any `NaN` checks up front.\n",
    "\n",
    "#### `ClimateDataModule`\n",
    "A PyTorch Lightning `DataModule` that handles:\n",
    "- ✅ **Loading data** from different SSP scenarios and ensemble members\n",
    "- ✅ **Broadcasting non-spatial inputs** (like CO₂) to match spatial grid size\n",
    "- ✅ **Normalization** using mean/std computed from training data only\n",
    "- ✅ **Splitting** into training, validation, and test sets:\n",
    "  - Training: All months from selected SSPs (except last 10 years of SSP370)\n",
    "  - Validation: Last 10 years (120 months) of SSP370\n",
    "  - Test: Last 10 years of SSP245 (unseen scenario)\n",
    "- ✅ **Batching** and parallelized data loading via PyTorch `DataLoader`s\n",
    "- ✅ **Latitude-based area weighting** for fair climate metric evaluation\n",
    "- Shape of the inputs are Batch_Size X 5 (num_input_variables) X 48 X 72\n",
    "- Shape of ouputputs are Batch_Size X 2 (num_output_variables) X 48 X 72\n",
    "\n",
    "> ℹ️ **Note:** You likely won’t need to modify this class but feel free to make modifications if you want to inlcude different ensemble mebers to feed more data to your models\n"
   ]
  },
  {
   "cell_type": "code",
   "execution_count": 61,
   "metadata": {},
   "outputs": [],
   "source": [
    "class ClimateDataset(Dataset):\n",
    "    def __init__(self, inputs_dask, outputs_dask, output_is_normalized=True):\n",
    "        self.size = inputs_dask.shape[0]\n",
    "        print(f\"Creating dataset with {self.size} samples...\")\n",
    "\n",
    "        inputs_np = inputs_dask.compute()\n",
    "        outputs_np = outputs_dask.compute()\n",
    "\n",
    "        self.inputs = torch.from_numpy(inputs_np).float()\n",
    "        self.outputs = torch.from_numpy(outputs_np).float()\n",
    "\n",
    "        if torch.isnan(self.inputs).any() or torch.isnan(self.outputs).any():\n",
    "            raise ValueError(\"NaNs found in dataset\")\n",
    "\n",
    "    def __len__(self):\n",
    "        return self.size\n",
    "\n",
    "    def __getitem__(self, idx):\n",
    "        return self.inputs[idx], self.outputs[idx]\n",
    "\n",
    "\n",
    "class ClimateDataModule(pl.LightningDataModule):\n",
    "    def __init__(\n",
    "        self,\n",
    "        path,\n",
    "        input_vars,\n",
    "        output_vars,\n",
    "        train_ssps,\n",
    "        test_ssp,\n",
    "        target_member_id,\n",
    "        val_split=0.1,\n",
    "        test_months=360,\n",
    "        batch_size=32,\n",
    "        num_workers=0,\n",
    "        seed=42,\n",
    "    ):\n",
    "        super().__init__()\n",
    "        self.path = path\n",
    "        self.input_vars = input_vars\n",
    "        self.output_vars = output_vars\n",
    "        self.train_ssps = train_ssps\n",
    "        self.test_ssp = test_ssp\n",
    "        self.target_member_id = target_member_id\n",
    "        self.val_split = val_split\n",
    "        self.test_months = test_months\n",
    "        self.batch_size = batch_size\n",
    "        self.num_workers = num_workers\n",
    "        self.seed = seed\n",
    "        self.normalizer = Normalizer()\n",
    "\n",
    "    def prepare_data(self):\n",
    "        assert os.path.exists(self.path), f\"Data path not found: {self.path}\"\n",
    "\n",
    "    def setup(self, stage=None):\n",
    "        ds = xr.open_zarr(self.path, consolidated=False, chunks={\"time\": 24})\n",
    "        spatial_template = ds[\"rsdt\"].isel(time=0, ssp=0, drop=True)\n",
    "\n",
    "        def load_ssp(ssp):\n",
    "            input_dask, output_dask = [], []\n",
    "            for var in self.input_vars:\n",
    "                da_var = ds[var].sel(ssp=ssp)\n",
    "                if \"latitude\" in da_var.dims:\n",
    "                    da_var = da_var.rename({\"latitude\": \"y\", \"longitude\": \"x\"})\n",
    "                if \"member_id\" in da_var.dims:\n",
    "                    da_var = da_var.sel(member_id=self.target_member_id)\n",
    "                if set(da_var.dims) == {\"time\"}:\n",
    "                    da_var = da_var.broadcast_like(spatial_template).transpose(\"time\", \"y\", \"x\")\n",
    "                input_dask.append(da_var.data)\n",
    "\n",
    "            for var in self.output_vars:\n",
    "                da_out = ds[var].sel(ssp=ssp, member_id=self.target_member_id)\n",
    "                if \"latitude\" in da_out.dims:\n",
    "                    da_out = da_out.rename({\"latitude\": \"y\", \"longitude\": \"x\"})\n",
    "                output_dask.append(da_out.data)\n",
    "\n",
    "            return da.stack(input_dask, axis=1), da.stack(output_dask, axis=1)\n",
    "\n",
    "        train_input, train_output, val_input, val_output = [], [], None, None\n",
    "\n",
    "        for ssp in self.train_ssps:\n",
    "            x, y = load_ssp(ssp)\n",
    "            if ssp == \"ssp370\":\n",
    "                val_input = x[-self.test_months:]\n",
    "                val_output = y[-self.test_months:]\n",
    "                train_input.append(x[:-self.test_months])\n",
    "                train_output.append(y[:-self.test_months])\n",
    "            else:\n",
    "                train_input.append(x)\n",
    "                train_output.append(y)\n",
    "\n",
    "        train_input = da.concatenate(train_input, axis=0)\n",
    "        train_output = da.concatenate(train_output, axis=0)\n",
    "\n",
    "        self.normalizer.set_input_statistics(\n",
    "            mean=da.nanmean(train_input, axis=(0, 2, 3), keepdims=True).compute(),\n",
    "            std=da.nanstd(train_input, axis=(0, 2, 3), keepdims=True).compute(),\n",
    "        )\n",
    "        self.normalizer.set_output_statistics(\n",
    "            mean=da.nanmean(train_output, axis=(0, 2, 3), keepdims=True).compute(),\n",
    "            std=da.nanstd(train_output, axis=(0, 2, 3), keepdims=True).compute(),\n",
    "        )\n",
    "\n",
    "        train_input_norm = self.normalizer.normalize(train_input, \"input\")\n",
    "        train_output_norm = self.normalizer.normalize(train_output, \"output\")\n",
    "        val_input_norm = self.normalizer.normalize(val_input, \"input\")\n",
    "        val_output_norm = self.normalizer.normalize(val_output, \"output\")\n",
    "\n",
    "        test_input, test_output = load_ssp(self.test_ssp)\n",
    "        test_input = test_input[-self.test_months:]\n",
    "        test_output = test_output[-self.test_months:]\n",
    "        test_input_norm = self.normalizer.normalize(test_input, \"input\")\n",
    "\n",
    "        self.train_dataset = ClimateDataset(train_input_norm, train_output_norm)\n",
    "        self.val_dataset = ClimateDataset(val_input_norm, val_output_norm)\n",
    "        self.test_dataset = ClimateDataset(test_input_norm, test_output, output_is_normalized=False)\n",
    "\n",
    "        self.lat = spatial_template.y.values\n",
    "        self.lon = spatial_template.x.values\n",
    "        self.area_weights = xr.DataArray(get_lat_weights(self.lat), dims=[\"y\"], coords={\"y\": self.lat})\n",
    "\n",
    "    def train_dataloader(self):\n",
    "        return DataLoader(self.train_dataset, batch_size=self.batch_size, shuffle=True,\n",
    "                          num_workers=self.num_workers, pin_memory=True)\n",
    "\n",
    "    def val_dataloader(self):\n",
    "        return DataLoader(self.val_dataset, batch_size=self.batch_size, shuffle=False,\n",
    "                          num_workers=self.num_workers, pin_memory=True)\n",
    "\n",
    "    def test_dataloader(self):\n",
    "        return DataLoader(self.test_dataset, batch_size=self.batch_size, shuffle=False,\n",
    "                          num_workers=self.num_workers, pin_memory=True)\n",
    "\n",
    "    def get_lat_weights(self):\n",
    "        return self.area_weights\n",
    "\n",
    "    def get_coords(self):\n",
    "        return self.lat, self.lon"
   ]
  },
  {
   "cell_type": "markdown",
   "metadata": {},
   "source": [
    "### ⚡ ClimateEmulationModule: Lightning Wrapper for Climate Model Emulation\n",
    "\n",
    "This is the core model wrapper built with **PyTorch Lightning**, which organizes the training, validation, and testing logic for the climate emulation task. Lightning abstracts away much of the boilerplate code in PyTorch-based deep learning workflows, making it easier to scale models.\n",
    "\n",
    "#### ✅ Key Features\n",
    "\n",
    "- **`training_step` / `validation_step` / `test_step`**: Standard Lightning hooks for computing loss and predictions at each stage. The loss used is **Mean Squared Error (MSE)**.\n",
    "\n",
    "- **Normalization-aware outputs**:\n",
    "  - During validation and testing, predictions and targets are denormalized before evaluation using stored mean/std statistics.\n",
    "  - This ensures evaluation is done in real-world units (Kelvin and mm/day).\n",
    "\n",
    "- **Metric Evaluation** via `_evaluate()`:\n",
    "  For each variable (`tas`, `pr`), it calculates:\n",
    "  - **Monthly Area-Weighted RMSE**\n",
    "  - **Time-Mean RMSE** (RMSE on 10-year average's)\n",
    "  - **Time-Stddev MAE** (MAE on 10-year standard deviation; a measure of temporal variability)\n",
    "    \n",
    "  These metrics reflect the competition's evaluation criteria and are logged and printed.\n",
    "\n",
    "- **Kaggle Submission Writer**:\n",
    "  After testing, predictions are saved to a `.csv` file in the required Kaggle format via `_save_submission()`.\n",
    "\n",
    "- **Saving Predictions for Visualization**:\n",
    "  - Validation predictions are saved tao `val_preds.npy` and `val_trues.npy`\n",
    "  - These can be loaded later for visual inspection of the model's performance.\n",
    "\n",
    " 🔧 **Feel free to modify any part of this module** (loss functions, evaluation, training logic) to better suit your model or training pipeline / Use pure PyTorch etc.\n",
    "\n",
    "⚠️ The **final submission `.csv` file must strictly follow the format and naming convention used in `_save_submission()`**, as these `ID`s are used to match predictions to the hidden test set during evaluation.\n",
    "\n"
   ]
  },
  {
   "cell_type": "code",
   "execution_count": 62,
   "metadata": {},
   "outputs": [],
   "source": [
    "import pandas as pd\n",
    "\n",
    "class ClimateEmulationModule(pl.LightningModule):\n",
    "    def __init__(self, model, learning_rate=1e-4, weight_decay=0.0):\n",
    "        super().__init__()\n",
    "        self.model = model\n",
    "        # Save both lr & weight_decay into self.hparams\n",
    "        self.save_hyperparameters(\"learning_rate\", \"weight_decay\", ignore=[\"model\"])\n",
    "        # self.criterion = nn.MSELoss()\n",
    "        self.criterion_tas = nn.MSELoss()\n",
    "        self.criterion_pr  = nn.MSELoss()\n",
    "        self.normalizer = None\n",
    "        self.val_preds, self.val_targets = [], []\n",
    "        self.test_preds, self.test_targets = [], []\n",
    "\n",
    "    def forward(self, x):\n",
    "        return self.model(x)\n",
    "\n",
    "    def on_fit_start(self):\n",
    "        self.normalizer = self.trainer.datamodule.normalizer\n",
    "\n",
    "    def training_step(self, batch, batch_idx):\n",
    "        x, y = batch\n",
    "        y_hat = self(x)\n",
    "        # loss = self.criterion(y_hat, y)\n",
    "        tas_hat, pr_hat = y_hat[:, 0:1], y_hat[:, 1:2]\n",
    "        tas_true, pr_true = y[:, 0:1], y[:, 1:2]\n",
    "        loss_tas = self.criterion_tas(tas_hat, tas_true)\n",
    "        loss_pr  = self.criterion_pr(pr_hat, pr_true)\n",
    "        loss = loss_tas + loss_pr\n",
    "        self.log(\"train/loss\", loss)\n",
    "        return loss\n",
    "\n",
    "    def validation_step(self, batch, batch_idx):\n",
    "        x, y = batch\n",
    "        y_hat = self(x)\n",
    "        # loss = self.criterion(y_hat, y)\n",
    "        tas_hat, pr_hat = y_hat[:, 0:1], y_hat[:, 1:2]\n",
    "        tas_true, pr_true = y[:, 0:1], y[:, 1:2]\n",
    "        loss_tas = self.criterion_tas(tas_hat, tas_true)\n",
    "        loss_pr  = self.criterion_pr(pr_hat, pr_true)\n",
    "        loss = loss_tas + loss_pr\n",
    "        self.log(\"val/loss\", loss)\n",
    "\n",
    "        y_hat_np = self.normalizer.inverse_transform_output(y_hat.detach().cpu().numpy())\n",
    "        y_np     = self.normalizer.inverse_transform_output(y.detach().cpu().numpy())\n",
    "        self.val_preds.append(y_hat_np)\n",
    "        self.val_targets.append(y_np)\n",
    "        return loss\n",
    "\n",
    "    def on_validation_epoch_end(self):\n",
    "        preds = np.concatenate(self.val_preds, axis=0)\n",
    "        trues = np.concatenate(self.val_targets, axis=0)\n",
    "        self._evaluate(preds, trues, phase=\"val\")\n",
    "        np.save(\"val_preds.npy\", preds)\n",
    "        np.save(\"val_trues.npy\", trues)\n",
    "        self.val_preds.clear()\n",
    "        self.val_targets.clear()\n",
    "\n",
    "    def test_step(self, batch, batch_idx):\n",
    "        x, y = batch\n",
    "        y_hat = self(x)\n",
    "        y_hat_np = self.normalizer.inverse_transform_output(y_hat.detach().cpu().numpy())\n",
    "        y_np     = y.detach().cpu().numpy()\n",
    "        self.test_preds.append(y_hat_np)\n",
    "        self.test_targets.append(y_np)\n",
    "\n",
    "    def on_test_epoch_end(self):\n",
    "        preds = np.concatenate(self.test_preds, axis=0)\n",
    "        trues = np.concatenate(self.test_targets, axis=0)\n",
    "        self._evaluate(preds, trues, phase=\"test\")\n",
    "        self._save_submission(preds)\n",
    "        self.test_preds.clear()\n",
    "        self.test_targets.clear()\n",
    "\n",
    "    def configure_optimizers(self):\n",
    "        optimizer = optim.Adam(\n",
    "            self.parameters(),\n",
    "            lr=self.hparams.learning_rate,\n",
    "            weight_decay=self.hparams.weight_decay,\n",
    "        )\n",
    "        scheduler = torch.optim.lr_scheduler.CosineAnnealingLR(\n",
    "            optimizer,\n",
    "            T_max=self.trainer.max_epochs,\n",
    "            eta_min=self.hparams.learning_rate * 0.01,\n",
    "        )\n",
    "        return {\n",
    "            \"optimizer\": optimizer,\n",
    "            \"lr_scheduler\": {\n",
    "                \"scheduler\": scheduler,\n",
    "                \"interval\": \"epoch\",\n",
    "                \"monitor\": \"val/tas/rmse\",\n",
    "            }\n",
    "        }\n",
    "\n",
    "    def _evaluate(self, preds, trues, phase=\"val\"):\n",
    "        datamodule = self.trainer.datamodule\n",
    "        area_weights = datamodule.get_lat_weights()\n",
    "        lat, lon = datamodule.get_coords()\n",
    "        time = np.arange(preds.shape[0])\n",
    "        output_vars = datamodule.output_vars\n",
    "\n",
    "        for i, var in enumerate(output_vars):\n",
    "            p = preds[:, i]\n",
    "            t = trues[:, i]\n",
    "            p_xr = xr.DataArray(p, dims=[\"time\", \"y\", \"x\"], coords={\"time\": time, \"y\": lat, \"x\": lon})\n",
    "            t_xr = xr.DataArray(t, dims=[\"time\", \"y\", \"x\"], coords={\"time\": time, \"y\": lat, \"x\": lon})\n",
    "\n",
    "            # RMSE\n",
    "            rmse = np.sqrt(((p_xr - t_xr) ** 2).weighted(area_weights).mean((\"time\", \"y\", \"x\")).item())\n",
    "            # RMSE of time-mean\n",
    "            mean_rmse = np.sqrt(((p_xr.mean(\"time\") - t_xr.mean(\"time\")) ** 2).weighted(area_weights).mean((\"y\", \"x\")).item())\n",
    "            # MAE of time-stddev\n",
    "            std_mae = np.abs(p_xr.std(\"time\") - t_xr.std(\"time\")).weighted(area_weights).mean((\"y\", \"x\")).item()\n",
    "\n",
    "            print(f\"[{phase.upper()}] {var}: RMSE={rmse:.4f}, Time-Mean RMSE={mean_rmse:.4f}, Time-Stddev MAE={std_mae:.4f}\")\n",
    "            self.log_dict({\n",
    "                f\"{phase}/{var}/rmse\": rmse,\n",
    "                f\"{phase}/{var}/time_mean_rmse\": mean_rmse,\n",
    "                f\"{phase}/{var}/time_std_mae\": std_mae,\n",
    "            })\n",
    "\n",
    "    def _save_submission(self, predictions):\n",
    "        datamodule = self.trainer.datamodule\n",
    "        lat, lon = datamodule.get_coords()\n",
    "        output_vars = datamodule.output_vars\n",
    "        time = np.arange(predictions.shape[0])\n",
    "\n",
    "        rows = []\n",
    "        for t_idx, t in enumerate(time):\n",
    "            for var_idx, var in enumerate(output_vars):\n",
    "                for y_idx, y in enumerate(lat):\n",
    "                    for x_idx, x in enumerate(lon):\n",
    "                        row_id = f\"t{t_idx:03d}_{var}_{y:.2f}_{x:.2f}\"\n",
    "                        pred = predictions[t_idx, var_idx, y_idx, x_idx]\n",
    "                        rows.append({\"ID\": row_id, \"Prediction\": pred})\n",
    "\n",
    "        df = pd.DataFrame(rows)\n",
    "        os.makedirs(\"submissions\", exist_ok=True)\n",
    "        filepath = f\"submissions/kaggle_submission_{datetime.now().strftime('%Y%m%d_%H%M%S')}.csv\"\n",
    "        df.to_csv(filepath, index=False)\n",
    "        print(f\"✅ Submission saved to: {filepath}\")"
   ]
  },
  {
   "cell_type": "markdown",
   "metadata": {},
   "source": [
    "### ⚡ Training & Evaluation with PyTorch Lightning\n",
    "\n",
    "This block sets up and runs the training and testing pipeline using **PyTorch Lightning’s `Trainer`**, which abstracts away much of the boilerplate in deep learning workflows.\n",
    "\n",
    "- **Modular Setup**:\n",
    "  - `datamodule`: Handles loading, normalization, and batching of climate data.\n",
    "  - `model`: A convolutional neural network that maps climate forcings to predicted outputs.\n",
    "  - `lightning_module`: Wraps the model with training/validation/test logic and metric evaluation.\n",
    "\n",
    "- **Trainer Flexibility**:\n",
    "  The `Trainer` accepts a wide range of configuration options from `config[\"trainer\"]`, including:\n",
    "  - Number of epochs\n",
    "  - Precision (e.g., 16-bit or 32-bit)\n",
    "  - Device configuration (CPU, GPU, or TPU)\n",
    "  - Determinism, logging, callbacks, and more"
   ]
  },
  {
   "cell_type": "code",
   "execution_count": 63,
   "metadata": {},
   "outputs": [],
   "source": [
    "datamodule = ClimateDataModule(**config[\"data\"])\n",
    "\n",
    "model = UNetCNN(\n",
    "    n_input_channels=len(config[\"data\"][\"input_vars\"]),\n",
    "    init_dim=config[\"model\"][\"init_dim\"],\n",
    "    dropout_rate=config[\"model\"][\"dropout_rate\"]\n",
    ")\n",
    "\n",
    "lightning_module = ClimateEmulationModule(\n",
    "    model,\n",
    "    learning_rate=config[\"training\"][\"lr\"],\n",
    "    weight_decay=config[\"training\"][\"weight_decay\"],\n",
    ")\n"
   ]
  },
  {
   "cell_type": "code",
   "execution_count": 64,
   "metadata": {},
   "outputs": [
    {
     "name": "stderr",
     "output_type": "stream",
     "text": [
      "GPU available: True (cuda), used: True\n",
      "TPU available: False, using: 0 TPU cores\n",
      "HPU available: False, using: 0 HPUs\n"
     ]
    },
    {
     "name": "stdout",
     "output_type": "stream",
     "text": [
      "Creating dataset with 2703 samples...\n",
      "Creating dataset with 360 samples...\n",
      "Creating dataset with 360 samples...\n"
     ]
    },
    {
     "name": "stderr",
     "output_type": "stream",
     "text": [
      "LOCAL_RANK: 0 - CUDA_VISIBLE_DEVICES: [0]\n",
      "\n",
      "  | Name          | Type    | Params | Mode \n",
      "--------------------------------------------------\n",
      "0 | model         | UNetCNN | 1.9 M  | train\n",
      "1 | criterion_tas | MSELoss | 0      | train\n",
      "2 | criterion_pr  | MSELoss | 0      | train\n",
      "--------------------------------------------------\n",
      "1.9 M     Trainable params\n",
      "0         Non-trainable params\n",
      "1.9 M     Total params\n",
      "7.467     Total estimated model params size (MB)\n",
      "50        Modules in train mode\n",
      "0         Modules in eval mode\n",
      "/home/adapsay/.local/lib/python3.11/site-packages/lightning/pytorch/loops/fit_loop.py:310: The number of training batches (43) is smaller than the logging interval Trainer(log_every_n_steps=50). Set a lower value for log_every_n_steps if you want to see logs for the training epoch.\n"
     ]
    },
    {
     "data": {
      "application/vnd.jupyter.widget-view+json": {
       "model_id": "b9d405e36da9444bb83074b9ecd086ad",
       "version_major": 2,
       "version_minor": 0
      },
      "text/plain": [
       "Training: |          | 0/? [00:00<?, ?it/s]"
      ]
     },
     "metadata": {},
     "output_type": "display_data"
    },
    {
     "data": {
      "application/vnd.jupyter.widget-view+json": {
       "model_id": "",
       "version_major": 2,
       "version_minor": 0
      },
      "text/plain": [
       "Validation: |          | 0/? [00:00<?, ?it/s]"
      ]
     },
     "metadata": {},
     "output_type": "display_data"
    },
    {
     "name": "stdout",
     "output_type": "stream",
     "text": [
      "[VAL] tas: RMSE=5.7722, Time-Mean RMSE=4.4350, Time-Stddev MAE=1.3310\n",
      "[VAL] pr: RMSE=2.8462, Time-Mean RMSE=0.9852, Time-Stddev MAE=1.5274\n"
     ]
    },
    {
     "data": {
      "application/vnd.jupyter.widget-view+json": {
       "model_id": "",
       "version_major": 2,
       "version_minor": 0
      },
      "text/plain": [
       "Validation: |          | 0/? [00:00<?, ?it/s]"
      ]
     },
     "metadata": {},
     "output_type": "display_data"
    },
    {
     "name": "stdout",
     "output_type": "stream",
     "text": [
      "[VAL] tas: RMSE=4.0375, Time-Mean RMSE=2.2898, Time-Stddev MAE=0.9636\n",
      "[VAL] pr: RMSE=2.7245, Time-Mean RMSE=0.8798, Time-Stddev MAE=1.4738\n"
     ]
    },
    {
     "data": {
      "application/vnd.jupyter.widget-view+json": {
       "model_id": "",
       "version_major": 2,
       "version_minor": 0
      },
      "text/plain": [
       "Validation: |          | 0/? [00:00<?, ?it/s]"
      ]
     },
     "metadata": {},
     "output_type": "display_data"
    },
    {
     "name": "stdout",
     "output_type": "stream",
     "text": [
      "[VAL] tas: RMSE=4.1421, Time-Mean RMSE=2.2998, Time-Stddev MAE=0.8962\n",
      "[VAL] pr: RMSE=2.6684, Time-Mean RMSE=0.7797, Time-Stddev MAE=1.4189\n"
     ]
    },
    {
     "data": {
      "application/vnd.jupyter.widget-view+json": {
       "model_id": "",
       "version_major": 2,
       "version_minor": 0
      },
      "text/plain": [
       "Validation: |          | 0/? [00:00<?, ?it/s]"
      ]
     },
     "metadata": {},
     "output_type": "display_data"
    },
    {
     "name": "stdout",
     "output_type": "stream",
     "text": [
      "[VAL] tas: RMSE=3.3490, Time-Mean RMSE=1.8761, Time-Stddev MAE=0.9640\n",
      "[VAL] pr: RMSE=2.5511, Time-Mean RMSE=0.6992, Time-Stddev MAE=1.3676\n"
     ]
    },
    {
     "data": {
      "application/vnd.jupyter.widget-view+json": {
       "model_id": "",
       "version_major": 2,
       "version_minor": 0
      },
      "text/plain": [
       "Validation: |          | 0/? [00:00<?, ?it/s]"
      ]
     },
     "metadata": {},
     "output_type": "display_data"
    },
    {
     "name": "stdout",
     "output_type": "stream",
     "text": [
      "[VAL] tas: RMSE=3.3210, Time-Mean RMSE=2.1936, Time-Stddev MAE=0.7961\n",
      "[VAL] pr: RMSE=2.3080, Time-Mean RMSE=0.6047, Time-Stddev MAE=1.0996\n"
     ]
    },
    {
     "data": {
      "application/vnd.jupyter.widget-view+json": {
       "model_id": "",
       "version_major": 2,
       "version_minor": 0
      },
      "text/plain": [
       "Validation: |          | 0/? [00:00<?, ?it/s]"
      ]
     },
     "metadata": {},
     "output_type": "display_data"
    },
    {
     "name": "stdout",
     "output_type": "stream",
     "text": [
      "[VAL] tas: RMSE=4.0434, Time-Mean RMSE=2.3902, Time-Stddev MAE=1.1325\n",
      "[VAL] pr: RMSE=2.2761, Time-Mean RMSE=0.5623, Time-Stddev MAE=1.0631\n"
     ]
    },
    {
     "data": {
      "application/vnd.jupyter.widget-view+json": {
       "model_id": "",
       "version_major": 2,
       "version_minor": 0
      },
      "text/plain": [
       "Validation: |          | 0/? [00:00<?, ?it/s]"
      ]
     },
     "metadata": {},
     "output_type": "display_data"
    },
    {
     "name": "stdout",
     "output_type": "stream",
     "text": [
      "[VAL] tas: RMSE=2.7309, Time-Mean RMSE=1.5936, Time-Stddev MAE=0.6369\n",
      "[VAL] pr: RMSE=2.1584, Time-Mean RMSE=0.4880, Time-Stddev MAE=0.8870\n"
     ]
    },
    {
     "data": {
      "application/vnd.jupyter.widget-view+json": {
       "model_id": "",
       "version_major": 2,
       "version_minor": 0
      },
      "text/plain": [
       "Validation: |          | 0/? [00:00<?, ?it/s]"
      ]
     },
     "metadata": {},
     "output_type": "display_data"
    },
    {
     "name": "stdout",
     "output_type": "stream",
     "text": [
      "[VAL] tas: RMSE=2.4722, Time-Mean RMSE=1.4824, Time-Stddev MAE=0.6114\n",
      "[VAL] pr: RMSE=2.0628, Time-Mean RMSE=0.4834, Time-Stddev MAE=0.8058\n"
     ]
    },
    {
     "data": {
      "application/vnd.jupyter.widget-view+json": {
       "model_id": "",
       "version_major": 2,
       "version_minor": 0
      },
      "text/plain": [
       "Validation: |          | 0/? [00:00<?, ?it/s]"
      ]
     },
     "metadata": {},
     "output_type": "display_data"
    },
    {
     "name": "stdout",
     "output_type": "stream",
     "text": [
      "[VAL] tas: RMSE=2.1136, Time-Mean RMSE=1.2514, Time-Stddev MAE=0.5032\n",
      "[VAL] pr: RMSE=2.0089, Time-Mean RMSE=0.3754, Time-Stddev MAE=0.7723\n"
     ]
    },
    {
     "data": {
      "application/vnd.jupyter.widget-view+json": {
       "model_id": "",
       "version_major": 2,
       "version_minor": 0
      },
      "text/plain": [
       "Validation: |          | 0/? [00:00<?, ?it/s]"
      ]
     },
     "metadata": {},
     "output_type": "display_data"
    },
    {
     "name": "stdout",
     "output_type": "stream",
     "text": [
      "[VAL] tas: RMSE=2.2826, Time-Mean RMSE=1.4929, Time-Stddev MAE=0.6247\n",
      "[VAL] pr: RMSE=2.0192, Time-Mean RMSE=0.4015, Time-Stddev MAE=0.8256\n"
     ]
    },
    {
     "data": {
      "application/vnd.jupyter.widget-view+json": {
       "model_id": "",
       "version_major": 2,
       "version_minor": 0
      },
      "text/plain": [
       "Validation: |          | 0/? [00:00<?, ?it/s]"
      ]
     },
     "metadata": {},
     "output_type": "display_data"
    },
    {
     "name": "stdout",
     "output_type": "stream",
     "text": [
      "[VAL] tas: RMSE=2.0013, Time-Mean RMSE=1.1883, Time-Stddev MAE=0.4589\n",
      "[VAL] pr: RMSE=2.0053, Time-Mean RMSE=0.3932, Time-Stddev MAE=0.8687\n"
     ]
    },
    {
     "data": {
      "application/vnd.jupyter.widget-view+json": {
       "model_id": "",
       "version_major": 2,
       "version_minor": 0
      },
      "text/plain": [
       "Validation: |          | 0/? [00:00<?, ?it/s]"
      ]
     },
     "metadata": {},
     "output_type": "display_data"
    },
    {
     "name": "stdout",
     "output_type": "stream",
     "text": [
      "[VAL] tas: RMSE=2.4472, Time-Mean RMSE=1.7000, Time-Stddev MAE=0.5965\n",
      "[VAL] pr: RMSE=1.9874, Time-Mean RMSE=0.3205, Time-Stddev MAE=0.7723\n"
     ]
    },
    {
     "data": {
      "application/vnd.jupyter.widget-view+json": {
       "model_id": "",
       "version_major": 2,
       "version_minor": 0
      },
      "text/plain": [
       "Validation: |          | 0/? [00:00<?, ?it/s]"
      ]
     },
     "metadata": {},
     "output_type": "display_data"
    },
    {
     "name": "stdout",
     "output_type": "stream",
     "text": [
      "[VAL] tas: RMSE=1.9873, Time-Mean RMSE=1.1476, Time-Stddev MAE=0.4734\n",
      "[VAL] pr: RMSE=2.0118, Time-Mean RMSE=0.4685, Time-Stddev MAE=0.7642\n"
     ]
    },
    {
     "data": {
      "application/vnd.jupyter.widget-view+json": {
       "model_id": "",
       "version_major": 2,
       "version_minor": 0
      },
      "text/plain": [
       "Validation: |          | 0/? [00:00<?, ?it/s]"
      ]
     },
     "metadata": {},
     "output_type": "display_data"
    },
    {
     "name": "stdout",
     "output_type": "stream",
     "text": [
      "[VAL] tas: RMSE=2.0360, Time-Mean RMSE=1.1373, Time-Stddev MAE=0.5481\n",
      "[VAL] pr: RMSE=1.9957, Time-Mean RMSE=0.3924, Time-Stddev MAE=0.8299\n"
     ]
    },
    {
     "data": {
      "application/vnd.jupyter.widget-view+json": {
       "model_id": "",
       "version_major": 2,
       "version_minor": 0
      },
      "text/plain": [
       "Validation: |          | 0/? [00:00<?, ?it/s]"
      ]
     },
     "metadata": {},
     "output_type": "display_data"
    },
    {
     "name": "stdout",
     "output_type": "stream",
     "text": [
      "[VAL] tas: RMSE=2.1119, Time-Mean RMSE=1.3246, Time-Stddev MAE=0.4032\n",
      "[VAL] pr: RMSE=1.9932, Time-Mean RMSE=0.3698, Time-Stddev MAE=0.7754\n"
     ]
    },
    {
     "data": {
      "application/vnd.jupyter.widget-view+json": {
       "model_id": "",
       "version_major": 2,
       "version_minor": 0
      },
      "text/plain": [
       "Validation: |          | 0/? [00:00<?, ?it/s]"
      ]
     },
     "metadata": {},
     "output_type": "display_data"
    },
    {
     "name": "stdout",
     "output_type": "stream",
     "text": [
      "[VAL] tas: RMSE=1.9206, Time-Mean RMSE=0.9772, Time-Stddev MAE=0.4111\n",
      "[VAL] pr: RMSE=1.9962, Time-Mean RMSE=0.4202, Time-Stddev MAE=0.8234\n"
     ]
    },
    {
     "data": {
      "application/vnd.jupyter.widget-view+json": {
       "model_id": "",
       "version_major": 2,
       "version_minor": 0
      },
      "text/plain": [
       "Validation: |          | 0/? [00:00<?, ?it/s]"
      ]
     },
     "metadata": {},
     "output_type": "display_data"
    },
    {
     "name": "stdout",
     "output_type": "stream",
     "text": [
      "[VAL] tas: RMSE=2.1336, Time-Mean RMSE=1.4563, Time-Stddev MAE=0.4040\n",
      "[VAL] pr: RMSE=1.9845, Time-Mean RMSE=0.3720, Time-Stddev MAE=0.8378\n"
     ]
    },
    {
     "data": {
      "application/vnd.jupyter.widget-view+json": {
       "model_id": "",
       "version_major": 2,
       "version_minor": 0
      },
      "text/plain": [
       "Validation: |          | 0/? [00:00<?, ?it/s]"
      ]
     },
     "metadata": {},
     "output_type": "display_data"
    },
    {
     "name": "stdout",
     "output_type": "stream",
     "text": [
      "[VAL] tas: RMSE=2.0646, Time-Mean RMSE=1.1250, Time-Stddev MAE=0.5558\n",
      "[VAL] pr: RMSE=2.0002, Time-Mean RMSE=0.3463, Time-Stddev MAE=0.7825\n"
     ]
    },
    {
     "data": {
      "application/vnd.jupyter.widget-view+json": {
       "model_id": "",
       "version_major": 2,
       "version_minor": 0
      },
      "text/plain": [
       "Validation: |          | 0/? [00:00<?, ?it/s]"
      ]
     },
     "metadata": {},
     "output_type": "display_data"
    },
    {
     "name": "stdout",
     "output_type": "stream",
     "text": [
      "[VAL] tas: RMSE=2.2114, Time-Mean RMSE=1.1359, Time-Stddev MAE=0.5005\n",
      "[VAL] pr: RMSE=2.0441, Time-Mean RMSE=0.3978, Time-Stddev MAE=0.8342\n"
     ]
    },
    {
     "data": {
      "application/vnd.jupyter.widget-view+json": {
       "model_id": "",
       "version_major": 2,
       "version_minor": 0
      },
      "text/plain": [
       "Validation: |          | 0/? [00:00<?, ?it/s]"
      ]
     },
     "metadata": {},
     "output_type": "display_data"
    },
    {
     "name": "stdout",
     "output_type": "stream",
     "text": [
      "[VAL] tas: RMSE=1.6818, Time-Mean RMSE=0.8222, Time-Stddev MAE=0.4082\n",
      "[VAL] pr: RMSE=1.9836, Time-Mean RMSE=0.3656, Time-Stddev MAE=0.8331\n"
     ]
    },
    {
     "data": {
      "application/vnd.jupyter.widget-view+json": {
       "model_id": "",
       "version_major": 2,
       "version_minor": 0
      },
      "text/plain": [
       "Validation: |          | 0/? [00:00<?, ?it/s]"
      ]
     },
     "metadata": {},
     "output_type": "display_data"
    },
    {
     "name": "stdout",
     "output_type": "stream",
     "text": [
      "[VAL] tas: RMSE=1.8409, Time-Mean RMSE=0.9451, Time-Stddev MAE=0.4636\n",
      "[VAL] pr: RMSE=1.9929, Time-Mean RMSE=0.3925, Time-Stddev MAE=0.7034\n"
     ]
    },
    {
     "data": {
      "application/vnd.jupyter.widget-view+json": {
       "model_id": "",
       "version_major": 2,
       "version_minor": 0
      },
      "text/plain": [
       "Validation: |          | 0/? [00:00<?, ?it/s]"
      ]
     },
     "metadata": {},
     "output_type": "display_data"
    },
    {
     "name": "stdout",
     "output_type": "stream",
     "text": [
      "[VAL] tas: RMSE=1.7217, Time-Mean RMSE=0.8031, Time-Stddev MAE=0.4119\n",
      "[VAL] pr: RMSE=1.9776, Time-Mean RMSE=0.3344, Time-Stddev MAE=0.7645\n"
     ]
    },
    {
     "data": {
      "application/vnd.jupyter.widget-view+json": {
       "model_id": "",
       "version_major": 2,
       "version_minor": 0
      },
      "text/plain": [
       "Validation: |          | 0/? [00:00<?, ?it/s]"
      ]
     },
     "metadata": {},
     "output_type": "display_data"
    },
    {
     "name": "stdout",
     "output_type": "stream",
     "text": [
      "[VAL] tas: RMSE=1.8125, Time-Mean RMSE=0.8384, Time-Stddev MAE=0.4519\n",
      "[VAL] pr: RMSE=1.9722, Time-Mean RMSE=0.3169, Time-Stddev MAE=0.8142\n"
     ]
    },
    {
     "data": {
      "application/vnd.jupyter.widget-view+json": {
       "model_id": "",
       "version_major": 2,
       "version_minor": 0
      },
      "text/plain": [
       "Validation: |          | 0/? [00:00<?, ?it/s]"
      ]
     },
     "metadata": {},
     "output_type": "display_data"
    },
    {
     "name": "stdout",
     "output_type": "stream",
     "text": [
      "[VAL] tas: RMSE=1.7149, Time-Mean RMSE=0.9709, Time-Stddev MAE=0.4031\n",
      "[VAL] pr: RMSE=1.9674, Time-Mean RMSE=0.3259, Time-Stddev MAE=0.8428\n"
     ]
    },
    {
     "data": {
      "application/vnd.jupyter.widget-view+json": {
       "model_id": "",
       "version_major": 2,
       "version_minor": 0
      },
      "text/plain": [
       "Validation: |          | 0/? [00:00<?, ?it/s]"
      ]
     },
     "metadata": {},
     "output_type": "display_data"
    },
    {
     "name": "stdout",
     "output_type": "stream",
     "text": [
      "[VAL] tas: RMSE=1.8339, Time-Mean RMSE=1.0996, Time-Stddev MAE=0.3729\n",
      "[VAL] pr: RMSE=1.9648, Time-Mean RMSE=0.3274, Time-Stddev MAE=0.8069\n"
     ]
    },
    {
     "data": {
      "application/vnd.jupyter.widget-view+json": {
       "model_id": "",
       "version_major": 2,
       "version_minor": 0
      },
      "text/plain": [
       "Validation: |          | 0/? [00:00<?, ?it/s]"
      ]
     },
     "metadata": {},
     "output_type": "display_data"
    },
    {
     "name": "stdout",
     "output_type": "stream",
     "text": [
      "[VAL] tas: RMSE=1.7408, Time-Mean RMSE=0.9198, Time-Stddev MAE=0.4957\n",
      "[VAL] pr: RMSE=1.9747, Time-Mean RMSE=0.3491, Time-Stddev MAE=0.8394\n"
     ]
    },
    {
     "data": {
      "application/vnd.jupyter.widget-view+json": {
       "model_id": "",
       "version_major": 2,
       "version_minor": 0
      },
      "text/plain": [
       "Validation: |          | 0/? [00:00<?, ?it/s]"
      ]
     },
     "metadata": {},
     "output_type": "display_data"
    },
    {
     "name": "stdout",
     "output_type": "stream",
     "text": [
      "[VAL] tas: RMSE=1.7586, Time-Mean RMSE=0.9527, Time-Stddev MAE=0.4265\n",
      "[VAL] pr: RMSE=1.9645, Time-Mean RMSE=0.3081, Time-Stddev MAE=0.8004\n"
     ]
    },
    {
     "data": {
      "application/vnd.jupyter.widget-view+json": {
       "model_id": "",
       "version_major": 2,
       "version_minor": 0
      },
      "text/plain": [
       "Validation: |          | 0/? [00:00<?, ?it/s]"
      ]
     },
     "metadata": {},
     "output_type": "display_data"
    },
    {
     "name": "stdout",
     "output_type": "stream",
     "text": [
      "[VAL] tas: RMSE=1.8560, Time-Mean RMSE=1.0977, Time-Stddev MAE=0.4318\n",
      "[VAL] pr: RMSE=1.9777, Time-Mean RMSE=0.3590, Time-Stddev MAE=0.8089\n"
     ]
    },
    {
     "data": {
      "application/vnd.jupyter.widget-view+json": {
       "model_id": "",
       "version_major": 2,
       "version_minor": 0
      },
      "text/plain": [
       "Validation: |          | 0/? [00:00<?, ?it/s]"
      ]
     },
     "metadata": {},
     "output_type": "display_data"
    },
    {
     "name": "stdout",
     "output_type": "stream",
     "text": [
      "[VAL] tas: RMSE=1.6491, Time-Mean RMSE=0.7388, Time-Stddev MAE=0.4334\n",
      "[VAL] pr: RMSE=1.9574, Time-Mean RMSE=0.2988, Time-Stddev MAE=0.7861\n"
     ]
    },
    {
     "data": {
      "application/vnd.jupyter.widget-view+json": {
       "model_id": "",
       "version_major": 2,
       "version_minor": 0
      },
      "text/plain": [
       "Validation: |          | 0/? [00:00<?, ?it/s]"
      ]
     },
     "metadata": {},
     "output_type": "display_data"
    },
    {
     "name": "stdout",
     "output_type": "stream",
     "text": [
      "[VAL] tas: RMSE=1.6382, Time-Mean RMSE=0.8171, Time-Stddev MAE=0.3402\n",
      "[VAL] pr: RMSE=1.9676, Time-Mean RMSE=0.3007, Time-Stddev MAE=0.7656\n"
     ]
    },
    {
     "data": {
      "application/vnd.jupyter.widget-view+json": {
       "model_id": "",
       "version_major": 2,
       "version_minor": 0
      },
      "text/plain": [
       "Validation: |          | 0/? [00:00<?, ?it/s]"
      ]
     },
     "metadata": {},
     "output_type": "display_data"
    },
    {
     "name": "stdout",
     "output_type": "stream",
     "text": [
      "[VAL] tas: RMSE=1.7327, Time-Mean RMSE=0.8789, Time-Stddev MAE=0.4449\n",
      "[VAL] pr: RMSE=1.9556, Time-Mean RMSE=0.2831, Time-Stddev MAE=0.7618\n"
     ]
    },
    {
     "data": {
      "application/vnd.jupyter.widget-view+json": {
       "model_id": "",
       "version_major": 2,
       "version_minor": 0
      },
      "text/plain": [
       "Validation: |          | 0/? [00:00<?, ?it/s]"
      ]
     },
     "metadata": {},
     "output_type": "display_data"
    },
    {
     "name": "stdout",
     "output_type": "stream",
     "text": [
      "[VAL] tas: RMSE=1.8178, Time-Mean RMSE=1.1251, Time-Stddev MAE=0.3448\n",
      "[VAL] pr: RMSE=1.9567, Time-Mean RMSE=0.3077, Time-Stddev MAE=0.8008\n"
     ]
    },
    {
     "data": {
      "application/vnd.jupyter.widget-view+json": {
       "model_id": "",
       "version_major": 2,
       "version_minor": 0
      },
      "text/plain": [
       "Validation: |          | 0/? [00:00<?, ?it/s]"
      ]
     },
     "metadata": {},
     "output_type": "display_data"
    },
    {
     "name": "stdout",
     "output_type": "stream",
     "text": [
      "[VAL] tas: RMSE=1.6648, Time-Mean RMSE=0.8442, Time-Stddev MAE=0.3717\n",
      "[VAL] pr: RMSE=1.9574, Time-Mean RMSE=0.2970, Time-Stddev MAE=0.8330\n"
     ]
    },
    {
     "data": {
      "application/vnd.jupyter.widget-view+json": {
       "model_id": "",
       "version_major": 2,
       "version_minor": 0
      },
      "text/plain": [
       "Validation: |          | 0/? [00:00<?, ?it/s]"
      ]
     },
     "metadata": {},
     "output_type": "display_data"
    },
    {
     "name": "stdout",
     "output_type": "stream",
     "text": [
      "[VAL] tas: RMSE=1.7498, Time-Mean RMSE=1.0003, Time-Stddev MAE=0.4001\n",
      "[VAL] pr: RMSE=1.9610, Time-Mean RMSE=0.3344, Time-Stddev MAE=0.7675\n"
     ]
    },
    {
     "data": {
      "application/vnd.jupyter.widget-view+json": {
       "model_id": "",
       "version_major": 2,
       "version_minor": 0
      },
      "text/plain": [
       "Validation: |          | 0/? [00:00<?, ?it/s]"
      ]
     },
     "metadata": {},
     "output_type": "display_data"
    },
    {
     "name": "stdout",
     "output_type": "stream",
     "text": [
      "[VAL] tas: RMSE=1.7285, Time-Mean RMSE=1.0324, Time-Stddev MAE=0.3369\n",
      "[VAL] pr: RMSE=1.9697, Time-Mean RMSE=0.3228, Time-Stddev MAE=0.8395\n"
     ]
    },
    {
     "data": {
      "application/vnd.jupyter.widget-view+json": {
       "model_id": "",
       "version_major": 2,
       "version_minor": 0
      },
      "text/plain": [
       "Validation: |          | 0/? [00:00<?, ?it/s]"
      ]
     },
     "metadata": {},
     "output_type": "display_data"
    },
    {
     "name": "stdout",
     "output_type": "stream",
     "text": [
      "[VAL] tas: RMSE=1.6341, Time-Mean RMSE=0.8401, Time-Stddev MAE=0.3339\n",
      "[VAL] pr: RMSE=1.9542, Time-Mean RMSE=0.2755, Time-Stddev MAE=0.8000\n"
     ]
    },
    {
     "data": {
      "application/vnd.jupyter.widget-view+json": {
       "model_id": "",
       "version_major": 2,
       "version_minor": 0
      },
      "text/plain": [
       "Validation: |          | 0/? [00:00<?, ?it/s]"
      ]
     },
     "metadata": {},
     "output_type": "display_data"
    },
    {
     "name": "stdout",
     "output_type": "stream",
     "text": [
      "[VAL] tas: RMSE=1.6209, Time-Mean RMSE=0.7668, Time-Stddev MAE=0.3422\n",
      "[VAL] pr: RMSE=1.9582, Time-Mean RMSE=0.3064, Time-Stddev MAE=0.8105\n"
     ]
    },
    {
     "data": {
      "application/vnd.jupyter.widget-view+json": {
       "model_id": "",
       "version_major": 2,
       "version_minor": 0
      },
      "text/plain": [
       "Validation: |          | 0/? [00:00<?, ?it/s]"
      ]
     },
     "metadata": {},
     "output_type": "display_data"
    },
    {
     "name": "stdout",
     "output_type": "stream",
     "text": [
      "[VAL] tas: RMSE=1.8711, Time-Mean RMSE=1.1974, Time-Stddev MAE=0.3507\n",
      "[VAL] pr: RMSE=1.9737, Time-Mean RMSE=0.3779, Time-Stddev MAE=0.7755\n"
     ]
    },
    {
     "data": {
      "application/vnd.jupyter.widget-view+json": {
       "model_id": "",
       "version_major": 2,
       "version_minor": 0
      },
      "text/plain": [
       "Validation: |          | 0/? [00:00<?, ?it/s]"
      ]
     },
     "metadata": {},
     "output_type": "display_data"
    },
    {
     "name": "stdout",
     "output_type": "stream",
     "text": [
      "[VAL] tas: RMSE=1.6731, Time-Mean RMSE=0.8264, Time-Stddev MAE=0.3664\n",
      "[VAL] pr: RMSE=1.9747, Time-Mean RMSE=0.3566, Time-Stddev MAE=0.7539\n"
     ]
    },
    {
     "data": {
      "application/vnd.jupyter.widget-view+json": {
       "model_id": "",
       "version_major": 2,
       "version_minor": 0
      },
      "text/plain": [
       "Validation: |          | 0/? [00:00<?, ?it/s]"
      ]
     },
     "metadata": {},
     "output_type": "display_data"
    },
    {
     "name": "stdout",
     "output_type": "stream",
     "text": [
      "[VAL] tas: RMSE=1.5873, Time-Mean RMSE=0.7284, Time-Stddev MAE=0.3525\n",
      "[VAL] pr: RMSE=1.9525, Time-Mean RMSE=0.2763, Time-Stddev MAE=0.7530\n"
     ]
    },
    {
     "data": {
      "application/vnd.jupyter.widget-view+json": {
       "model_id": "",
       "version_major": 2,
       "version_minor": 0
      },
      "text/plain": [
       "Validation: |          | 0/? [00:00<?, ?it/s]"
      ]
     },
     "metadata": {},
     "output_type": "display_data"
    },
    {
     "name": "stdout",
     "output_type": "stream",
     "text": [
      "[VAL] tas: RMSE=1.7196, Time-Mean RMSE=1.0127, Time-Stddev MAE=0.4205\n",
      "[VAL] pr: RMSE=1.9717, Time-Mean RMSE=0.3509, Time-Stddev MAE=0.8460\n"
     ]
    },
    {
     "data": {
      "application/vnd.jupyter.widget-view+json": {
       "model_id": "",
       "version_major": 2,
       "version_minor": 0
      },
      "text/plain": [
       "Validation: |          | 0/? [00:00<?, ?it/s]"
      ]
     },
     "metadata": {},
     "output_type": "display_data"
    },
    {
     "name": "stdout",
     "output_type": "stream",
     "text": [
      "[VAL] tas: RMSE=1.5795, Time-Mean RMSE=0.6469, Time-Stddev MAE=0.4929\n",
      "[VAL] pr: RMSE=1.9583, Time-Mean RMSE=0.2996, Time-Stddev MAE=0.7881\n"
     ]
    },
    {
     "data": {
      "application/vnd.jupyter.widget-view+json": {
       "model_id": "",
       "version_major": 2,
       "version_minor": 0
      },
      "text/plain": [
       "Validation: |          | 0/? [00:00<?, ?it/s]"
      ]
     },
     "metadata": {},
     "output_type": "display_data"
    },
    {
     "name": "stdout",
     "output_type": "stream",
     "text": [
      "[VAL] tas: RMSE=1.7254, Time-Mean RMSE=1.0427, Time-Stddev MAE=0.2927\n",
      "[VAL] pr: RMSE=1.9660, Time-Mean RMSE=0.3425, Time-Stddev MAE=0.8107\n"
     ]
    },
    {
     "data": {
      "application/vnd.jupyter.widget-view+json": {
       "model_id": "",
       "version_major": 2,
       "version_minor": 0
      },
      "text/plain": [
       "Validation: |          | 0/? [00:00<?, ?it/s]"
      ]
     },
     "metadata": {},
     "output_type": "display_data"
    },
    {
     "name": "stdout",
     "output_type": "stream",
     "text": [
      "[VAL] tas: RMSE=1.5162, Time-Mean RMSE=0.6494, Time-Stddev MAE=0.3681\n",
      "[VAL] pr: RMSE=1.9506, Time-Mean RMSE=0.2746, Time-Stddev MAE=0.7777\n"
     ]
    },
    {
     "data": {
      "application/vnd.jupyter.widget-view+json": {
       "model_id": "",
       "version_major": 2,
       "version_minor": 0
      },
      "text/plain": [
       "Validation: |          | 0/? [00:00<?, ?it/s]"
      ]
     },
     "metadata": {},
     "output_type": "display_data"
    },
    {
     "name": "stdout",
     "output_type": "stream",
     "text": [
      "[VAL] tas: RMSE=1.6117, Time-Mean RMSE=0.8372, Time-Stddev MAE=0.4090\n",
      "[VAL] pr: RMSE=1.9603, Time-Mean RMSE=0.2982, Time-Stddev MAE=0.7449\n"
     ]
    },
    {
     "data": {
      "application/vnd.jupyter.widget-view+json": {
       "model_id": "",
       "version_major": 2,
       "version_minor": 0
      },
      "text/plain": [
       "Validation: |          | 0/? [00:00<?, ?it/s]"
      ]
     },
     "metadata": {},
     "output_type": "display_data"
    },
    {
     "name": "stdout",
     "output_type": "stream",
     "text": [
      "[VAL] tas: RMSE=1.6726, Time-Mean RMSE=0.9150, Time-Stddev MAE=0.4224\n",
      "[VAL] pr: RMSE=1.9647, Time-Mean RMSE=0.3168, Time-Stddev MAE=0.8042\n"
     ]
    },
    {
     "data": {
      "application/vnd.jupyter.widget-view+json": {
       "model_id": "",
       "version_major": 2,
       "version_minor": 0
      },
      "text/plain": [
       "Validation: |          | 0/? [00:00<?, ?it/s]"
      ]
     },
     "metadata": {},
     "output_type": "display_data"
    },
    {
     "name": "stdout",
     "output_type": "stream",
     "text": [
      "[VAL] tas: RMSE=1.6835, Time-Mean RMSE=0.9521, Time-Stddev MAE=0.4254\n",
      "[VAL] pr: RMSE=1.9676, Time-Mean RMSE=0.3309, Time-Stddev MAE=0.8171\n"
     ]
    },
    {
     "data": {
      "application/vnd.jupyter.widget-view+json": {
       "model_id": "",
       "version_major": 2,
       "version_minor": 0
      },
      "text/plain": [
       "Validation: |          | 0/? [00:00<?, ?it/s]"
      ]
     },
     "metadata": {},
     "output_type": "display_data"
    },
    {
     "name": "stdout",
     "output_type": "stream",
     "text": [
      "[VAL] tas: RMSE=1.5388, Time-Mean RMSE=0.6338, Time-Stddev MAE=0.4745\n",
      "[VAL] pr: RMSE=1.9583, Time-Mean RMSE=0.2814, Time-Stddev MAE=0.7651\n"
     ]
    },
    {
     "data": {
      "application/vnd.jupyter.widget-view+json": {
       "model_id": "",
       "version_major": 2,
       "version_minor": 0
      },
      "text/plain": [
       "Validation: |          | 0/? [00:00<?, ?it/s]"
      ]
     },
     "metadata": {},
     "output_type": "display_data"
    },
    {
     "name": "stdout",
     "output_type": "stream",
     "text": [
      "[VAL] tas: RMSE=1.6054, Time-Mean RMSE=0.9206, Time-Stddev MAE=0.2899\n",
      "[VAL] pr: RMSE=1.9543, Time-Mean RMSE=0.3011, Time-Stddev MAE=0.7886\n"
     ]
    },
    {
     "data": {
      "application/vnd.jupyter.widget-view+json": {
       "model_id": "",
       "version_major": 2,
       "version_minor": 0
      },
      "text/plain": [
       "Validation: |          | 0/? [00:00<?, ?it/s]"
      ]
     },
     "metadata": {},
     "output_type": "display_data"
    },
    {
     "name": "stdout",
     "output_type": "stream",
     "text": [
      "[VAL] tas: RMSE=1.5093, Time-Mean RMSE=0.6838, Time-Stddev MAE=0.3795\n",
      "[VAL] pr: RMSE=1.9729, Time-Mean RMSE=0.3622, Time-Stddev MAE=0.7862\n"
     ]
    },
    {
     "data": {
      "application/vnd.jupyter.widget-view+json": {
       "model_id": "",
       "version_major": 2,
       "version_minor": 0
      },
      "text/plain": [
       "Validation: |          | 0/? [00:00<?, ?it/s]"
      ]
     },
     "metadata": {},
     "output_type": "display_data"
    },
    {
     "name": "stdout",
     "output_type": "stream",
     "text": [
      "[VAL] tas: RMSE=1.6336, Time-Mean RMSE=0.9736, Time-Stddev MAE=0.3621\n",
      "[VAL] pr: RMSE=1.9586, Time-Mean RMSE=0.3160, Time-Stddev MAE=0.8164\n"
     ]
    },
    {
     "data": {
      "application/vnd.jupyter.widget-view+json": {
       "model_id": "",
       "version_major": 2,
       "version_minor": 0
      },
      "text/plain": [
       "Validation: |          | 0/? [00:00<?, ?it/s]"
      ]
     },
     "metadata": {},
     "output_type": "display_data"
    },
    {
     "name": "stdout",
     "output_type": "stream",
     "text": [
      "[VAL] tas: RMSE=1.4855, Time-Mean RMSE=0.6303, Time-Stddev MAE=0.2996\n",
      "[VAL] pr: RMSE=1.9580, Time-Mean RMSE=0.3056, Time-Stddev MAE=0.7822\n"
     ]
    },
    {
     "data": {
      "application/vnd.jupyter.widget-view+json": {
       "model_id": "",
       "version_major": 2,
       "version_minor": 0
      },
      "text/plain": [
       "Validation: |          | 0/? [00:00<?, ?it/s]"
      ]
     },
     "metadata": {},
     "output_type": "display_data"
    },
    {
     "name": "stdout",
     "output_type": "stream",
     "text": [
      "[VAL] tas: RMSE=1.5572, Time-Mean RMSE=0.7866, Time-Stddev MAE=0.3659\n",
      "[VAL] pr: RMSE=1.9577, Time-Mean RMSE=0.3073, Time-Stddev MAE=0.7624\n"
     ]
    },
    {
     "data": {
      "application/vnd.jupyter.widget-view+json": {
       "model_id": "",
       "version_major": 2,
       "version_minor": 0
      },
      "text/plain": [
       "Validation: |          | 0/? [00:00<?, ?it/s]"
      ]
     },
     "metadata": {},
     "output_type": "display_data"
    },
    {
     "name": "stdout",
     "output_type": "stream",
     "text": [
      "[VAL] tas: RMSE=1.5262, Time-Mean RMSE=0.6795, Time-Stddev MAE=0.3054\n",
      "[VAL] pr: RMSE=1.9425, Time-Mean RMSE=0.2643, Time-Stddev MAE=0.7699\n"
     ]
    },
    {
     "data": {
      "application/vnd.jupyter.widget-view+json": {
       "model_id": "",
       "version_major": 2,
       "version_minor": 0
      },
      "text/plain": [
       "Validation: |          | 0/? [00:00<?, ?it/s]"
      ]
     },
     "metadata": {},
     "output_type": "display_data"
    },
    {
     "name": "stdout",
     "output_type": "stream",
     "text": [
      "[VAL] tas: RMSE=1.6519, Time-Mean RMSE=1.0108, Time-Stddev MAE=0.3230\n",
      "[VAL] pr: RMSE=1.9720, Time-Mean RMSE=0.3484, Time-Stddev MAE=0.8488\n"
     ]
    },
    {
     "data": {
      "application/vnd.jupyter.widget-view+json": {
       "model_id": "",
       "version_major": 2,
       "version_minor": 0
      },
      "text/plain": [
       "Validation: |          | 0/? [00:00<?, ?it/s]"
      ]
     },
     "metadata": {},
     "output_type": "display_data"
    },
    {
     "name": "stdout",
     "output_type": "stream",
     "text": [
      "[VAL] tas: RMSE=1.4582, Time-Mean RMSE=0.6315, Time-Stddev MAE=0.2622\n",
      "[VAL] pr: RMSE=1.9561, Time-Mean RMSE=0.3170, Time-Stddev MAE=0.7713\n"
     ]
    },
    {
     "data": {
      "application/vnd.jupyter.widget-view+json": {
       "model_id": "",
       "version_major": 2,
       "version_minor": 0
      },
      "text/plain": [
       "Validation: |          | 0/? [00:00<?, ?it/s]"
      ]
     },
     "metadata": {},
     "output_type": "display_data"
    },
    {
     "name": "stdout",
     "output_type": "stream",
     "text": [
      "[VAL] tas: RMSE=1.6282, Time-Mean RMSE=0.8748, Time-Stddev MAE=0.4021\n",
      "[VAL] pr: RMSE=1.9677, Time-Mean RMSE=0.3286, Time-Stddev MAE=0.8235\n"
     ]
    },
    {
     "data": {
      "application/vnd.jupyter.widget-view+json": {
       "model_id": "",
       "version_major": 2,
       "version_minor": 0
      },
      "text/plain": [
       "Validation: |          | 0/? [00:00<?, ?it/s]"
      ]
     },
     "metadata": {},
     "output_type": "display_data"
    },
    {
     "name": "stdout",
     "output_type": "stream",
     "text": [
      "[VAL] tas: RMSE=1.5090, Time-Mean RMSE=0.7509, Time-Stddev MAE=0.3019\n",
      "[VAL] pr: RMSE=1.9465, Time-Mean RMSE=0.2504, Time-Stddev MAE=0.7765\n"
     ]
    },
    {
     "data": {
      "application/vnd.jupyter.widget-view+json": {
       "model_id": "",
       "version_major": 2,
       "version_minor": 0
      },
      "text/plain": [
       "Validation: |          | 0/? [00:00<?, ?it/s]"
      ]
     },
     "metadata": {},
     "output_type": "display_data"
    },
    {
     "name": "stdout",
     "output_type": "stream",
     "text": [
      "[VAL] tas: RMSE=1.5075, Time-Mean RMSE=0.7019, Time-Stddev MAE=0.3171\n",
      "[VAL] pr: RMSE=1.9543, Time-Mean RMSE=0.2973, Time-Stddev MAE=0.7897\n"
     ]
    },
    {
     "data": {
      "application/vnd.jupyter.widget-view+json": {
       "model_id": "",
       "version_major": 2,
       "version_minor": 0
      },
      "text/plain": [
       "Validation: |          | 0/? [00:00<?, ?it/s]"
      ]
     },
     "metadata": {},
     "output_type": "display_data"
    },
    {
     "name": "stdout",
     "output_type": "stream",
     "text": [
      "[VAL] tas: RMSE=1.3865, Time-Mean RMSE=0.5225, Time-Stddev MAE=0.3329\n",
      "[VAL] pr: RMSE=1.9452, Time-Mean RMSE=0.2630, Time-Stddev MAE=0.8004\n"
     ]
    },
    {
     "data": {
      "application/vnd.jupyter.widget-view+json": {
       "model_id": "",
       "version_major": 2,
       "version_minor": 0
      },
      "text/plain": [
       "Validation: |          | 0/? [00:00<?, ?it/s]"
      ]
     },
     "metadata": {},
     "output_type": "display_data"
    },
    {
     "name": "stdout",
     "output_type": "stream",
     "text": [
      "[VAL] tas: RMSE=1.5434, Time-Mean RMSE=0.8229, Time-Stddev MAE=0.3483\n",
      "[VAL] pr: RMSE=1.9598, Time-Mean RMSE=0.3195, Time-Stddev MAE=0.7849\n"
     ]
    },
    {
     "data": {
      "application/vnd.jupyter.widget-view+json": {
       "model_id": "",
       "version_major": 2,
       "version_minor": 0
      },
      "text/plain": [
       "Validation: |          | 0/? [00:00<?, ?it/s]"
      ]
     },
     "metadata": {},
     "output_type": "display_data"
    },
    {
     "name": "stdout",
     "output_type": "stream",
     "text": [
      "[VAL] tas: RMSE=1.4900, Time-Mean RMSE=0.7253, Time-Stddev MAE=0.3322\n",
      "[VAL] pr: RMSE=1.9678, Time-Mean RMSE=0.3278, Time-Stddev MAE=0.8015\n"
     ]
    },
    {
     "data": {
      "application/vnd.jupyter.widget-view+json": {
       "model_id": "",
       "version_major": 2,
       "version_minor": 0
      },
      "text/plain": [
       "Validation: |          | 0/? [00:00<?, ?it/s]"
      ]
     },
     "metadata": {},
     "output_type": "display_data"
    },
    {
     "name": "stdout",
     "output_type": "stream",
     "text": [
      "[VAL] tas: RMSE=1.5668, Time-Mean RMSE=0.8698, Time-Stddev MAE=0.2980\n",
      "[VAL] pr: RMSE=1.9657, Time-Mean RMSE=0.3314, Time-Stddev MAE=0.8376\n"
     ]
    },
    {
     "data": {
      "application/vnd.jupyter.widget-view+json": {
       "model_id": "",
       "version_major": 2,
       "version_minor": 0
      },
      "text/plain": [
       "Validation: |          | 0/? [00:00<?, ?it/s]"
      ]
     },
     "metadata": {},
     "output_type": "display_data"
    },
    {
     "name": "stdout",
     "output_type": "stream",
     "text": [
      "[VAL] tas: RMSE=1.4184, Time-Mean RMSE=0.6205, Time-Stddev MAE=0.2613\n",
      "[VAL] pr: RMSE=1.9448, Time-Mean RMSE=0.2593, Time-Stddev MAE=0.7953\n"
     ]
    },
    {
     "data": {
      "application/vnd.jupyter.widget-view+json": {
       "model_id": "",
       "version_major": 2,
       "version_minor": 0
      },
      "text/plain": [
       "Validation: |          | 0/? [00:00<?, ?it/s]"
      ]
     },
     "metadata": {},
     "output_type": "display_data"
    },
    {
     "name": "stdout",
     "output_type": "stream",
     "text": [
      "[VAL] tas: RMSE=1.4309, Time-Mean RMSE=0.5818, Time-Stddev MAE=0.2886\n",
      "[VAL] pr: RMSE=1.9630, Time-Mean RMSE=0.3109, Time-Stddev MAE=0.7982\n"
     ]
    },
    {
     "data": {
      "application/vnd.jupyter.widget-view+json": {
       "model_id": "",
       "version_major": 2,
       "version_minor": 0
      },
      "text/plain": [
       "Validation: |          | 0/? [00:00<?, ?it/s]"
      ]
     },
     "metadata": {},
     "output_type": "display_data"
    },
    {
     "name": "stdout",
     "output_type": "stream",
     "text": [
      "[VAL] tas: RMSE=1.5404, Time-Mean RMSE=0.8469, Time-Stddev MAE=0.2645\n",
      "[VAL] pr: RMSE=1.9522, Time-Mean RMSE=0.2855, Time-Stddev MAE=0.7747\n"
     ]
    },
    {
     "data": {
      "application/vnd.jupyter.widget-view+json": {
       "model_id": "",
       "version_major": 2,
       "version_minor": 0
      },
      "text/plain": [
       "Validation: |          | 0/? [00:00<?, ?it/s]"
      ]
     },
     "metadata": {},
     "output_type": "display_data"
    },
    {
     "name": "stdout",
     "output_type": "stream",
     "text": [
      "[VAL] tas: RMSE=1.3871, Time-Mean RMSE=0.5153, Time-Stddev MAE=0.2923\n",
      "[VAL] pr: RMSE=1.9504, Time-Mean RMSE=0.2640, Time-Stddev MAE=0.8150\n"
     ]
    },
    {
     "data": {
      "application/vnd.jupyter.widget-view+json": {
       "model_id": "",
       "version_major": 2,
       "version_minor": 0
      },
      "text/plain": [
       "Validation: |          | 0/? [00:00<?, ?it/s]"
      ]
     },
     "metadata": {},
     "output_type": "display_data"
    },
    {
     "name": "stdout",
     "output_type": "stream",
     "text": [
      "[VAL] tas: RMSE=1.4448, Time-Mean RMSE=0.6468, Time-Stddev MAE=0.3282\n",
      "[VAL] pr: RMSE=1.9659, Time-Mean RMSE=0.3477, Time-Stddev MAE=0.7957\n"
     ]
    },
    {
     "data": {
      "application/vnd.jupyter.widget-view+json": {
       "model_id": "",
       "version_major": 2,
       "version_minor": 0
      },
      "text/plain": [
       "Validation: |          | 0/? [00:00<?, ?it/s]"
      ]
     },
     "metadata": {},
     "output_type": "display_data"
    },
    {
     "name": "stdout",
     "output_type": "stream",
     "text": [
      "[VAL] tas: RMSE=1.3903, Time-Mean RMSE=0.5230, Time-Stddev MAE=0.3078\n",
      "[VAL] pr: RMSE=1.9470, Time-Mean RMSE=0.2513, Time-Stddev MAE=0.7830\n"
     ]
    },
    {
     "data": {
      "application/vnd.jupyter.widget-view+json": {
       "model_id": "",
       "version_major": 2,
       "version_minor": 0
      },
      "text/plain": [
       "Validation: |          | 0/? [00:00<?, ?it/s]"
      ]
     },
     "metadata": {},
     "output_type": "display_data"
    },
    {
     "name": "stdout",
     "output_type": "stream",
     "text": [
      "[VAL] tas: RMSE=1.4516, Time-Mean RMSE=0.6732, Time-Stddev MAE=0.3018\n",
      "[VAL] pr: RMSE=1.9559, Time-Mean RMSE=0.3012, Time-Stddev MAE=0.7942\n"
     ]
    },
    {
     "data": {
      "application/vnd.jupyter.widget-view+json": {
       "model_id": "",
       "version_major": 2,
       "version_minor": 0
      },
      "text/plain": [
       "Validation: |          | 0/? [00:00<?, ?it/s]"
      ]
     },
     "metadata": {},
     "output_type": "display_data"
    },
    {
     "name": "stdout",
     "output_type": "stream",
     "text": [
      "[VAL] tas: RMSE=1.4211, Time-Mean RMSE=0.5526, Time-Stddev MAE=0.2996\n",
      "[VAL] pr: RMSE=1.9527, Time-Mean RMSE=0.2976, Time-Stddev MAE=0.7925\n"
     ]
    },
    {
     "data": {
      "application/vnd.jupyter.widget-view+json": {
       "model_id": "",
       "version_major": 2,
       "version_minor": 0
      },
      "text/plain": [
       "Validation: |          | 0/? [00:00<?, ?it/s]"
      ]
     },
     "metadata": {},
     "output_type": "display_data"
    },
    {
     "name": "stdout",
     "output_type": "stream",
     "text": [
      "[VAL] tas: RMSE=1.3853, Time-Mean RMSE=0.5574, Time-Stddev MAE=0.2670\n",
      "[VAL] pr: RMSE=1.9538, Time-Mean RMSE=0.2841, Time-Stddev MAE=0.8113\n"
     ]
    },
    {
     "data": {
      "application/vnd.jupyter.widget-view+json": {
       "model_id": "",
       "version_major": 2,
       "version_minor": 0
      },
      "text/plain": [
       "Validation: |          | 0/? [00:00<?, ?it/s]"
      ]
     },
     "metadata": {},
     "output_type": "display_data"
    },
    {
     "name": "stdout",
     "output_type": "stream",
     "text": [
      "[VAL] tas: RMSE=1.3898, Time-Mean RMSE=0.5403, Time-Stddev MAE=0.3036\n",
      "[VAL] pr: RMSE=1.9529, Time-Mean RMSE=0.2921, Time-Stddev MAE=0.7665\n"
     ]
    },
    {
     "data": {
      "application/vnd.jupyter.widget-view+json": {
       "model_id": "",
       "version_major": 2,
       "version_minor": 0
      },
      "text/plain": [
       "Validation: |          | 0/? [00:00<?, ?it/s]"
      ]
     },
     "metadata": {},
     "output_type": "display_data"
    },
    {
     "name": "stdout",
     "output_type": "stream",
     "text": [
      "[VAL] tas: RMSE=1.4048, Time-Mean RMSE=0.5857, Time-Stddev MAE=0.2854\n",
      "[VAL] pr: RMSE=1.9624, Time-Mean RMSE=0.3125, Time-Stddev MAE=0.8055\n"
     ]
    },
    {
     "data": {
      "application/vnd.jupyter.widget-view+json": {
       "model_id": "",
       "version_major": 2,
       "version_minor": 0
      },
      "text/plain": [
       "Validation: |          | 0/? [00:00<?, ?it/s]"
      ]
     },
     "metadata": {},
     "output_type": "display_data"
    },
    {
     "name": "stdout",
     "output_type": "stream",
     "text": [
      "[VAL] tas: RMSE=1.4294, Time-Mean RMSE=0.6101, Time-Stddev MAE=0.2832\n",
      "[VAL] pr: RMSE=1.9645, Time-Mean RMSE=0.3364, Time-Stddev MAE=0.7871\n"
     ]
    },
    {
     "data": {
      "application/vnd.jupyter.widget-view+json": {
       "model_id": "",
       "version_major": 2,
       "version_minor": 0
      },
      "text/plain": [
       "Validation: |          | 0/? [00:00<?, ?it/s]"
      ]
     },
     "metadata": {},
     "output_type": "display_data"
    },
    {
     "name": "stdout",
     "output_type": "stream",
     "text": [
      "[VAL] tas: RMSE=1.4108, Time-Mean RMSE=0.6073, Time-Stddev MAE=0.2772\n",
      "[VAL] pr: RMSE=1.9642, Time-Mean RMSE=0.3243, Time-Stddev MAE=0.7799\n"
     ]
    },
    {
     "data": {
      "application/vnd.jupyter.widget-view+json": {
       "model_id": "",
       "version_major": 2,
       "version_minor": 0
      },
      "text/plain": [
       "Validation: |          | 0/? [00:00<?, ?it/s]"
      ]
     },
     "metadata": {},
     "output_type": "display_data"
    },
    {
     "name": "stdout",
     "output_type": "stream",
     "text": [
      "[VAL] tas: RMSE=1.4461, Time-Mean RMSE=0.6545, Time-Stddev MAE=0.2675\n",
      "[VAL] pr: RMSE=1.9582, Time-Mean RMSE=0.2911, Time-Stddev MAE=0.8200\n"
     ]
    },
    {
     "data": {
      "application/vnd.jupyter.widget-view+json": {
       "model_id": "",
       "version_major": 2,
       "version_minor": 0
      },
      "text/plain": [
       "Validation: |          | 0/? [00:00<?, ?it/s]"
      ]
     },
     "metadata": {},
     "output_type": "display_data"
    },
    {
     "name": "stdout",
     "output_type": "stream",
     "text": [
      "[VAL] tas: RMSE=1.3692, Time-Mean RMSE=0.5437, Time-Stddev MAE=0.3018\n",
      "[VAL] pr: RMSE=1.9586, Time-Mean RMSE=0.3076, Time-Stddev MAE=0.7991\n"
     ]
    },
    {
     "data": {
      "application/vnd.jupyter.widget-view+json": {
       "model_id": "",
       "version_major": 2,
       "version_minor": 0
      },
      "text/plain": [
       "Validation: |          | 0/? [00:00<?, ?it/s]"
      ]
     },
     "metadata": {},
     "output_type": "display_data"
    },
    {
     "name": "stdout",
     "output_type": "stream",
     "text": [
      "[VAL] tas: RMSE=1.3604, Time-Mean RMSE=0.5013, Time-Stddev MAE=0.2854\n",
      "[VAL] pr: RMSE=1.9559, Time-Mean RMSE=0.2875, Time-Stddev MAE=0.8129\n"
     ]
    },
    {
     "data": {
      "application/vnd.jupyter.widget-view+json": {
       "model_id": "",
       "version_major": 2,
       "version_minor": 0
      },
      "text/plain": [
       "Validation: |          | 0/? [00:00<?, ?it/s]"
      ]
     },
     "metadata": {},
     "output_type": "display_data"
    },
    {
     "name": "stdout",
     "output_type": "stream",
     "text": [
      "[VAL] tas: RMSE=1.4656, Time-Mean RMSE=0.6955, Time-Stddev MAE=0.3469\n",
      "[VAL] pr: RMSE=1.9606, Time-Mean RMSE=0.3116, Time-Stddev MAE=0.7988\n"
     ]
    },
    {
     "data": {
      "application/vnd.jupyter.widget-view+json": {
       "model_id": "",
       "version_major": 2,
       "version_minor": 0
      },
      "text/plain": [
       "Validation: |          | 0/? [00:00<?, ?it/s]"
      ]
     },
     "metadata": {},
     "output_type": "display_data"
    },
    {
     "name": "stdout",
     "output_type": "stream",
     "text": [
      "[VAL] tas: RMSE=1.4008, Time-Mean RMSE=0.5760, Time-Stddev MAE=0.3074\n",
      "[VAL] pr: RMSE=1.9590, Time-Mean RMSE=0.2991, Time-Stddev MAE=0.7921\n"
     ]
    },
    {
     "data": {
      "application/vnd.jupyter.widget-view+json": {
       "model_id": "",
       "version_major": 2,
       "version_minor": 0
      },
      "text/plain": [
       "Validation: |          | 0/? [00:00<?, ?it/s]"
      ]
     },
     "metadata": {},
     "output_type": "display_data"
    },
    {
     "name": "stdout",
     "output_type": "stream",
     "text": [
      "[VAL] tas: RMSE=1.3550, Time-Mean RMSE=0.5180, Time-Stddev MAE=0.2608\n",
      "[VAL] pr: RMSE=1.9593, Time-Mean RMSE=0.3135, Time-Stddev MAE=0.7807\n"
     ]
    },
    {
     "data": {
      "application/vnd.jupyter.widget-view+json": {
       "model_id": "",
       "version_major": 2,
       "version_minor": 0
      },
      "text/plain": [
       "Validation: |          | 0/? [00:00<?, ?it/s]"
      ]
     },
     "metadata": {},
     "output_type": "display_data"
    },
    {
     "name": "stdout",
     "output_type": "stream",
     "text": [
      "[VAL] tas: RMSE=1.3852, Time-Mean RMSE=0.5404, Time-Stddev MAE=0.2591\n",
      "[VAL] pr: RMSE=1.9613, Time-Mean RMSE=0.3177, Time-Stddev MAE=0.7718\n"
     ]
    },
    {
     "data": {
      "application/vnd.jupyter.widget-view+json": {
       "model_id": "",
       "version_major": 2,
       "version_minor": 0
      },
      "text/plain": [
       "Validation: |          | 0/? [00:00<?, ?it/s]"
      ]
     },
     "metadata": {},
     "output_type": "display_data"
    },
    {
     "name": "stdout",
     "output_type": "stream",
     "text": [
      "[VAL] tas: RMSE=1.4243, Time-Mean RMSE=0.6541, Time-Stddev MAE=0.2765\n",
      "[VAL] pr: RMSE=1.9655, Time-Mean RMSE=0.3279, Time-Stddev MAE=0.7924\n"
     ]
    },
    {
     "data": {
      "application/vnd.jupyter.widget-view+json": {
       "model_id": "",
       "version_major": 2,
       "version_minor": 0
      },
      "text/plain": [
       "Validation: |          | 0/? [00:00<?, ?it/s]"
      ]
     },
     "metadata": {},
     "output_type": "display_data"
    },
    {
     "name": "stdout",
     "output_type": "stream",
     "text": [
      "[VAL] tas: RMSE=1.3875, Time-Mean RMSE=0.5645, Time-Stddev MAE=0.2682\n",
      "[VAL] pr: RMSE=1.9651, Time-Mean RMSE=0.3233, Time-Stddev MAE=0.8056\n"
     ]
    },
    {
     "data": {
      "application/vnd.jupyter.widget-view+json": {
       "model_id": "",
       "version_major": 2,
       "version_minor": 0
      },
      "text/plain": [
       "Validation: |          | 0/? [00:00<?, ?it/s]"
      ]
     },
     "metadata": {},
     "output_type": "display_data"
    },
    {
     "name": "stdout",
     "output_type": "stream",
     "text": [
      "[VAL] tas: RMSE=1.4234, Time-Mean RMSE=0.6715, Time-Stddev MAE=0.2867\n",
      "[VAL] pr: RMSE=1.9574, Time-Mean RMSE=0.3026, Time-Stddev MAE=0.7859\n"
     ]
    },
    {
     "data": {
      "application/vnd.jupyter.widget-view+json": {
       "model_id": "",
       "version_major": 2,
       "version_minor": 0
      },
      "text/plain": [
       "Validation: |          | 0/? [00:00<?, ?it/s]"
      ]
     },
     "metadata": {},
     "output_type": "display_data"
    },
    {
     "name": "stdout",
     "output_type": "stream",
     "text": [
      "[VAL] tas: RMSE=1.3894, Time-Mean RMSE=0.5841, Time-Stddev MAE=0.3052\n",
      "[VAL] pr: RMSE=1.9556, Time-Mean RMSE=0.2828, Time-Stddev MAE=0.7778\n"
     ]
    },
    {
     "data": {
      "application/vnd.jupyter.widget-view+json": {
       "model_id": "",
       "version_major": 2,
       "version_minor": 0
      },
      "text/plain": [
       "Validation: |          | 0/? [00:00<?, ?it/s]"
      ]
     },
     "metadata": {},
     "output_type": "display_data"
    },
    {
     "name": "stdout",
     "output_type": "stream",
     "text": [
      "[VAL] tas: RMSE=1.3801, Time-Mean RMSE=0.5792, Time-Stddev MAE=0.2697\n",
      "[VAL] pr: RMSE=1.9589, Time-Mean RMSE=0.3010, Time-Stddev MAE=0.7892\n"
     ]
    },
    {
     "data": {
      "application/vnd.jupyter.widget-view+json": {
       "model_id": "",
       "version_major": 2,
       "version_minor": 0
      },
      "text/plain": [
       "Validation: |          | 0/? [00:00<?, ?it/s]"
      ]
     },
     "metadata": {},
     "output_type": "display_data"
    },
    {
     "name": "stdout",
     "output_type": "stream",
     "text": [
      "[VAL] tas: RMSE=1.3870, Time-Mean RMSE=0.5842, Time-Stddev MAE=0.3020\n",
      "[VAL] pr: RMSE=1.9678, Time-Mean RMSE=0.3298, Time-Stddev MAE=0.8070\n"
     ]
    },
    {
     "data": {
      "application/vnd.jupyter.widget-view+json": {
       "model_id": "",
       "version_major": 2,
       "version_minor": 0
      },
      "text/plain": [
       "Validation: |          | 0/? [00:00<?, ?it/s]"
      ]
     },
     "metadata": {},
     "output_type": "display_data"
    },
    {
     "name": "stdout",
     "output_type": "stream",
     "text": [
      "[VAL] tas: RMSE=1.3863, Time-Mean RMSE=0.5815, Time-Stddev MAE=0.2889\n",
      "[VAL] pr: RMSE=1.9612, Time-Mean RMSE=0.3156, Time-Stddev MAE=0.7801\n"
     ]
    },
    {
     "data": {
      "application/vnd.jupyter.widget-view+json": {
       "model_id": "",
       "version_major": 2,
       "version_minor": 0
      },
      "text/plain": [
       "Validation: |          | 0/? [00:00<?, ?it/s]"
      ]
     },
     "metadata": {},
     "output_type": "display_data"
    },
    {
     "name": "stdout",
     "output_type": "stream",
     "text": [
      "[VAL] tas: RMSE=1.3294, Time-Mean RMSE=0.4602, Time-Stddev MAE=0.2665\n",
      "[VAL] pr: RMSE=1.9610, Time-Mean RMSE=0.3034, Time-Stddev MAE=0.7933\n"
     ]
    },
    {
     "data": {
      "application/vnd.jupyter.widget-view+json": {
       "model_id": "",
       "version_major": 2,
       "version_minor": 0
      },
      "text/plain": [
       "Validation: |          | 0/? [00:00<?, ?it/s]"
      ]
     },
     "metadata": {},
     "output_type": "display_data"
    },
    {
     "name": "stdout",
     "output_type": "stream",
     "text": [
      "[VAL] tas: RMSE=1.3526, Time-Mean RMSE=0.5175, Time-Stddev MAE=0.2648\n",
      "[VAL] pr: RMSE=1.9604, Time-Mean RMSE=0.3053, Time-Stddev MAE=0.7878\n"
     ]
    },
    {
     "data": {
      "application/vnd.jupyter.widget-view+json": {
       "model_id": "",
       "version_major": 2,
       "version_minor": 0
      },
      "text/plain": [
       "Validation: |          | 0/? [00:00<?, ?it/s]"
      ]
     },
     "metadata": {},
     "output_type": "display_data"
    },
    {
     "name": "stdout",
     "output_type": "stream",
     "text": [
      "[VAL] tas: RMSE=1.4131, Time-Mean RMSE=0.6500, Time-Stddev MAE=0.2765\n",
      "[VAL] pr: RMSE=1.9661, Time-Mean RMSE=0.3269, Time-Stddev MAE=0.7915\n"
     ]
    },
    {
     "data": {
      "application/vnd.jupyter.widget-view+json": {
       "model_id": "",
       "version_major": 2,
       "version_minor": 0
      },
      "text/plain": [
       "Validation: |          | 0/? [00:00<?, ?it/s]"
      ]
     },
     "metadata": {},
     "output_type": "display_data"
    },
    {
     "name": "stdout",
     "output_type": "stream",
     "text": [
      "[VAL] tas: RMSE=1.4028, Time-Mean RMSE=0.6374, Time-Stddev MAE=0.2725\n",
      "[VAL] pr: RMSE=1.9654, Time-Mean RMSE=0.3249, Time-Stddev MAE=0.7993\n"
     ]
    },
    {
     "data": {
      "application/vnd.jupyter.widget-view+json": {
       "model_id": "",
       "version_major": 2,
       "version_minor": 0
      },
      "text/plain": [
       "Validation: |          | 0/? [00:00<?, ?it/s]"
      ]
     },
     "metadata": {},
     "output_type": "display_data"
    },
    {
     "name": "stdout",
     "output_type": "stream",
     "text": [
      "[VAL] tas: RMSE=1.3577, Time-Mean RMSE=0.5166, Time-Stddev MAE=0.2671\n",
      "[VAL] pr: RMSE=1.9665, Time-Mean RMSE=0.3255, Time-Stddev MAE=0.7903\n"
     ]
    },
    {
     "data": {
      "application/vnd.jupyter.widget-view+json": {
       "model_id": "",
       "version_major": 2,
       "version_minor": 0
      },
      "text/plain": [
       "Validation: |          | 0/? [00:00<?, ?it/s]"
      ]
     },
     "metadata": {},
     "output_type": "display_data"
    },
    {
     "name": "stdout",
     "output_type": "stream",
     "text": [
      "[VAL] tas: RMSE=1.3664, Time-Mean RMSE=0.5542, Time-Stddev MAE=0.2721\n",
      "[VAL] pr: RMSE=1.9624, Time-Mean RMSE=0.3087, Time-Stddev MAE=0.7896\n"
     ]
    },
    {
     "data": {
      "application/vnd.jupyter.widget-view+json": {
       "model_id": "",
       "version_major": 2,
       "version_minor": 0
      },
      "text/plain": [
       "Validation: |          | 0/? [00:00<?, ?it/s]"
      ]
     },
     "metadata": {},
     "output_type": "display_data"
    },
    {
     "name": "stdout",
     "output_type": "stream",
     "text": [
      "[VAL] tas: RMSE=1.3613, Time-Mean RMSE=0.5345, Time-Stddev MAE=0.2771\n",
      "[VAL] pr: RMSE=1.9619, Time-Mean RMSE=0.3056, Time-Stddev MAE=0.7847\n"
     ]
    },
    {
     "data": {
      "application/vnd.jupyter.widget-view+json": {
       "model_id": "",
       "version_major": 2,
       "version_minor": 0
      },
      "text/plain": [
       "Validation: |          | 0/? [00:00<?, ?it/s]"
      ]
     },
     "metadata": {},
     "output_type": "display_data"
    },
    {
     "name": "stdout",
     "output_type": "stream",
     "text": [
      "[VAL] tas: RMSE=1.3588, Time-Mean RMSE=0.5313, Time-Stddev MAE=0.2720\n",
      "[VAL] pr: RMSE=1.9628, Time-Mean RMSE=0.3087, Time-Stddev MAE=0.7871\n"
     ]
    },
    {
     "data": {
      "application/vnd.jupyter.widget-view+json": {
       "model_id": "",
       "version_major": 2,
       "version_minor": 0
      },
      "text/plain": [
       "Validation: |          | 0/? [00:00<?, ?it/s]"
      ]
     },
     "metadata": {},
     "output_type": "display_data"
    },
    {
     "name": "stdout",
     "output_type": "stream",
     "text": [
      "[VAL] tas: RMSE=1.3738, Time-Mean RMSE=0.5674, Time-Stddev MAE=0.2745\n",
      "[VAL] pr: RMSE=1.9637, Time-Mean RMSE=0.3121, Time-Stddev MAE=0.7958\n"
     ]
    },
    {
     "data": {
      "application/vnd.jupyter.widget-view+json": {
       "model_id": "",
       "version_major": 2,
       "version_minor": 0
      },
      "text/plain": [
       "Validation: |          | 0/? [00:00<?, ?it/s]"
      ]
     },
     "metadata": {},
     "output_type": "display_data"
    },
    {
     "name": "stderr",
     "output_type": "stream",
     "text": [
      "`Trainer.fit` stopped: `max_epochs=100` reached.\n"
     ]
    },
    {
     "name": "stdout",
     "output_type": "stream",
     "text": [
      "[VAL] tas: RMSE=1.3614, Time-Mean RMSE=0.5224, Time-Stddev MAE=0.2853\n",
      "[VAL] pr: RMSE=1.9653, Time-Mean RMSE=0.3196, Time-Stddev MAE=0.7868\n"
     ]
    }
   ],
   "source": [
    "from lightning.pytorch.callbacks import EarlyStopping, ModelCheckpoint\n",
    "\n",
    "# Define callbacks\n",
    "early_stop = EarlyStopping(\n",
    "    monitor=\"val/tas/rmse\",\n",
    "    patience=20,\n",
    "    mode=\"min\"\n",
    ")\n",
    "checkpoint = ModelCheckpoint(\n",
    "    monitor=\"val/tas/rmse\",\n",
    "    mode=\"min\",\n",
    "    save_top_k=1,\n",
    "    filename=\"unet-best-{epoch:02d}-{val/tas/rmse:.4f}\"\n",
    ")\n",
    "\n",
    "# Updated Trainer with callbacks\n",
    "trainer = pl.Trainer(\n",
    "    **config[\"trainer\"],\n",
    "    callbacks=[early_stop, checkpoint]\n",
    ")\n",
    "\n",
    "trainer.fit(lightning_module, datamodule=datamodule)"
   ]
  },
  {
   "cell_type": "markdown",
   "metadata": {},
   "source": [
    "# Test model\n",
    "\n",
    "**IMPORTANT:** Please note that the test metrics will be bad because the test targets have been corrupted on the public Kaggle dataset.\n",
    "The purpose of testing below is to generate the Kaggle submission file based on your model's predictions, which you can submit to the competition."
   ]
  },
  {
   "cell_type": "code",
   "execution_count": 65,
   "metadata": {},
   "outputs": [
    {
     "name": "stdout",
     "output_type": "stream",
     "text": [
      "Creating dataset with 2703 samples...\n",
      "Creating dataset with 360 samples...\n",
      "Creating dataset with 360 samples...\n"
     ]
    },
    {
     "name": "stderr",
     "output_type": "stream",
     "text": [
      "LOCAL_RANK: 0 - CUDA_VISIBLE_DEVICES: [0]\n"
     ]
    },
    {
     "data": {
      "application/vnd.jupyter.widget-view+json": {
       "model_id": "9f103d5a23c046ca85f191cbea2bb9e4",
       "version_major": 2,
       "version_minor": 0
      },
      "text/plain": [
       "Testing: |          | 0/? [00:00<?, ?it/s]"
      ]
     },
     "metadata": {},
     "output_type": "display_data"
    },
    {
     "name": "stdout",
     "output_type": "stream",
     "text": [
      "[TEST] tas: RMSE=290.7829, Time-Mean RMSE=290.7422, Time-Stddev MAE=3.5164\n",
      "[TEST] pr: RMSE=4.2274, Time-Mean RMSE=3.7621, Time-Stddev MAE=1.3853\n",
      "✅ Submission saved to: submissions/kaggle_submission_20250522_062724.csv\n"
     ]
    },
    {
     "data": {
      "text/html": [
       "<pre style=\"white-space:pre;overflow-x:auto;line-height:normal;font-family:Menlo,'DejaVu Sans Mono',consolas,'Courier New',monospace\">┏━━━━━━━━━━━━━━━━━━━━━━━━━━━┳━━━━━━━━━━━━━━━━━━━━━━━━━━━┓\n",
       "┃<span style=\"font-weight: bold\">        Test metric        </span>┃<span style=\"font-weight: bold\">       DataLoader 0        </span>┃\n",
       "┡━━━━━━━━━━━━━━━━━━━━━━━━━━━╇━━━━━━━━━━━━━━━━━━━━━━━━━━━┩\n",
       "│<span style=\"color: #008080; text-decoration-color: #008080\">       test/pr/rmse        </span>│<span style=\"color: #800080; text-decoration-color: #800080\">     4.227350234985352     </span>│\n",
       "│<span style=\"color: #008080; text-decoration-color: #008080\">  test/pr/time_mean_rmse   </span>│<span style=\"color: #800080; text-decoration-color: #800080\">    3.7620861530303955     </span>│\n",
       "│<span style=\"color: #008080; text-decoration-color: #008080\">   test/pr/time_std_mae    </span>│<span style=\"color: #800080; text-decoration-color: #800080\">    1.3853185176849365     </span>│\n",
       "│<span style=\"color: #008080; text-decoration-color: #008080\">       test/tas/rmse       </span>│<span style=\"color: #800080; text-decoration-color: #800080\">     290.7828674316406     </span>│\n",
       "│<span style=\"color: #008080; text-decoration-color: #008080\">  test/tas/time_mean_rmse  </span>│<span style=\"color: #800080; text-decoration-color: #800080\">     290.7422180175781     </span>│\n",
       "│<span style=\"color: #008080; text-decoration-color: #008080\">   test/tas/time_std_mae   </span>│<span style=\"color: #800080; text-decoration-color: #800080\">    3.5163686275482178     </span>│\n",
       "└───────────────────────────┴───────────────────────────┘\n",
       "</pre>\n"
      ],
      "text/plain": [
       "┏━━━━━━━━━━━━━━━━━━━━━━━━━━━┳━━━━━━━━━━━━━━━━━━━━━━━━━━━┓\n",
       "┃\u001b[1m \u001b[0m\u001b[1m       Test metric       \u001b[0m\u001b[1m \u001b[0m┃\u001b[1m \u001b[0m\u001b[1m      DataLoader 0       \u001b[0m\u001b[1m \u001b[0m┃\n",
       "┡━━━━━━━━━━━━━━━━━━━━━━━━━━━╇━━━━━━━━━━━━━━━━━━━━━━━━━━━┩\n",
       "│\u001b[36m \u001b[0m\u001b[36m      test/pr/rmse       \u001b[0m\u001b[36m \u001b[0m│\u001b[35m \u001b[0m\u001b[35m    4.227350234985352    \u001b[0m\u001b[35m \u001b[0m│\n",
       "│\u001b[36m \u001b[0m\u001b[36m test/pr/time_mean_rmse  \u001b[0m\u001b[36m \u001b[0m│\u001b[35m \u001b[0m\u001b[35m   3.7620861530303955    \u001b[0m\u001b[35m \u001b[0m│\n",
       "│\u001b[36m \u001b[0m\u001b[36m  test/pr/time_std_mae   \u001b[0m\u001b[36m \u001b[0m│\u001b[35m \u001b[0m\u001b[35m   1.3853185176849365    \u001b[0m\u001b[35m \u001b[0m│\n",
       "│\u001b[36m \u001b[0m\u001b[36m      test/tas/rmse      \u001b[0m\u001b[36m \u001b[0m│\u001b[35m \u001b[0m\u001b[35m    290.7828674316406    \u001b[0m\u001b[35m \u001b[0m│\n",
       "│\u001b[36m \u001b[0m\u001b[36m test/tas/time_mean_rmse \u001b[0m\u001b[36m \u001b[0m│\u001b[35m \u001b[0m\u001b[35m    290.7422180175781    \u001b[0m\u001b[35m \u001b[0m│\n",
       "│\u001b[36m \u001b[0m\u001b[36m  test/tas/time_std_mae  \u001b[0m\u001b[36m \u001b[0m│\u001b[35m \u001b[0m\u001b[35m   3.5163686275482178    \u001b[0m\u001b[35m \u001b[0m│\n",
       "└───────────────────────────┴───────────────────────────┘\n"
      ]
     },
     "metadata": {},
     "output_type": "display_data"
    },
    {
     "data": {
      "text/plain": [
       "[{'test/tas/rmse': 290.7828674316406,\n",
       "  'test/tas/time_mean_rmse': 290.7422180175781,\n",
       "  'test/tas/time_std_mae': 3.5163686275482178,\n",
       "  'test/pr/rmse': 4.227350234985352,\n",
       "  'test/pr/time_mean_rmse': 3.7620861530303955,\n",
       "  'test/pr/time_std_mae': 1.3853185176849365}]"
      ]
     },
     "execution_count": 65,
     "metadata": {},
     "output_type": "execute_result"
    }
   ],
   "source": [
    "trainer.test(lightning_module, datamodule=datamodule) "
   ]
  },
  {
   "cell_type": "markdown",
   "metadata": {},
   "source": [
    "### Plotting Utils\n"
   ]
  },
  {
   "cell_type": "code",
   "execution_count": 66,
   "metadata": {},
   "outputs": [],
   "source": [
    "def plot_comparison(true_xr, pred_xr, title, cmap='viridis', diff_cmap='RdBu_r', metric=None):\n",
    "    fig, axs = plt.subplots(1, 3, figsize=(18, 6))\n",
    "\n",
    "    vmin = min(true_xr.min().item(), pred_xr.min().item())\n",
    "    vmax = max(true_xr.max().item(), pred_xr.max().item())\n",
    "\n",
    "    # Ground truth\n",
    "    true_xr.plot(ax=axs[0], cmap=cmap, vmin=vmin, vmax=vmax, add_colorbar=True)\n",
    "    axs[0].set_title(f\"{title} (Ground Truth)\")\n",
    "\n",
    "    # Prediction\n",
    "    pred_xr.plot(ax=axs[1], cmap=cmap, vmin=vmin, vmax=vmax, add_colorbar=True)\n",
    "    axs[1].set_title(f\"{title} (Prediction)\")\n",
    "\n",
    "    # Difference\n",
    "    diff = pred_xr - true_xr\n",
    "    abs_max = np.max(np.abs(diff))\n",
    "    diff.plot(ax=axs[2], cmap=diff_cmap, vmin=-abs_max, vmax=abs_max, add_colorbar=True)\n",
    "    axs[2].set_title(f\"{title} (Difference) {f'- {metric:.4f}' if metric else ''}\")\n",
    "\n",
    "    plt.tight_layout()\n",
    "    plt.show()\n"
   ]
  },
  {
   "cell_type": "markdown",
   "metadata": {},
   "source": [
    "### 🖼️ Visualizing Validation Predictions\n",
    "\n",
    "This cell loads saved validation predictions and compares them to the ground truth using spatial plots. These visualizations help you qualitatively assess your model's performance.\n",
    "\n",
    "For each output variable (`tas`, `pr`), we visualize:\n",
    "\n",
    "- **📈 Time-Mean Map**: The 10-year average spatial pattern for both prediction and ground truth. Helps identify long-term biases or spatial shifts.\n",
    "- **📊 Time-Stddev Map**: Shows the standard deviation across time for each grid cell — useful for assessing how well the model captures **temporal variability** at each location.\n",
    "- **🕓 Random Timestep Sample**: Visual comparison of prediction vs ground truth for a single month. Useful for spotting fine-grained anomalies or errors in specific months.\n",
    "\n",
    "> These plots provide intuition beyond metrics and are useful for debugging spatial or temporal model failures.\n"
   ]
  },
  {
   "cell_type": "code",
   "execution_count": 67,
   "metadata": {},
   "outputs": [
    {
     "data": {
      "image/png": "[encoded data removed]",
      "text/plain": [
       "<Figure size 1800x600 with 6 Axes>"
      ]
     },
     "metadata": {},
     "output_type": "display_data"
    },
    {
     "data": {
      "image/png": "[encoded data removed]",
      "text/plain": [
       "<Figure size 1800x600 with 6 Axes>"
      ]
     },
     "metadata": {},
     "output_type": "display_data"
    },
    {
     "data": {
      "image/png": "[encoded data removed]",
      "text/plain": [
       "<Figure size 1800x600 with 6 Axes>"
      ]
     },
     "metadata": {},
     "output_type": "display_data"
    },
    {
     "data": {
      "image/png": "[encoded data removed]",
      "text/plain": [
       "<Figure size 1800x600 with 6 Axes>"
      ]
     },
     "metadata": {},
     "output_type": "display_data"
    },
    {
     "data": {
      "image/png": "[encoded data removed]",
      "text/plain": [
       "<Figure size 1800x600 with 6 Axes>"
      ]
     },
     "metadata": {},
     "output_type": "display_data"
    },
    {
     "data": {
      "image/png": "[encoded data removed]",
      "text/plain": [
       "<Figure size 1800x600 with 6 Axes>"
      ]
     },
     "metadata": {},
     "output_type": "display_data"
    }
   ],
   "source": [
    "# Load validation predictions\n",
    "# make sure to have run the validation loop at least once\n",
    "val_preds = np.load(\"val_preds.npy\")\n",
    "val_trues = np.load(\"val_trues.npy\")\n",
    "\n",
    "lat, lon = datamodule.get_coords()\n",
    "output_vars = datamodule.output_vars\n",
    "time = np.arange(val_preds.shape[0])\n",
    "\n",
    "for i, var in enumerate(output_vars):\n",
    "    pred_xr = xr.DataArray(val_preds[:, i], dims=[\"time\", \"y\", \"x\"], coords={\"time\": time, \"y\": lat, \"x\": lon})\n",
    "    true_xr = xr.DataArray(val_trues[:, i], dims=[\"time\", \"y\", \"x\"], coords={\"time\": time, \"y\": lat, \"x\": lon})\n",
    "\n",
    "    # --- Time Mean ---\n",
    "    plot_comparison(true_xr.mean(\"time\"), pred_xr.mean(\"time\"), f\"{var} Val Time-Mean\")\n",
    "\n",
    "    # --- Time Stddev ---\n",
    "    plot_comparison(true_xr.std(\"time\"), pred_xr.std(\"time\"), f\"{var} Val Time-Stddev\", cmap=\"plasma\")\n",
    "\n",
    "    # --- Random timestep ---\n",
    "    t_idx = np.random.randint(0, len(time))\n",
    "    plot_comparison(true_xr.isel(time=t_idx), pred_xr.isel(time=t_idx), f\"{var} Val Sample Timestep {t_idx}\")\n"
   ]
  },
  {
   "cell_type": "markdown",
   "metadata": {},
   "source": [
    "## 🧪 Final Notes\n",
    "\n",
    "This notebook is meant to serve as a **baseline template** — a starting point to help you get up and running quickly with the climate emulation challenge.\n",
    "\n",
    "You are **not** required to stick to this exact setup. In fact, we **encourage** you to:\n",
    "\n",
    "- 🔁 Build on top of the provided `DataModule`. \n",
    "- 🧠 Use your own model architectures or training pipelines that you’re more comfortable with \n",
    "- ⚗️ Experiment with ideas  \n",
    "- 🥇 Compete creatively to climb the Kaggle leaderboard  \n",
    "- 🙌 Most importantly: **have fun** and **learn as much as you can** along the way\n",
    "\n",
    "This challenge simulates a real-world scientific problem, and there’s no single \"correct\" approach — so be curious, experiment boldly, and make it your own!\n"
   ]
  },
  {
   "cell_type": "code",
   "execution_count": 69,
   "metadata": {},
   "outputs": [
    {
     "data": {
      "text/html": [
       "<div>\n",
       "<style scoped>\n",
       "    .dataframe tbody tr th:only-of-type {\n",
       "        vertical-align: middle;\n",
       "    }\n",
       "\n",
       "    .dataframe tbody tr th {\n",
       "        vertical-align: top;\n",
       "    }\n",
       "\n",
       "    .dataframe thead th {\n",
       "        text-align: right;\n",
       "    }\n",
       "</style>\n",
       "<table border=\"1\" class=\"dataframe\">\n",
       "  <thead>\n",
       "    <tr style=\"text-align: right;\">\n",
       "      <th></th>\n",
       "      <th>ID</th>\n",
       "      <th>Prediction</th>\n",
       "    </tr>\n",
       "  </thead>\n",
       "  <tbody>\n",
       "    <tr>\n",
       "      <th>0</th>\n",
       "      <td>t000_tas_-88.59_1.88</td>\n",
       "      <td>241.996110</td>\n",
       "    </tr>\n",
       "    <tr>\n",
       "      <th>1</th>\n",
       "      <td>t000_tas_-88.59_6.88</td>\n",
       "      <td>242.745000</td>\n",
       "    </tr>\n",
       "    <tr>\n",
       "      <th>2</th>\n",
       "      <td>t000_tas_-88.59_11.88</td>\n",
       "      <td>242.295100</td>\n",
       "    </tr>\n",
       "    <tr>\n",
       "      <th>3</th>\n",
       "      <td>t000_tas_-88.59_16.88</td>\n",
       "      <td>242.389100</td>\n",
       "    </tr>\n",
       "    <tr>\n",
       "      <th>4</th>\n",
       "      <td>t000_tas_-88.59_21.88</td>\n",
       "      <td>242.491970</td>\n",
       "    </tr>\n",
       "    <tr>\n",
       "      <th>...</th>\n",
       "      <td>...</td>\n",
       "      <td>...</td>\n",
       "    </tr>\n",
       "    <tr>\n",
       "      <th>2488315</th>\n",
       "      <td>t359_pr_88.59_336.88</td>\n",
       "      <td>0.777610</td>\n",
       "    </tr>\n",
       "    <tr>\n",
       "      <th>2488316</th>\n",
       "      <td>t359_pr_88.59_341.88</td>\n",
       "      <td>0.758484</td>\n",
       "    </tr>\n",
       "    <tr>\n",
       "      <th>2488317</th>\n",
       "      <td>t359_pr_88.59_346.88</td>\n",
       "      <td>0.768392</td>\n",
       "    </tr>\n",
       "    <tr>\n",
       "      <th>2488318</th>\n",
       "      <td>t359_pr_88.59_351.88</td>\n",
       "      <td>0.753233</td>\n",
       "    </tr>\n",
       "    <tr>\n",
       "      <th>2488319</th>\n",
       "      <td>t359_pr_88.59_356.88</td>\n",
       "      <td>0.766220</td>\n",
       "    </tr>\n",
       "  </tbody>\n",
       "</table>\n",
       "<p>2488320 rows × 2 columns</p>\n",
       "</div>"
      ],
      "text/plain": [
       "                            ID  Prediction\n",
       "0         t000_tas_-88.59_1.88  241.996110\n",
       "1         t000_tas_-88.59_6.88  242.745000\n",
       "2        t000_tas_-88.59_11.88  242.295100\n",
       "3        t000_tas_-88.59_16.88  242.389100\n",
       "4        t000_tas_-88.59_21.88  242.491970\n",
       "...                        ...         ...\n",
       "2488315   t359_pr_88.59_336.88    0.777610\n",
       "2488316   t359_pr_88.59_341.88    0.758484\n",
       "2488317   t359_pr_88.59_346.88    0.768392\n",
       "2488318   t359_pr_88.59_351.88    0.753233\n",
       "2488319   t359_pr_88.59_356.88    0.766220\n",
       "\n",
       "[2488320 rows x 2 columns]"
      ]
     },
     "execution_count": 69,
     "metadata": {},
     "output_type": "execute_result"
    }
   ],
   "source": [
    "pd.read_csv('submissions/kaggle_submission_20250522_062724.csv')"
   ]
  },
  {
   "cell_type": "code",
   "execution_count": null,
   "metadata": {},
   "outputs": [],
   "source": []
  }
 ],
 "metadata": {
  "kaggle": {
   "accelerator": "none",
   "dataSources": [],
   "isGpuEnabled": false,
   "isInternetEnabled": true,
   "language": "python",
   "sourceType": "notebook"
  },
  "kernelspec": {
   "display_name": "Python 3 (ipykernel)",
   "language": "python",
   "name": "python3"
  },
  "language_info": {
   "codemirror_mode": {
    "name": "ipython",
    "version": 3
   },
   "file_extension": ".py",
   "mimetype": "text/x-python",
   "name": "python",
   "nbconvert_exporter": "python",
   "pygments_lexer": "ipython3",
   "version": "3.11.9"
  }
 },
 "nbformat": 4,
 "nbformat_minor": 4
}
